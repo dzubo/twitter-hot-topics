{
 "cells": [
  {
   "cell_type": "code",
   "execution_count": 340,
   "metadata": {
    "collapsed": false
   },
   "outputs": [],
   "source": [
    "%matplotlib inline\n",
    "\n",
    "# import modules & set up logging\n",
    "import gensim, logging\n",
    "import pandas as pd\n",
    "import numpy as np\n",
    "from nltk.corpus import stopwords\n",
    "import re\n",
    "\n",
    "import matplotlib.pyplot as plt\n",
    "import seaborn as sns\n",
    "\n",
    "from sklearn.cluster import KMeans\n",
    "from sklearn import metrics"
   ]
  },
  {
   "cell_type": "code",
   "execution_count": null,
   "metadata": {
    "collapsed": true
   },
   "outputs": [],
   "source": [
    "input_file = '../data/input/hist_tweets.csv'\n",
    "df = pd.read_csv(input_file)\n",
    "print('Total {} tweets'.format(len(df)))"
   ]
  },
  {
   "cell_type": "code",
   "execution_count": 344,
   "metadata": {
    "collapsed": false
   },
   "outputs": [
    {
     "data": {
      "text/html": [
       "<div>\n",
       "<table border=\"1\" class=\"dataframe\">\n",
       "  <thead>\n",
       "    <tr style=\"text-align: right;\">\n",
       "      <th></th>\n",
       "      <th>created_at</th>\n",
       "      <th>favorite_count</th>\n",
       "      <th>id</th>\n",
       "      <th>lang</th>\n",
       "      <th>retweet_count</th>\n",
       "      <th>text</th>\n",
       "      <th>user</th>\n",
       "    </tr>\n",
       "  </thead>\n",
       "  <tbody>\n",
       "    <tr>\n",
       "      <th>0</th>\n",
       "      <td>Thu Mar 16 04:16:07 +0000 2017</td>\n",
       "      <td>76.0</td>\n",
       "      <td>842227957863223297</td>\n",
       "      <td>en</td>\n",
       "      <td>39.0</td>\n",
       "      <td>The world's oldest golf club is now open to wo...</td>\n",
       "      <td>807095</td>\n",
       "    </tr>\n",
       "    <tr>\n",
       "      <th>1</th>\n",
       "      <td>Thu Mar 16 04:04:04 +0000 2017</td>\n",
       "      <td>67.0</td>\n",
       "      <td>842224924227964929</td>\n",
       "      <td>en</td>\n",
       "      <td>30.0</td>\n",
       "      <td>\"They call it dangerous and against Islam. But...</td>\n",
       "      <td>807095</td>\n",
       "    </tr>\n",
       "    <tr>\n",
       "      <th>2</th>\n",
       "      <td>Thu Mar 16 03:52:02 +0000 2017</td>\n",
       "      <td>190.0</td>\n",
       "      <td>842221896682860546</td>\n",
       "      <td>en</td>\n",
       "      <td>76.0</td>\n",
       "      <td>The Fed seems to believe that after nearly 8 y...</td>\n",
       "      <td>807095</td>\n",
       "    </tr>\n",
       "    <tr>\n",
       "      <th>3</th>\n",
       "      <td>Thu Mar 16 03:40:05 +0000 2017</td>\n",
       "      <td>NaN</td>\n",
       "      <td>842218887294918657</td>\n",
       "      <td>en</td>\n",
       "      <td>23.0</td>\n",
       "      <td>RT @MichaelPaulson: One more photo from @wecom...</td>\n",
       "      <td>807095</td>\n",
       "    </tr>\n",
       "    <tr>\n",
       "      <th>4</th>\n",
       "      <td>Thu Mar 16 03:35:02 +0000 2017</td>\n",
       "      <td>54.0</td>\n",
       "      <td>842217618723508224</td>\n",
       "      <td>en</td>\n",
       "      <td>26.0</td>\n",
       "      <td>Is your NCAA knowledge as good as your trash-t...</td>\n",
       "      <td>807095</td>\n",
       "    </tr>\n",
       "  </tbody>\n",
       "</table>\n",
       "</div>"
      ],
      "text/plain": [
       "                       created_at  favorite_count                  id lang  \\\n",
       "0  Thu Mar 16 04:16:07 +0000 2017            76.0  842227957863223297   en   \n",
       "1  Thu Mar 16 04:04:04 +0000 2017            67.0  842224924227964929   en   \n",
       "2  Thu Mar 16 03:52:02 +0000 2017           190.0  842221896682860546   en   \n",
       "3  Thu Mar 16 03:40:05 +0000 2017             NaN  842218887294918657   en   \n",
       "4  Thu Mar 16 03:35:02 +0000 2017            54.0  842217618723508224   en   \n",
       "\n",
       "   retweet_count                                               text    user  \n",
       "0           39.0  The world's oldest golf club is now open to wo...  807095  \n",
       "1           30.0  \"They call it dangerous and against Islam. But...  807095  \n",
       "2           76.0  The Fed seems to believe that after nearly 8 y...  807095  \n",
       "3           23.0  RT @MichaelPaulson: One more photo from @wecom...  807095  \n",
       "4           26.0  Is your NCAA knowledge as good as your trash-t...  807095  "
      ]
     },
     "execution_count": 344,
     "metadata": {},
     "output_type": "execute_result"
    }
   ],
   "source": [
    "df.head()"
   ]
  },
  {
   "cell_type": "code",
   "execution_count": 345,
   "metadata": {
    "collapsed": false
   },
   "outputs": [],
   "source": [
    "sentences = [t.text.lower().split() for index, t in df.iterrows()]"
   ]
  },
  {
   "cell_type": "code",
   "execution_count": null,
   "metadata": {
    "collapsed": false
   },
   "outputs": [],
   "source": []
  },
  {
   "cell_type": "code",
   "execution_count": 346,
   "metadata": {
    "collapsed": false
   },
   "outputs": [],
   "source": [
    "def text_to_words(t):\n",
    "    # 1. Remove non-letters\n",
    "    letters_only = re.sub(\"[^a-zA-Z]\", \" \", t)\n",
    "    #\n",
    "    # 3. Convert to lower case, split into individual words\n",
    "    words = letters_only.lower().split()\n",
    "    #\n",
    "    # 4. In Python, searching a set is much faster than searching\n",
    "    #   a list, so convert the stop words to a set\n",
    "    stops = set(stopwords.words(\"english\"))\n",
    "    add_stops = set(['rt', 'http', 'https'])\n",
    "    stops = stops.union(add_stops)\n",
    "    # \n",
    "    # 5. Remove stop words\n",
    "    meaningful_words = [w for w in words if not w in stops]\n",
    "    \n",
    "    return(meaningful_words)"
   ]
  },
  {
   "cell_type": "code",
   "execution_count": 347,
   "metadata": {
    "collapsed": false
   },
   "outputs": [],
   "source": [
    "df['sentences'] = df.apply(lambda x: text_to_words(x.text), axis=1)"
   ]
  },
  {
   "cell_type": "code",
   "execution_count": 348,
   "metadata": {
    "collapsed": false
   },
   "outputs": [
    {
     "data": {
      "text/html": [
       "<div>\n",
       "<table border=\"1\" class=\"dataframe\">\n",
       "  <thead>\n",
       "    <tr style=\"text-align: right;\">\n",
       "      <th></th>\n",
       "      <th>created_at</th>\n",
       "      <th>favorite_count</th>\n",
       "      <th>id</th>\n",
       "      <th>lang</th>\n",
       "      <th>retweet_count</th>\n",
       "      <th>text</th>\n",
       "      <th>user</th>\n",
       "      <th>sentences</th>\n",
       "    </tr>\n",
       "  </thead>\n",
       "  <tbody>\n",
       "    <tr>\n",
       "      <th>0</th>\n",
       "      <td>Thu Mar 16 04:16:07 +0000 2017</td>\n",
       "      <td>76.0</td>\n",
       "      <td>842227957863223297</td>\n",
       "      <td>en</td>\n",
       "      <td>39.0</td>\n",
       "      <td>The world's oldest golf club is now open to wo...</td>\n",
       "      <td>807095</td>\n",
       "      <td>[world, oldest, golf, club, open, women, co, r...</td>\n",
       "    </tr>\n",
       "    <tr>\n",
       "      <th>1</th>\n",
       "      <td>Thu Mar 16 04:04:04 +0000 2017</td>\n",
       "      <td>67.0</td>\n",
       "      <td>842224924227964929</td>\n",
       "      <td>en</td>\n",
       "      <td>30.0</td>\n",
       "      <td>\"They call it dangerous and against Islam. But...</td>\n",
       "      <td>807095</td>\n",
       "      <td>[call, dangerous, islam, neighbors, young, old...</td>\n",
       "    </tr>\n",
       "    <tr>\n",
       "      <th>2</th>\n",
       "      <td>Thu Mar 16 03:52:02 +0000 2017</td>\n",
       "      <td>190.0</td>\n",
       "      <td>842221896682860546</td>\n",
       "      <td>en</td>\n",
       "      <td>76.0</td>\n",
       "      <td>The Fed seems to believe that after nearly 8 y...</td>\n",
       "      <td>807095</td>\n",
       "      <td>[fed, seems, believe, nearly, years, trying, r...</td>\n",
       "    </tr>\n",
       "    <tr>\n",
       "      <th>3</th>\n",
       "      <td>Thu Mar 16 03:40:05 +0000 2017</td>\n",
       "      <td>NaN</td>\n",
       "      <td>842218887294918657</td>\n",
       "      <td>en</td>\n",
       "      <td>23.0</td>\n",
       "      <td>RT @MichaelPaulson: One more photo from @wecom...</td>\n",
       "      <td>807095</td>\n",
       "      <td>[michaelpaulson, one, photo, wecomefromaway, t...</td>\n",
       "    </tr>\n",
       "    <tr>\n",
       "      <th>4</th>\n",
       "      <td>Thu Mar 16 03:35:02 +0000 2017</td>\n",
       "      <td>54.0</td>\n",
       "      <td>842217618723508224</td>\n",
       "      <td>en</td>\n",
       "      <td>26.0</td>\n",
       "      <td>Is your NCAA knowledge as good as your trash-t...</td>\n",
       "      <td>807095</td>\n",
       "      <td>[ncaa, knowledge, good, trash, talk, co, pki, ...</td>\n",
       "    </tr>\n",
       "  </tbody>\n",
       "</table>\n",
       "</div>"
      ],
      "text/plain": [
       "                       created_at  favorite_count                  id lang  \\\n",
       "0  Thu Mar 16 04:16:07 +0000 2017            76.0  842227957863223297   en   \n",
       "1  Thu Mar 16 04:04:04 +0000 2017            67.0  842224924227964929   en   \n",
       "2  Thu Mar 16 03:52:02 +0000 2017           190.0  842221896682860546   en   \n",
       "3  Thu Mar 16 03:40:05 +0000 2017             NaN  842218887294918657   en   \n",
       "4  Thu Mar 16 03:35:02 +0000 2017            54.0  842217618723508224   en   \n",
       "\n",
       "   retweet_count                                               text    user  \\\n",
       "0           39.0  The world's oldest golf club is now open to wo...  807095   \n",
       "1           30.0  \"They call it dangerous and against Islam. But...  807095   \n",
       "2           76.0  The Fed seems to believe that after nearly 8 y...  807095   \n",
       "3           23.0  RT @MichaelPaulson: One more photo from @wecom...  807095   \n",
       "4           26.0  Is your NCAA knowledge as good as your trash-t...  807095   \n",
       "\n",
       "                                           sentences  \n",
       "0  [world, oldest, golf, club, open, women, co, r...  \n",
       "1  [call, dangerous, islam, neighbors, young, old...  \n",
       "2  [fed, seems, believe, nearly, years, trying, r...  \n",
       "3  [michaelpaulson, one, photo, wecomefromaway, t...  \n",
       "4  [ncaa, knowledge, good, trash, talk, co, pki, ...  "
      ]
     },
     "execution_count": 348,
     "metadata": {},
     "output_type": "execute_result"
    }
   ],
   "source": [
    "df.head()"
   ]
  },
  {
   "cell_type": "code",
   "execution_count": 349,
   "metadata": {
    "collapsed": true
   },
   "outputs": [],
   "source": [
    "sentences = df.sentences.tolist()"
   ]
  },
  {
   "cell_type": "code",
   "execution_count": 350,
   "metadata": {
    "collapsed": false
   },
   "outputs": [
    {
     "data": {
      "text/plain": [
       "['world', 'oldest', 'golf', 'club', 'open', 'women', 'co', 'rkorjkabps']"
      ]
     },
     "execution_count": 350,
     "metadata": {},
     "output_type": "execute_result"
    }
   ],
   "source": [
    "sentences[0]"
   ]
  },
  {
   "cell_type": "code",
   "execution_count": 351,
   "metadata": {
    "collapsed": false
   },
   "outputs": [
    {
     "name": "stderr",
     "output_type": "stream",
     "text": [
      "2017-03-16 17:58:56,311 : INFO : collecting all words and their counts\n",
      "2017-03-16 17:58:56,313 : INFO : PROGRESS: at sentence #0, processed 0 words, keeping 0 word types\n",
      "2017-03-16 17:58:56,357 : INFO : PROGRESS: at sentence #10000, processed 131031 words, keeping 30350 word types\n",
      "2017-03-16 17:58:56,416 : INFO : PROGRESS: at sentence #20000, processed 260681 words, keeping 49829 word types\n",
      "2017-03-16 17:58:56,467 : INFO : PROGRESS: at sentence #30000, processed 383693 words, keeping 68821 word types\n",
      "2017-03-16 17:58:56,519 : INFO : PROGRESS: at sentence #40000, processed 501903 words, keeping 84887 word types\n",
      "2017-03-16 17:58:56,590 : INFO : PROGRESS: at sentence #50000, processed 620139 words, keeping 101561 word types\n",
      "2017-03-16 17:58:56,654 : INFO : PROGRESS: at sentence #60000, processed 740335 words, keeping 115164 word types\n",
      "2017-03-16 17:58:56,698 : INFO : collected 128463 word types from a corpus of 852296 raw words and 69037 sentences\n",
      "2017-03-16 17:58:56,699 : INFO : Loading a fresh vocabulary\n",
      "2017-03-16 17:58:56,806 : INFO : min_count=5 retains 14030 unique words (10% of original 128463, drops 114433)\n",
      "2017-03-16 17:58:56,807 : INFO : min_count=5 leaves 709921 word corpus (83% of original 852296, drops 142375)\n",
      "2017-03-16 17:58:56,844 : INFO : deleting the raw counts dictionary of 128463 items\n",
      "2017-03-16 17:58:56,849 : INFO : sample=0.001 downsamples 8 most-common words\n",
      "2017-03-16 17:58:56,850 : INFO : downsampling leaves estimated 623461 word corpus (87.8% of prior 709921)\n",
      "2017-03-16 17:58:56,850 : INFO : estimated required memory for 14030 words and 100 dimensions: 18239000 bytes\n",
      "2017-03-16 17:58:56,906 : INFO : resetting layer weights\n",
      "2017-03-16 17:58:57,075 : INFO : training model with 3 workers on 14030 vocabulary and 100 features, using sg=0 hs=0 sample=0.001 negative=5 window=5\n",
      "2017-03-16 17:58:57,076 : INFO : expecting 69037 sentences, matching count from corpus used for vocabulary survey\n",
      "2017-03-16 17:58:58,103 : INFO : PROGRESS: at 40.34% examples, 1246381 words/s, in_qsize 5, out_qsize 0\n",
      "2017-03-16 17:58:59,108 : INFO : PROGRESS: at 76.25% examples, 1179690 words/s, in_qsize 5, out_qsize 0\n",
      "2017-03-16 17:58:59,674 : INFO : worker thread finished; awaiting finish of 2 more threads\n",
      "2017-03-16 17:58:59,675 : INFO : worker thread finished; awaiting finish of 1 more threads\n",
      "2017-03-16 17:58:59,678 : INFO : worker thread finished; awaiting finish of 0 more threads\n",
      "2017-03-16 17:58:59,678 : INFO : training on 4261480 raw words (3117226 effective words) took 2.6s, 1206179 effective words/s\n"
     ]
    }
   ],
   "source": [
    "logging.basicConfig(format='%(asctime)s : %(levelname)s : %(message)s', level=logging.INFO)\n",
    " \n",
    "model = gensim.models.Word2Vec(sentences, min_count=5)"
   ]
  },
  {
   "cell_type": "code",
   "execution_count": 352,
   "metadata": {
    "collapsed": false
   },
   "outputs": [
    {
     "name": "stderr",
     "output_type": "stream",
     "text": [
      "2017-03-16 17:58:59,716 : INFO : precomputing L2-norms of word weight vectors\n"
     ]
    },
    {
     "data": {
      "text/plain": [
       "[('cia', 0.847872257232666),\n",
       " ('wikileaks', 0.8343443274497986),\n",
       " ('bezos', 0.807282567024231)]"
      ]
     },
     "execution_count": 352,
     "metadata": {},
     "output_type": "execute_result"
    }
   ],
   "source": [
    "model.most_similar(positive=['breaking', 'news'], negative=['old'], topn=3)"
   ]
  },
  {
   "cell_type": "code",
   "execution_count": 353,
   "metadata": {
    "collapsed": false
   },
   "outputs": [
    {
     "data": {
      "text/plain": [
       "'dinner'"
      ]
     },
     "execution_count": 353,
     "metadata": {},
     "output_type": "execute_result"
    }
   ],
   "source": [
    "model.doesnt_match(\"breakfast cereal dinner lunch\".split())"
   ]
  },
  {
   "cell_type": "code",
   "execution_count": 354,
   "metadata": {
    "collapsed": false
   },
   "outputs": [
    {
     "data": {
      "text/plain": [
       "0.9487660909957607"
      ]
     },
     "execution_count": 354,
     "metadata": {},
     "output_type": "execute_result"
    }
   ],
   "source": [
    "model.similarity('woman', 'man')"
   ]
  },
  {
   "cell_type": "markdown",
   "metadata": {},
   "source": [
    "## Google pretrained model"
   ]
  },
  {
   "cell_type": "code",
   "execution_count": 355,
   "metadata": {
    "collapsed": false
   },
   "outputs": [
    {
     "name": "stderr",
     "output_type": "stream",
     "text": [
      "2017-03-16 17:58:59,782 : INFO : loading projection weights from /Users/zubo/Datasets/Word2Vec/GoogleNews-vectors-negative300.bin\n",
      "2017-03-16 17:59:46,380 : INFO : loaded (3000000, 300) matrix from /Users/zubo/Datasets/Word2Vec/GoogleNews-vectors-negative300.bin\n"
     ]
    }
   ],
   "source": [
    "google_file = '/Users/zubo/Datasets/Word2Vec/GoogleNews-vectors-negative300.bin'\n",
    "model_g = gensim.models.KeyedVectors.load_word2vec_format(google_file, binary=True)\n",
    "# model_g = model"
   ]
  },
  {
   "cell_type": "code",
   "execution_count": 356,
   "metadata": {
    "collapsed": false
   },
   "outputs": [
    {
     "data": {
      "text/plain": [
       "0.76640122309953518"
      ]
     },
     "execution_count": 356,
     "metadata": {},
     "output_type": "execute_result"
    }
   ],
   "source": [
    "model_g.similarity('woman', 'man')"
   ]
  },
  {
   "cell_type": "code",
   "execution_count": 357,
   "metadata": {
    "collapsed": false
   },
   "outputs": [
    {
     "name": "stdout",
     "output_type": "stream",
     "text": [
      "No word \"rkorjkabps\" in a vocabulary\n"
     ]
    }
   ],
   "source": [
    "word = 'rkorjkabps'\n",
    "if word in model_g:\n",
    "    print(model_g[word])\n",
    "else:\n",
    "    print('No word \"{}\" in a vocabulary'.format(word))"
   ]
  },
  {
   "cell_type": "code",
   "execution_count": 358,
   "metadata": {
    "collapsed": false
   },
   "outputs": [
    {
     "data": {
      "text/plain": [
       "[True, True, True, True, True, True, True, False]"
      ]
     },
     "execution_count": 358,
     "metadata": {},
     "output_type": "execute_result"
    }
   ],
   "source": [
    "[word in model_g for word in sentences[0]]"
   ]
  },
  {
   "cell_type": "code",
   "execution_count": 359,
   "metadata": {
    "collapsed": false
   },
   "outputs": [],
   "source": [
    "vectors = [model[word] for word in sentences[0] if word in model]"
   ]
  },
  {
   "cell_type": "code",
   "execution_count": 360,
   "metadata": {
    "collapsed": true
   },
   "outputs": [],
   "source": [
    "avg_vector = np.mean(vectors, axis=0)"
   ]
  },
  {
   "cell_type": "code",
   "execution_count": 361,
   "metadata": {
    "collapsed": false
   },
   "outputs": [
    {
     "name": "stdout",
     "output_type": "stream",
     "text": [
      "100\n",
      "[ -5.12198135e-02   4.99166518e-01  -4.80726153e-01   1.62874416e-01\n",
      "   2.28836641e-01   6.90242723e-02  -3.40505540e-01  -5.44730425e-02\n",
      "   9.75900292e-02  -1.66975893e-02   7.49809220e-02  -2.80265838e-01\n",
      "   5.93517840e-01   4.39436227e-01   4.85264927e-01   2.55477726e-01\n",
      "  -3.63610923e-01  -1.84110235e-02  -1.04440935e-01  -3.17772120e-01\n",
      "   3.26018155e-01   4.87235397e-01   3.16727581e-03   6.98925078e-01\n",
      "  -1.00164779e-01   2.44270787e-01   1.77083746e-01  -1.87073946e-01\n",
      "  -4.56259012e-01   5.20500779e-01   2.97380596e-01  -1.74942687e-01\n",
      "   4.30269778e-01   5.29321909e-01  -2.74422258e-01  -3.96813929e-01\n",
      "  -1.35954395e-01   3.78939301e-01  -3.40585053e-01  -4.38812934e-02\n",
      "   1.88534960e-01   1.42334655e-01   6.82094097e-02   6.57810420e-02\n",
      "  -3.41786146e-01   2.85924584e-01  -3.20867687e-01  -2.45651435e-02\n",
      "   1.31933674e-01  -4.28239852e-01  -3.36862989e-02   1.37184680e-01\n",
      "   4.10868935e-02   8.74303933e-03  -5.00453711e-01   6.27462799e-03\n",
      "   4.50151303e-04  -1.65055782e-01   7.80263124e-03  -9.86508578e-02\n",
      "  -4.38323528e-01   3.45154583e-01   5.31570874e-02   3.13533284e-02\n",
      "   5.91284811e-01   3.70086096e-02  -3.67863774e-02   4.34919864e-01\n",
      "   7.95033425e-02   1.84164047e-01  -2.41155356e-01   9.27953646e-02\n",
      "  -2.96351224e-01   2.57211536e-01  -8.03049356e-02   5.78878999e-01\n",
      "   7.91095734e-01   4.50693071e-01   1.98178783e-01  -2.13303834e-01\n",
      "   5.01282746e-03  -1.02358565e-01  -1.15774393e-01  -2.89098978e-01\n",
      "   2.63091385e-01  -3.24069738e-01   1.01412587e-01  -5.39559908e-02\n",
      "   1.57203525e-01  -3.73610735e-01  -4.62478727e-01  -3.74275595e-01\n",
      "  -7.83875585e-02   1.71851739e-01   4.63126838e-01   7.58009497e-03\n",
      "   4.77841467e-01  -4.07939583e-01   2.40129128e-01  -5.38089685e-02]\n"
     ]
    }
   ],
   "source": [
    "print(len(avg_vector))\n",
    "print(avg_vector)"
   ]
  },
  {
   "cell_type": "code",
   "execution_count": 362,
   "metadata": {
    "collapsed": false
   },
   "outputs": [
    {
     "data": {
      "text/plain": [
       "-0.051219814"
      ]
     },
     "execution_count": 362,
     "metadata": {},
     "output_type": "execute_result"
    }
   ],
   "source": [
    "np.mean([vector[0] for vector in vectors])"
   ]
  },
  {
   "cell_type": "markdown",
   "metadata": {},
   "source": [
    "## Average vectors for sentences"
   ]
  },
  {
   "cell_type": "code",
   "execution_count": 363,
   "metadata": {
    "collapsed": true
   },
   "outputs": [],
   "source": [
    "vectors = list()\n",
    "for sentence in sentences:\n",
    "    vectors.append([model[word] for word in sentence\n",
    "                    if word in model])"
   ]
  },
  {
   "cell_type": "code",
   "execution_count": 364,
   "metadata": {
    "collapsed": true
   },
   "outputs": [],
   "source": [
    "# Google\n",
    "vectors_g = list()\n",
    "for sentence in sentences:\n",
    "    vectors_g.append([model_g[word] for word in sentence\n",
    "                    if word in model_g])"
   ]
  },
  {
   "cell_type": "code",
   "execution_count": 365,
   "metadata": {
    "collapsed": true
   },
   "outputs": [],
   "source": [
    "avg_vectors = [np.mean(sentence_vectors, axis=0)\n",
    "               for sentence_vectors in vectors]\n",
    "avg_vectors_g = [np.mean(sentence_vectors, axis=0)\n",
    "               for sentence_vectors in vectors_g]"
   ]
  },
  {
   "cell_type": "code",
   "execution_count": 366,
   "metadata": {
    "collapsed": false
   },
   "outputs": [
    {
     "name": "stdout",
     "output_type": "stream",
     "text": [
      "69037 69037 69037 69037\n"
     ]
    }
   ],
   "source": [
    "print(len(vectors), len(vectors_g), \n",
    "      len(avg_vectors), len(avg_vectors_g))"
   ]
  },
  {
   "cell_type": "code",
   "execution_count": 367,
   "metadata": {
    "collapsed": false
   },
   "outputs": [
    {
     "data": {
      "text/plain": [
       "array([ -5.12198135e-02,   4.99166518e-01,  -4.80726153e-01,\n",
       "         1.62874416e-01,   2.28836641e-01,   6.90242723e-02,\n",
       "        -3.40505540e-01,  -5.44730425e-02,   9.75900292e-02,\n",
       "        -1.66975893e-02,   7.49809220e-02,  -2.80265838e-01,\n",
       "         5.93517840e-01,   4.39436227e-01,   4.85264927e-01,\n",
       "         2.55477726e-01,  -3.63610923e-01,  -1.84110235e-02,\n",
       "        -1.04440935e-01,  -3.17772120e-01,   3.26018155e-01,\n",
       "         4.87235397e-01,   3.16727581e-03,   6.98925078e-01,\n",
       "        -1.00164779e-01,   2.44270787e-01,   1.77083746e-01,\n",
       "        -1.87073946e-01,  -4.56259012e-01,   5.20500779e-01,\n",
       "         2.97380596e-01,  -1.74942687e-01,   4.30269778e-01,\n",
       "         5.29321909e-01,  -2.74422258e-01,  -3.96813929e-01,\n",
       "        -1.35954395e-01,   3.78939301e-01,  -3.40585053e-01,\n",
       "        -4.38812934e-02,   1.88534960e-01,   1.42334655e-01,\n",
       "         6.82094097e-02,   6.57810420e-02,  -3.41786146e-01,\n",
       "         2.85924584e-01,  -3.20867687e-01,  -2.45651435e-02,\n",
       "         1.31933674e-01,  -4.28239852e-01,  -3.36862989e-02,\n",
       "         1.37184680e-01,   4.10868935e-02,   8.74303933e-03,\n",
       "        -5.00453711e-01,   6.27462799e-03,   4.50151303e-04,\n",
       "        -1.65055782e-01,   7.80263124e-03,  -9.86508578e-02,\n",
       "        -4.38323528e-01,   3.45154583e-01,   5.31570874e-02,\n",
       "         3.13533284e-02,   5.91284811e-01,   3.70086096e-02,\n",
       "        -3.67863774e-02,   4.34919864e-01,   7.95033425e-02,\n",
       "         1.84164047e-01,  -2.41155356e-01,   9.27953646e-02,\n",
       "        -2.96351224e-01,   2.57211536e-01,  -8.03049356e-02,\n",
       "         5.78878999e-01,   7.91095734e-01,   4.50693071e-01,\n",
       "         1.98178783e-01,  -2.13303834e-01,   5.01282746e-03,\n",
       "        -1.02358565e-01,  -1.15774393e-01,  -2.89098978e-01,\n",
       "         2.63091385e-01,  -3.24069738e-01,   1.01412587e-01,\n",
       "        -5.39559908e-02,   1.57203525e-01,  -3.73610735e-01,\n",
       "        -4.62478727e-01,  -3.74275595e-01,  -7.83875585e-02,\n",
       "         1.71851739e-01,   4.63126838e-01,   7.58009497e-03,\n",
       "         4.77841467e-01,  -4.07939583e-01,   2.40129128e-01,\n",
       "        -5.38089685e-02], dtype=float32)"
      ]
     },
     "execution_count": 367,
     "metadata": {},
     "output_type": "execute_result"
    }
   ],
   "source": [
    "avg_vectors[0]"
   ]
  },
  {
   "cell_type": "code",
   "execution_count": 368,
   "metadata": {
    "collapsed": true
   },
   "outputs": [],
   "source": [
    "df['avg_vector'] = avg_vectors\n",
    "df['avg_vector_g'] = avg_vectors_g"
   ]
  },
  {
   "cell_type": "markdown",
   "metadata": {},
   "source": [
    "## Tweets per day"
   ]
  },
  {
   "cell_type": "code",
   "execution_count": 369,
   "metadata": {
    "collapsed": false
   },
   "outputs": [
    {
     "data": {
      "text/plain": [
       "2710"
      ]
     },
     "execution_count": 369,
     "metadata": {},
     "output_type": "execute_result"
    }
   ],
   "source": [
    "# Dates 'created_at' not unique:\n",
    "len(df) - len(df.created_at.unique())"
   ]
  },
  {
   "cell_type": "code",
   "execution_count": 370,
   "metadata": {
    "collapsed": true
   },
   "outputs": [],
   "source": [
    "# Convert to datetime\n",
    "df['dt'] = pd.to_datetime(df.created_at)"
   ]
  },
  {
   "cell_type": "code",
   "execution_count": 371,
   "metadata": {
    "collapsed": false
   },
   "outputs": [
    {
     "data": {
      "text/plain": [
       "4"
      ]
     },
     "execution_count": 371,
     "metadata": {},
     "output_type": "execute_result"
    }
   ],
   "source": [
    "df.dt[0].hour"
   ]
  },
  {
   "cell_type": "code",
   "execution_count": 372,
   "metadata": {
    "collapsed": true
   },
   "outputs": [],
   "source": [
    "grouped_day = df.groupby(df['dt'].map(lambda x: x.date()))\n",
    "\n",
    "tweets_per_day = grouped_day.dt.count()\n",
    "\n",
    "tweets_per_day"
   ]
  },
  {
   "cell_type": "code",
   "execution_count": 375,
   "metadata": {
    "collapsed": false
   },
   "outputs": [
    {
     "data": {
      "text/plain": [
       "[<matplotlib.lines.Line2D at 0x12f542d68>]"
      ]
     },
     "execution_count": 375,
     "metadata": {},
     "output_type": "execute_result"
    },
    {
     "data": {
      "image/png": "[encoded data removed]",
      "text/plain": [
       "<matplotlib.figure.Figure at 0x12c4d0400>"
      ]
     },
     "metadata": {},
     "output_type": "display_data"
    }
   ],
   "source": [
    "plt.figure(figsize=(15,5))\n",
    "plt.plot(tweets_per_day)"
   ]
  },
  {
   "cell_type": "markdown",
   "metadata": {},
   "source": [
    "## K-means for all tweets"
   ]
  },
  {
   "cell_type": "code",
   "execution_count": 376,
   "metadata": {
    "collapsed": false
   },
   "outputs": [
    {
     "data": {
      "text/html": [
       "<div>\n",
       "<table border=\"1\" class=\"dataframe\">\n",
       "  <thead>\n",
       "    <tr style=\"text-align: right;\">\n",
       "      <th></th>\n",
       "      <th>created_at</th>\n",
       "      <th>favorite_count</th>\n",
       "      <th>id</th>\n",
       "      <th>lang</th>\n",
       "      <th>retweet_count</th>\n",
       "      <th>text</th>\n",
       "      <th>user</th>\n",
       "      <th>sentences</th>\n",
       "      <th>avg_vector</th>\n",
       "      <th>avg_vector_g</th>\n",
       "      <th>dt</th>\n",
       "    </tr>\n",
       "  </thead>\n",
       "  <tbody>\n",
       "    <tr>\n",
       "      <th>69032</th>\n",
       "      <td>Fri Feb 24 20:35:06 +0000 2017</td>\n",
       "      <td>59.0</td>\n",
       "      <td>835226570461696003</td>\n",
       "      <td>en</td>\n",
       "      <td>39.0</td>\n",
       "      <td>These 3 counties could have flipped the 2016 e...</td>\n",
       "      <td>14293310</td>\n",
       "      <td>[counties, could, flipped, election, hillary, ...</td>\n",
       "      <td>[0.146926, 0.169684, -0.580357, 0.203427, -0.1...</td>\n",
       "      <td>[-0.0326172, 0.0321167, -0.00830307, 0.127155,...</td>\n",
       "      <td>2017-02-24 20:35:06</td>\n",
       "    </tr>\n",
       "    <tr>\n",
       "      <th>69033</th>\n",
       "      <td>Fri Feb 24 20:30:06 +0000 2017</td>\n",
       "      <td>94.0</td>\n",
       "      <td>835225311373627396</td>\n",
       "      <td>en</td>\n",
       "      <td>93.0</td>\n",
       "      <td>Kansas shooting victim's father warns Indian p...</td>\n",
       "      <td>14293310</td>\n",
       "      <td>[kansas, shooting, victim, father, warns, indi...</td>\n",
       "      <td>[-0.0366573, 0.689207, -0.475937, 0.161824, 0....</td>\n",
       "      <td>[-0.0503152, -0.000549316, 0.0387518, 0.134588...</td>\n",
       "      <td>2017-02-24 20:30:06</td>\n",
       "    </tr>\n",
       "    <tr>\n",
       "      <th>69034</th>\n",
       "      <td>Fri Feb 24 20:20:07 +0000 2017</td>\n",
       "      <td>51.0</td>\n",
       "      <td>835222800491294721</td>\n",
       "      <td>en</td>\n",
       "      <td>41.0</td>\n",
       "      <td>The Internet already has some amazing names fo...</td>\n",
       "      <td>14293310</td>\n",
       "      <td>[internet, already, amazing, names, nasa, new,...</td>\n",
       "      <td>[0.0434135, 0.393781, -0.4351, 0.238261, -0.01...</td>\n",
       "      <td>[0.00876194, 0.0414361, 0.0324029, 0.0644463, ...</td>\n",
       "      <td>2017-02-24 20:20:07</td>\n",
       "    </tr>\n",
       "    <tr>\n",
       "      <th>69035</th>\n",
       "      <td>Fri Feb 24 20:11:49 +0000 2017</td>\n",
       "      <td>670.0</td>\n",
       "      <td>835220708477308928</td>\n",
       "      <td>en</td>\n",
       "      <td>310.0</td>\n",
       "      <td>See how Meryl Streep reacted to every one of h...</td>\n",
       "      <td>14293310</td>\n",
       "      <td>[see, meryl, streep, reacted, every, one, osca...</td>\n",
       "      <td>[0.115015, 0.689542, -0.279323, 0.104871, 0.00...</td>\n",
       "      <td>[-0.153727, -0.0620355, 0.0179036, 0.0289442, ...</td>\n",
       "      <td>2017-02-24 20:11:49</td>\n",
       "    </tr>\n",
       "    <tr>\n",
       "      <th>69036</th>\n",
       "      <td>Fri Feb 24 20:00:28 +0000 2017</td>\n",
       "      <td>26.0</td>\n",
       "      <td>835217854496706560</td>\n",
       "      <td>en</td>\n",
       "      <td>12.0</td>\n",
       "      <td>Should you buy the Nintendo Switch? Here?s how...</td>\n",
       "      <td>14293310</td>\n",
       "      <td>[buy, nintendo, switch, decide, co, wcpsfveu]</td>\n",
       "      <td>[0.111213, 0.32377, -0.325466, 0.173055, -0.07...</td>\n",
       "      <td>[0.00983887, -0.0367187, 0.00449219, 0.159424,...</td>\n",
       "      <td>2017-02-24 20:00:28</td>\n",
       "    </tr>\n",
       "  </tbody>\n",
       "</table>\n",
       "</div>"
      ],
      "text/plain": [
       "                           created_at  favorite_count                  id  \\\n",
       "69032  Fri Feb 24 20:35:06 +0000 2017            59.0  835226570461696003   \n",
       "69033  Fri Feb 24 20:30:06 +0000 2017            94.0  835225311373627396   \n",
       "69034  Fri Feb 24 20:20:07 +0000 2017            51.0  835222800491294721   \n",
       "69035  Fri Feb 24 20:11:49 +0000 2017           670.0  835220708477308928   \n",
       "69036  Fri Feb 24 20:00:28 +0000 2017            26.0  835217854496706560   \n",
       "\n",
       "      lang  retweet_count                                               text  \\\n",
       "69032   en           39.0  These 3 counties could have flipped the 2016 e...   \n",
       "69033   en           93.0  Kansas shooting victim's father warns Indian p...   \n",
       "69034   en           41.0  The Internet already has some amazing names fo...   \n",
       "69035   en          310.0  See how Meryl Streep reacted to every one of h...   \n",
       "69036   en           12.0  Should you buy the Nintendo Switch? Here?s how...   \n",
       "\n",
       "           user                                          sentences  \\\n",
       "69032  14293310  [counties, could, flipped, election, hillary, ...   \n",
       "69033  14293310  [kansas, shooting, victim, father, warns, indi...   \n",
       "69034  14293310  [internet, already, amazing, names, nasa, new,...   \n",
       "69035  14293310  [see, meryl, streep, reacted, every, one, osca...   \n",
       "69036  14293310      [buy, nintendo, switch, decide, co, wcpsfveu]   \n",
       "\n",
       "                                              avg_vector  \\\n",
       "69032  [0.146926, 0.169684, -0.580357, 0.203427, -0.1...   \n",
       "69033  [-0.0366573, 0.689207, -0.475937, 0.161824, 0....   \n",
       "69034  [0.0434135, 0.393781, -0.4351, 0.238261, -0.01...   \n",
       "69035  [0.115015, 0.689542, -0.279323, 0.104871, 0.00...   \n",
       "69036  [0.111213, 0.32377, -0.325466, 0.173055, -0.07...   \n",
       "\n",
       "                                            avg_vector_g                  dt  \n",
       "69032  [-0.0326172, 0.0321167, -0.00830307, 0.127155,... 2017-02-24 20:35:06  \n",
       "69033  [-0.0503152, -0.000549316, 0.0387518, 0.134588... 2017-02-24 20:30:06  \n",
       "69034  [0.00876194, 0.0414361, 0.0324029, 0.0644463, ... 2017-02-24 20:20:07  \n",
       "69035  [-0.153727, -0.0620355, 0.0179036, 0.0289442, ... 2017-02-24 20:11:49  \n",
       "69036  [0.00983887, -0.0367187, 0.00449219, 0.159424,... 2017-02-24 20:00:28  "
      ]
     },
     "execution_count": 376,
     "metadata": {},
     "output_type": "execute_result"
    }
   ],
   "source": [
    "df.tail()"
   ]
  },
  {
   "cell_type": "code",
   "execution_count": null,
   "metadata": {
    "collapsed": false
   },
   "outputs": [],
   "source": []
  },
  {
   "cell_type": "code",
   "execution_count": 377,
   "metadata": {
    "collapsed": true
   },
   "outputs": [],
   "source": [
    "X = np.array(df.avg_vector.tolist(), ndmin=2)"
   ]
  },
  {
   "cell_type": "code",
   "execution_count": 378,
   "metadata": {
    "collapsed": false
   },
   "outputs": [
    {
     "data": {
      "text/plain": [
       "(69037, 100)"
      ]
     },
     "execution_count": 378,
     "metadata": {},
     "output_type": "execute_result"
    }
   ],
   "source": [
    "X.shape"
   ]
  },
  {
   "cell_type": "code",
   "execution_count": 379,
   "metadata": {
    "collapsed": false
   },
   "outputs": [
    {
     "data": {
      "text/plain": [
       "array([[  2.55119592e-01,   4.00692433e-01,  -8.17125916e-01,\n",
       "          2.35350966e-01,  -4.08618480e-01,  -1.40297562e-01,\n",
       "         -6.88625649e-02,  -2.57175267e-01,   2.34878689e-01,\n",
       "          7.52583742e-02,   5.02110004e-01,  -1.62980437e-01,\n",
       "          6.61853194e-01,   1.83695525e-01,   7.58459568e-01,\n",
       "          6.78701103e-01,   9.90167409e-02,  -1.11932382e-01,\n",
       "         -8.45166296e-02,  -6.13621712e-01,   2.33757362e-01,\n",
       "          4.33373690e-01,   5.19254729e-02,   6.98715806e-01,\n",
       "         -1.59127444e-01,   5.88871203e-02,   9.24922153e-02,\n",
       "         -8.95157009e-02,  -1.11878142e-01,  -2.25974753e-01,\n",
       "         -1.24775171e-02,  -4.58515018e-01,   5.48157275e-01,\n",
       "          5.10980725e-01,  -5.22743106e-01,  -4.93189633e-01,\n",
       "         -2.42555186e-01,   1.07732251e-01,  -2.99459010e-01,\n",
       "          1.15841448e-01,   2.94252217e-01,   2.18388900e-01,\n",
       "         -4.10411432e-02,  -2.12219909e-01,  -1.72437727e-03,\n",
       "          2.88701594e-01,  -2.45627373e-01,  -2.87184298e-01,\n",
       "         -3.11987311e-01,  -3.54063869e-01,  -5.70645109e-02,\n",
       "         -1.77381989e-02,   7.62885064e-02,   7.88987726e-02,\n",
       "         -5.93351603e-01,   4.59936917e-01,  -3.61697078e-01,\n",
       "         -3.25752228e-01,   1.03748655e-02,  -3.95694137e-01,\n",
       "         -5.73505998e-01,   3.20639163e-01,  -1.23873144e-01,\n",
       "         -6.50555789e-02,   1.24663591e-01,  -1.14272311e-01,\n",
       "         -1.51420385e-01,   2.56623805e-01,   6.86670393e-02,\n",
       "         -2.20055252e-01,  -8.47658813e-02,   3.98350835e-01,\n",
       "         -5.61806321e-01,   2.77993619e-01,   2.05243453e-01,\n",
       "          3.07475716e-01,   8.21394563e-01,   4.28855449e-01,\n",
       "          1.28653318e-01,   1.51574358e-01,   2.56718755e-01,\n",
       "         -3.08052361e-01,  -5.81461668e-01,  -4.67207551e-01,\n",
       "          1.85182899e-01,   1.72204077e-01,  -2.91607350e-01,\n",
       "          6.52750134e-02,  -4.14069921e-01,  -1.76135153e-02,\n",
       "         -5.51818550e-01,   1.25528246e-01,  -2.07192823e-02,\n",
       "          8.11436623e-02,   3.60283345e-01,   6.66712299e-02,\n",
       "          5.04767060e-01,  -4.87420946e-01,   2.76387632e-01,\n",
       "         -2.97816366e-01],\n",
       "       [  7.51367956e-02,   7.66447127e-01,  -3.71888071e-01,\n",
       "          1.87511727e-01,  -1.90661281e-01,  -5.16520023e-01,\n",
       "          1.44834727e-01,   1.14035487e-01,  -3.37052405e-01,\n",
       "          9.52829197e-02,  -2.20225006e-02,  -3.45002770e-01,\n",
       "          6.85791850e-01,   4.46006864e-01,  -8.88252258e-02,\n",
       "          3.36732179e-01,  -4.39435065e-01,   2.45777875e-01,\n",
       "         -2.58173257e-01,  -4.86538112e-01,   5.51994026e-01,\n",
       "          2.20850065e-01,   5.34843564e-01,   7.19387710e-01,\n",
       "          2.67267734e-01,   1.51432559e-01,   3.25709581e-03,\n",
       "         -3.06042135e-01,  -4.15251851e-01,   5.14613569e-01,\n",
       "         -8.40238780e-02,  -6.65142179e-01,   5.40281773e-01,\n",
       "          7.97144473e-02,  -2.85784811e-01,  -7.48995423e-01,\n",
       "         -1.40612811e-01,   2.68472403e-01,  -1.81330308e-01,\n",
       "          2.66058922e-01,   1.61055326e-01,   2.95779407e-02,\n",
       "          2.01084360e-01,   1.03995681e-01,  -6.41996682e-01,\n",
       "         -9.94010866e-02,  -2.16797382e-01,  -1.03568166e-01,\n",
       "         -8.95082951e-03,  -7.66998768e-01,   8.06878060e-02,\n",
       "          2.92873904e-02,   1.99416615e-02,   3.43628049e-01,\n",
       "         -2.41669536e-01,   1.72726318e-01,   4.74263310e-01,\n",
       "         -3.60163271e-01,   3.20942439e-02,  -1.10526040e-01,\n",
       "         -2.00447619e-01,   4.86071199e-01,  -2.11051792e-01,\n",
       "          1.59127235e-01,   5.22258341e-01,   1.04615934e-01,\n",
       "          8.39445367e-02,   4.84592855e-01,   1.87934011e-01,\n",
       "          2.83808142e-01,  -4.14283156e-01,   1.07244894e-01,\n",
       "         -3.77410829e-01,   3.67397726e-01,   4.73944545e-02,\n",
       "          6.34753585e-01,   4.06595647e-01,  -9.52927768e-03,\n",
       "          1.08557574e-01,  -2.63497710e-01,   1.30407244e-01,\n",
       "         -6.95956647e-02,  -3.74355108e-01,  -3.95455867e-01,\n",
       "          5.23219585e-01,  -2.12563127e-01,   3.09248090e-01,\n",
       "         -1.15634643e-01,   3.19019616e-01,  -3.95673811e-01,\n",
       "         -5.90028644e-01,  -2.63125986e-01,  -1.91423982e-01,\n",
       "         -4.01357949e-01,  -1.80572271e-03,   9.87755284e-02,\n",
       "          6.68669581e-01,  -1.59582406e-01,  -1.25298649e-01,\n",
       "         -1.52182102e-01],\n",
       "       [  4.25294898e-02,   3.00918460e-01,  -6.25076950e-01,\n",
       "          1.58697635e-01,  -8.16403255e-02,  -1.52503699e-01,\n",
       "         -8.75932425e-02,  -6.19094074e-03,   1.60461918e-01,\n",
       "          7.25134164e-02,   2.29689494e-01,  -1.61346152e-01,\n",
       "          4.75845993e-01,   1.36732697e-01,   6.11973941e-01,\n",
       "          5.34163952e-01,  -5.29136658e-02,  -3.62884551e-02,\n",
       "         -2.15989470e-01,  -3.04152995e-01,   1.40111417e-01,\n",
       "          3.02516729e-01,   1.10264286e-01,   5.06516278e-01,\n",
       "         -2.32583769e-02,   5.58067858e-03,   1.31078452e-01,\n",
       "         -8.40193927e-02,  -2.03444362e-01,   7.60462582e-02,\n",
       "          6.97534233e-02,  -3.14031005e-01,   5.47595024e-01,\n",
       "          3.11550468e-01,  -2.44351000e-01,  -4.86170799e-01,\n",
       "         -1.56357527e-01,   1.12769455e-01,  -3.46150964e-01,\n",
       "          1.09334989e-03,   2.03863800e-01,   1.90403253e-01,\n",
       "         -2.23419517e-02,  -5.36468029e-02,  -9.46010575e-02,\n",
       "          1.56900555e-01,  -3.06719273e-01,  -1.15357265e-01,\n",
       "         -2.52562702e-01,  -3.20036083e-01,  -3.17463949e-02,\n",
       "          4.18307669e-02,  -7.76117444e-02,  -2.97145434e-02,\n",
       "         -3.35593611e-01,   2.37285167e-01,  -1.21383965e-02,\n",
       "         -1.92818269e-01,   1.36997448e-02,  -3.78832340e-01,\n",
       "         -3.89048189e-01,   3.63429517e-01,  -4.81671467e-03,\n",
       "          6.93913698e-02,   2.92846501e-01,   4.11957130e-02,\n",
       "         -2.85860542e-02,   2.32674822e-01,   9.89613682e-02,\n",
       "          7.39338100e-02,  -1.99158460e-01,   2.80046701e-01,\n",
       "         -3.90038222e-01,   2.51165777e-01,   1.78288341e-01,\n",
       "          3.63719225e-01,   6.28044546e-01,   1.63933530e-01,\n",
       "          7.26931095e-02,  -1.92360848e-01,  -5.07651456e-02,\n",
       "         -2.34901771e-01,  -2.55210489e-01,  -4.62688088e-01,\n",
       "          1.19159527e-01,  -3.51532921e-02,  -9.44620445e-02,\n",
       "         -4.29047942e-02,  -5.77767715e-02,  -1.62252352e-01,\n",
       "         -3.79283607e-01,  -8.57990086e-02,   9.82641876e-02,\n",
       "          8.20893049e-02,   4.27254409e-01,  -1.84800699e-02,\n",
       "          3.70769382e-01,  -4.50864166e-01,   2.26116776e-01,\n",
       "         -1.70683414e-01],\n",
       "       [  1.44828886e-01,   3.37717235e-01,  -2.43891776e-01,\n",
       "          1.50015622e-01,  -6.15276545e-02,  -3.21295202e-01,\n",
       "          6.47256076e-02,   1.89791664e-01,  -4.65020686e-02,\n",
       "          1.21198796e-01,   1.36293411e-01,  -2.88447797e-01,\n",
       "          5.06696820e-01,   1.68872640e-01,   4.42614198e-01,\n",
       "          2.64795482e-01,  -3.47632766e-01,   1.89160287e-01,\n",
       "         -1.90040588e-01,  -2.26366013e-01,   1.72866017e-01,\n",
       "          4.21291977e-01,   2.36638770e-01,   4.57266629e-01,\n",
       "          7.19296411e-02,  -2.83114240e-02,   2.39590973e-01,\n",
       "         -7.04530329e-02,  -2.74817705e-01,   3.45403790e-01,\n",
       "          1.73115060e-01,  -3.14697623e-01,   5.61164200e-01,\n",
       "          3.45255584e-01,  -3.15272838e-01,  -3.98349732e-01,\n",
       "         -1.40040755e-01,   7.51232654e-02,  -1.54443800e-01,\n",
       "         -1.01827830e-01,   1.05338380e-01,   2.48309091e-01,\n",
       "         -1.36310622e-01,   2.15179428e-01,  -6.63591325e-02,\n",
       "          1.14874393e-01,  -3.42930019e-01,  -7.09341913e-02,\n",
       "         -7.82037303e-02,  -3.79573405e-01,   1.43680200e-02,\n",
       "         -1.11246958e-01,  -4.65886295e-02,   1.36978358e-01,\n",
       "         -2.80831695e-01,   1.06315330e-01,   2.78422266e-01,\n",
       "         -1.95947513e-01,  -5.83929047e-02,  -3.00116479e-01,\n",
       "         -3.72797400e-01,   1.06811121e-01,  -1.08155787e-01,\n",
       "          1.67911053e-01,   3.83081108e-01,   2.18428671e-01,\n",
       "         -9.48046893e-02,   3.93467128e-01,   2.39411563e-01,\n",
       "          1.00814842e-01,  -2.42836565e-01,   1.96942806e-01,\n",
       "         -5.55826247e-01,   3.67791802e-01,   1.69779211e-01,\n",
       "          3.42945188e-01,   4.63445753e-01,   1.77559048e-01,\n",
       "          2.47489616e-01,  -2.60026991e-01,   6.68934584e-02,\n",
       "         -1.89469859e-01,  -2.04742447e-01,  -3.64086151e-01,\n",
       "          1.17459975e-01,  -1.80613980e-01,   1.57562137e-01,\n",
       "         -2.50972390e-01,  -1.23467874e-02,  -2.56389320e-01,\n",
       "         -2.32974291e-01,  -2.62148112e-01,   1.87217534e-01,\n",
       "         -2.08278328e-01,   4.20645356e-01,  -4.02121395e-02,\n",
       "          4.66370881e-01,  -4.87514019e-01,   1.34353429e-01,\n",
       "         -2.06995502e-01],\n",
       "       [  2.49922276e-04,   5.46916127e-01,  -3.90276164e-01,\n",
       "          1.34702668e-01,   1.61263451e-01,  -8.77232924e-02,\n",
       "         -2.09948927e-01,   4.67813760e-02,   2.55694091e-01,\n",
       "          9.85134766e-02,   2.13148981e-01,  -2.62950987e-01,\n",
       "          4.96522784e-01,   2.14491606e-01,   5.26415527e-01,\n",
       "          3.39958072e-01,  -4.87772822e-02,   3.76748145e-02,\n",
       "         -1.45921141e-01,  -2.74036258e-01,   3.24926406e-01,\n",
       "          2.47418016e-01,   1.40091792e-01,   5.26670933e-01,\n",
       "          4.05381322e-02,   8.65447819e-02,   2.44971544e-01,\n",
       "         -1.17305242e-01,  -3.61264557e-01,   3.66195142e-01,\n",
       "          1.73570096e-01,  -3.18470776e-01,   4.77388471e-01,\n",
       "          3.13097179e-01,  -2.00914577e-01,  -3.34465265e-01,\n",
       "         -5.53433299e-02,   2.37239480e-01,  -3.99367929e-01,\n",
       "          2.92409547e-02,   1.26486525e-01,   9.67059433e-02,\n",
       "          2.88448483e-02,   1.39179200e-01,  -3.06690514e-01,\n",
       "          4.40218523e-02,  -3.89285177e-01,   7.92608261e-02,\n",
       "         -2.28268981e-01,  -2.78259933e-01,  -5.67496791e-02,\n",
       "          6.42421395e-02,  -8.71514603e-02,   9.23696905e-04,\n",
       "         -3.88360679e-01,  -5.55874705e-02,   2.40541562e-01,\n",
       "         -1.92972869e-01,   3.84037606e-02,  -3.75917792e-01,\n",
       "         -4.52579677e-01,   2.48908252e-01,   2.69512013e-02,\n",
       "          2.28529349e-01,   5.84131479e-01,   6.44212067e-02,\n",
       "          1.24877393e-02,   3.68814230e-01,   1.65388688e-01,\n",
       "          2.09442943e-01,  -2.23026186e-01,  -1.06513023e-01,\n",
       "         -3.02259028e-01,   1.77678078e-01,   1.45812318e-01,\n",
       "          4.58972245e-01,   4.11001921e-01,   1.03648148e-01,\n",
       "          2.93216825e-01,  -1.52551100e-01,  -2.40184635e-01,\n",
       "         -2.26238266e-01,  -8.36248845e-02,  -3.12765241e-01,\n",
       "          4.33099642e-02,  -2.94021100e-01,   7.06949756e-02,\n",
       "         -9.92617458e-02,   1.02220327e-01,  -9.67754126e-02,\n",
       "         -2.45339066e-01,  -4.12580103e-01,   1.07430831e-01,\n",
       "         -1.87877566e-03,   3.73315603e-01,  -4.54476848e-03,\n",
       "          2.33926579e-01,  -3.75591099e-01,   1.04404315e-01,\n",
       "         -1.64926201e-01]], dtype=float32)"
      ]
     },
     "execution_count": 379,
     "metadata": {},
     "output_type": "execute_result"
    }
   ],
   "source": [
    "# kmeans = KMeans(n_clusters=20, random_state=0).fit(X)\n",
    "kmeans = KMeans(n_clusters=5, random_state=0).fit(X)\n",
    "kmeans.labels_\n",
    "\n",
    "kmeans.cluster_centers_\n"
   ]
  },
  {
   "cell_type": "code",
   "execution_count": 380,
   "metadata": {
    "collapsed": false
   },
   "outputs": [
    {
     "data": {
      "text/plain": [
       "69037"
      ]
     },
     "execution_count": 380,
     "metadata": {},
     "output_type": "execute_result"
    }
   ],
   "source": [
    "len(kmeans.labels_)"
   ]
  },
  {
   "cell_type": "code",
   "execution_count": 381,
   "metadata": {
    "collapsed": true
   },
   "outputs": [],
   "source": [
    "df['cluster'] = kmeans.labels_"
   ]
  },
  {
   "cell_type": "code",
   "execution_count": 382,
   "metadata": {
    "collapsed": false
   },
   "outputs": [
    {
     "data": {
      "text/plain": [
       "['BBC\\'s \"Countryfile\" is perhaps best described as pastoral porn https://t.co/4yr8xwgLLY',\n",
       " 'The best countries in the world, per a new survey:\\n1. ??\\n2. ??\\n3. ??\\n4. ??\\n https://t.co/SqOP4uK83n',\n",
       " 'The best countries in the world, per a new survey:\\n1. ??\\n2. ??\\n3. ??\\n4. ??\\n https://t.co/ZWYBE72GEF',\n",
       " '?Saturday Night Live? Shows a Milder Political Side https://t.co/EM8DMgt9Fe',\n",
       " 'Will the Oscar wins give \"Moonlight\" a box-office bump? https://t.co/UIB9RqLSg3',\n",
       " 'The best movies and TV shows new to Netflix, Hulu, Amazon and HBO in March https://t.co/okBpW4fPdK https://t.co/nkGKqzsVXn',\n",
       " 'Moviegoers in London expecting to see \"Moonlight\" were instead treated to the first 20 seconds of \"La La Land\" https://t.co/z3GV2aALft',\n",
       " 'The best movies and TV shows new to Netflix, Hulu, Amazon and HBO in March https://t.co/bFxiO6HBlV https://t.co/3RCqKa7Lrk',\n",
       " 'The best movies and TV shows new to Netflix, Hulu, Amazon and HBO in March https://t.co/FaFNqAU4o6 https://t.co/mNwABNg4I3',\n",
       " 'The best movies and TV shows new to Netflix, Hulu, Amazon and HBO in March https://t.co/EtvtAamiob https://t.co/x3gQvONcsV',\n",
       " '2 PwC accountants in Oscars mix-up won?t be back, academy says https://t.co/YPWgwdfGft',\n",
       " 'The best movies and TV shows new to Netflix, Hulu, Amazon and HBO in March https://t.co/ZY5sDuUdqo https://t.co/0g2qlFR5Qy',\n",
       " '2 PwC accountants in Oscars mix-up won?t be back, academy says https://t.co/bLvYe5EFYY',\n",
       " '?Gary From Chicago,? Oscar Ceremony Star, Has Quite a Back Story https://t.co/cGkT97nBhu',\n",
       " \"What happens when man's best friend is a monkey? https://t.co/09I1QebHzx\",\n",
       " 'The Oscars had their most chaotic conclusion ever on Sunday night, but a relatively small audience was watching it https://t.co/2eWF5WtXbI',\n",
       " 'After the Oscars mistake, PwC had a major brand crisis on its hands https://t.co/BaJE5f6rYF',\n",
       " 'After the Oscars mistake, PwC had a major brand crisis on its hands https://t.co/JPbBoHPiKZ',\n",
       " 'What it was like onstage during the Oscars 2017 best picture mistake https://t.co/ynm7lC1xRP',\n",
       " '3 NYT critics share their reactions to the wrong best picture being announced at the Oscars https://t.co/9VDZmSz5XO https://t.co/jCMUMgdPFo',\n",
       " 'Oscars mistake casts an unwanted spotlight on  PricewaterhouseCoopers https://t.co/p0uH12qAUf',\n",
       " 'The best and worst of the Oscars https://t.co/HmoHfyoQW3 https://t.co/A34U482a8e',\n",
       " 'What it was like onstage during the Oscars 2017 best picture mistake https://t.co/LSjH928wD3',\n",
       " \"6 highlights from Jimmy Kimmel's opening monologue at the Oscars https://t.co/Vx3Cuf2ppK\",\n",
       " \"Here's a full list of the 2017 Oscar winners https://t.co/pk5K6m5nGt\",\n",
       " \"The Oscars' in memoriam montage showed an Australian producer who is still alive https://t.co/Fk1Kb8ikSW\",\n",
       " \"Here's a transcript of the Oscar best-picture mixup, from beginning to end https://t.co/BbCbkjBlWF\",\n",
       " 'One NYT reader\\'s reaction after \"La La Land\" was mistakenly named best picture at the Oscars instead of \"Moonlight\"? https://t.co/Igtm9l34OA',\n",
       " '3 NYT critics share their reactions to the wrong best picture being announced at the Oscars https://t.co/553gmEkR0p',\n",
       " 'RT @Watching: \"Moonlight\" won three Oscars last night (yes, including best picture.) You can stream it via Amazon https://t.co/urgNp88yj5 h?',\n",
       " 'PricewaterhouseCoopers made such an enormous mistake at such a pivotal moment during the Oscars https://t.co/osxeRxp8Le',\n",
       " \"Our photographer was backstage at the Oscars to capture the night's big moments. Few people get this kind of access? https://t.co/dw2F6RC9O6\",\n",
       " '\"The presenters had mistakenly been given the wrong category envelope.\" PwC apologized for the Oscars mix-up:? https://t.co/OU5xoVAKYc',\n",
       " 'After the wrong Oscar winner was announced, the words ?WHAT IS HAPPENING?? trended on Twitter https://t.co/ohKs8gXuf8',\n",
       " 'Barry Jenkins narrates a scene from \"Moonlight\" https://t.co/djkTB4jyH2',\n",
       " 'The best and worst of the Oscars https://t.co/ghW8i7hFuS https://t.co/PeqQttwuDM',\n",
       " \"The Oscars' in memoriam montage showed an Australian producer who is still alive https://t.co/Yu9pMR8msg\",\n",
       " 'Highlights from the Oscar acceptance speeches https://t.co/kvqVEI1YpE https://t.co/WUU2wBTPUm',\n",
       " \"6 highlights from Jimmy Kimmel's opening monologue at the #Oscars https://t.co/IBvsB1eyfH\",\n",
       " \"Here's where to stream the 2017 Oscar winners: https://t.co/0651GsgTj7\",\n",
       " '\"The presenters had mistakenly been given the wrong category envelope.\" PwC apologized for the Oscars mix-up:? https://t.co/RkUSTNhw0I',\n",
       " \"Here's a full list of the 2017 Oscar winners https://t.co/mL8DaYWOXM\",\n",
       " \"Here's a transcript of the Oscar best-picture mixup, from beginning to end. Grab your popcorn. https://t.co/z9YeSelMhA\",\n",
       " 'Video: \"La La Land\" was announced as the winner of the best picture Oscar. But then something bewildering happened.? https://t.co/OiLDVam5jb',\n",
       " 'Talk about a Hollywood ending. \"Moonlight\" won best picture, but only after \"La La Land\" was mistakenly announced. https://t.co/Zl6jiY99vR',\n",
       " 'The NYT review of \"Moonlight\" https://t.co/CzMV7BLDpI',\n",
       " \"Here's a full list of the 2017 Oscar winners https://t.co/ci7xixfULs\",\n",
       " 'The best-picture mixup: It was \"La La Land,\" until it was \"Moonlight\" https://t.co/D1ddIy4wn8 https://t.co/bFMAAhN7ar',\n",
       " \"Kevin O?Connell's win broke a 20-nomination losing streak, the longest streak in #Oscars history https://t.co/MKc0Y3FOot\",\n",
       " 'Jimmy Kimmel tried to draw humor from the name of Mahershala Ali, as well as tourists he brought into the #Oscars https://t.co/dkxGwceu69',\n",
       " 'In his Oscars opening monologue, Jimmy Kimmel led a standing ovation for Meryl Streep and her ?lackluster career?? https://t.co/9Ry94LNrqT',\n",
       " \"Here's a full list of the 2017 Oscar winners https://t.co/WuFeYfxInk\",\n",
       " 'Talk about a Hollywood ending. \"Moonlight\" won best picture, but only after \"La La Land\" was mistakenly announced. https://t.co/tzlc0ZQIBS',\n",
       " 'Faces in the crowd as ?Moonlight? was named best picture. In a bewildering end to the show, ?La La Land? was first? https://t.co/gBLI4ZZQ8s',\n",
       " 'RT @nytvideo: And the winner is ... ?Moonlight? ? not ?La La Land? https://t.co/YXHKXkqfUq #Oscars https://t.co/Ihkbwco3qc',\n",
       " \"Here's a full list of the 2017 Oscar winners https://t.co/toykvrKqRA\",\n",
       " 'And the winner is ... \"Moonlight\" ? not \"La La Land\" https://t.co/Y5eJehxEbp',\n",
       " 'Talk about a Hollywood ending. \"Moonlight\" won best picture, but only after \"La La Land\" was mistakenly announced. https://t.co/G9ijEoUYp8',\n",
       " '\"Moonlight\" won the Oscar for best picture. \"La La Land\" was first announced as the winner. https://t.co/P8KiyG0eng https://t.co/Z8WNtjbTOk',\n",
       " '\"La La Land\" just won the Oscar for best picture. See our full list of winners. https://t.co/bU0az9oTtz',\n",
       " 'Emma Stone \"makes it all look effortless\" https://t.co/Fq72XL943o',\n",
       " 'Emma Stone just won the Oscar for best actress in a leading role. See our list of winners so far. https://t.co/QjPTTuZjmj',\n",
       " 'Casey Affleck is having a Hollywood moment. Again. To his own slight dismay. https://t.co/kiOXwY43Xf',\n",
       " 'What happened when Casey Affleck turned the tables on film critics https://t.co/Xx9jwxKQzm',\n",
       " 'Casey Affleck just won the Oscar for best actor in a leading role. See our list of winners so far. https://t.co/VqKAg5fzNA',\n",
       " 'Damien Chazelle just won the Oscar for best director for ?La La Land.\" See our list of winners so far. https://t.co/QSewrC8nOt',\n",
       " 'Here are the 2017 Oscar winners so far https://t.co/3h1sjveMwj',\n",
       " 'Viola Davis\\'s Oscar acceptance speech was \"beautiful and damning\" https://t.co/Q6XMXTiYS6 https://t.co/Wzvjn4m27R',\n",
       " 'RT @Watching: \"The White Helmets\" just won the Oscar for best documentary, short subject.\\nYou can stream it on Netflix: https://t.co/21ApHT?',\n",
       " \"6 highlights from Jimmy Kimmel's opening monologue at the #Oscars https://t.co/sb2mE2piBl\",\n",
       " \"RT @NYTFashion: It's all in the details. #Oscars https://t.co/OIa7VdljZ1 https://t.co/k4p1kzCbFi\",\n",
       " 'Here are the 2017 Oscar winners so far https://t.co/F7B2DUmpyg',\n",
       " \"RT @Watching: Here's where to stream this year's Oscar-nominated movies https://t.co/XZC5FvtqeC https://t.co/28sAy7TX9o\",\n",
       " 'Viola Davis\\'s Oscar acceptance speech was \"beautiful and damning\" https://t.co/1TN4OpiHE3 https://t.co/I02mVDfWmE',\n",
       " 'Viola Davis just won the Oscar for best actress in a supporting role. See our list of winners so far. https://t.co/YERLIvlNGc',\n",
       " 'The #Oscars are underway. Follow our live chat for updates and analysis from NYT reporters and critics. https://t.co/1DaXIO8dtz',\n",
       " 'Here are the 2017 Oscar winners so far https://t.co/TBE5ncMSyU',\n",
       " 'RT @NYTFashion: The stars on the #Oscars red carpet had gold on the brain ? and their bodies. https://t.co/TF9tzVd48A https://t.co/bxrO8Dok?',\n",
       " 'RT @nytvideo: Host @jimmykimmel poked fun at Donald Trump and Meryl Streep https://t.co/yopyShoe5L #Oscars https://t.co/Ob5hjgt3Be',\n",
       " '\"O.J.: Made in America\" just won the Oscar for best documentary feature. See our list of winners so far. https://t.co/14tuMLmAFf',\n",
       " 'RT @NYTFashion: Ryan Gosling wearing @Gucci on the #Oscars red carpet. See more fashion from the \"City of Stars\" here: https://t.co/kdgq6QC?',\n",
       " 'Jimmy Kimmel: ?Meryl Streep has phoned it in for more than 50 films over the course of her lackluster career\" https://t.co/0MMRZB15nV',\n",
       " 'Mahershala Ali just won the Oscar for best actor in a supporting role. See our list of winners so far. https://t.co/lDTeO4Oss5',\n",
       " 'RT @Watching: Mahershala Ali wins the Oscar for best actor in a supporting role for \"Moonlight.\" https://t.co/v9Yb5tdsX6',\n",
       " 'RT @NYTFashion: Mahershala Ali, wearing @Zegna, is nominated tonight for his role in \"Moonlight.\" See more #Oscars fashion here: https://t.?',\n",
       " 'RT @Watching: Will they be celebrating ?La La Land? in the city of stars tonight, or is it time for ?Moonlight? to shine? https://t.co/5rdQ?',\n",
       " \"The accessory of the night at the #Oscars isn't a clutch or a stiletto. It?s a blue ACLU ribbon.? https://t.co/CplM2hFwVB\",\n",
       " 'Jimmy Kimmel, this year?s Oscar host, has warned that the show will be ?significantly longer? than 3 hours? https://t.co/sdhYoZ5O9G',\n",
       " 'Could ?Arrival? and ?Lion? go home from the #Oscars with nothing? https://t.co/eeymxocqed',\n",
       " \"The #Oscars will be broadcast live on ABC starting at 8:30 p.m. ET. Here's what to watch for.? https://t.co/3jolFmeCka\",\n",
       " 'RT @NYTFashion: Emma Stone is up for best actress tonight, and she dressed the part. #Oscars2017 https://t.co/PzAZOPu2Yq https://t.co/gSD8X?',\n",
       " 'RT @NYTFashion: An unlikely pair has found themselves at odds in the lead-up to the #Oscars: Meryl Streep and Karl Lagerfeld. https://t.co/?',\n",
       " \"RT @NYTFashion: Is it cool to dress like you just don't care? The curious fashion case of Casey Affleck. #Oscars2017 https://t.co/PV89DXjEz?\",\n",
       " 'Expect the 3-hour-plus #Oscars telecast to move between frothy self-celebration and acrid finger-wagging? https://t.co/FKVpMw8pZR',\n",
       " 'Dev Patel and Sunny Pawar on the #Oscars red carpet. ?Lion? has been nominated for 6 #Oscars.? https://t.co/acZHUQwTNx',\n",
       " \"RT @NYTFashion: Follow us for the best looks from the #Oscars2017 red carpet. We'll be here all night. https://t.co/wK858qKHVj https://t.co?\",\n",
       " 'Will the Oscar for best actor go to Denzel Washington, a 2-time winner, or Casey Affleck, the comeback kid?? https://t.co/oNtB21WwTG',\n",
       " '?La La Land? received 14 Oscar nominations, a tie with ?All About Eve? and ?Titanic? for the most in academy histor? https://t.co/9eS6V2TZxD',\n",
       " 'RT @NYTFashion: Sunny Pawar of \"Lion\" just won tiniest person in our red-carpet slideshow. #Oscars2017 https://t.co/ElnhBLVvLk https://t.co?',\n",
       " 'The Oscar nominee list is remarkably diverse. Will the winners be? https://t.co/sR800MCCl6',\n",
       " 'RT @NYTFashion: From \"Little\" to Chiron in one photo. #Oscars2017 https://t.co/wE8fPNidmv https://t.co/aI4KCSIBV4',\n",
       " \"RT @NYTmag: Denzel Washington, Viola Davis and more of the year's best actors channel classic film-noir looks https://t.co/zn7eRqCmBY https?\",\n",
       " 'Ruth Negga is wearing a custom Valentino gown ? and an ACLU ribbon. See more looks from the #Oscars2017 red carpet.? https://t.co/r4Uoc06oLq',\n",
       " 'Test your Oscar knowledge https://t.co/591XRXcapq',\n",
       " 'Hollywood?s biggest stars are arriving at the #Oscars. Follow @NYTFashion to see more red-carpet looks.? https://t.co/vH5qmkWg7g',\n",
       " 'And the Oscar winners will be...https://t.co/UPe41oqSkW',\n",
       " \"Here's how Oscar nominees reacted to their nominations https://t.co/HWPDA1Zv4K\",\n",
       " 'RT @nytgraphics: Where Oscar best picture nominees are most popular:\\nhttps://t.co/RimPTX1Tzw https://t.co/FNfTjJ0kB7',\n",
       " 'Here?s a look at all the contenders for the foreign-language Oscar and where to watch them https://t.co/kOpb85JGcp',\n",
       " 'How trailers for Oscar nominees make their cases https://t.co/ZT1KYVRxnQ',\n",
       " 'Oscars 2017: What to Watch For https://t.co/i8H52R87cr',\n",
       " \"Hosting this year's Oscars means Jimmy Kimmel hopes to find the sweet spot between too much politics and too little https://t.co/JuUutp3WoQ\",\n",
       " \"Isabelle Huppert's subversiveness has transformed the actress, an Oscar contender, into fashion?s unlikely new muse? https://t.co/kWzU269UHn\",\n",
       " '?Moonlight? Is the Big Winner at the Indie Spirit Awards https://t.co/qQLbelZ6Tn',\n",
       " 'Our Culture department is divided over ?La La Land.? Some of us love it. Others hate it.\\nhttps://t.co/cPhdoqUR3U',\n",
       " \"Where to stream this year's Oscar-nominated movies https://t.co/X2Ke9CyWMp via @Watching\",\n",
       " \"Political drama at this year?s Oscars? It's very likely. https://t.co/x4CJXM3e5C\",\n",
       " 'Test your Oscars knowledge https://t.co/2yoSKZPHlw',\n",
       " '\"Moonlight\" was a big-city movie when it came to popularity. How did the other Oscar best picture nominees fare? https://t.co/gQfKgN0iW2',\n",
       " \"Here's how Oscar nominees reacted to their nominations https://t.co/edcwplN807\",\n",
       " 'See the full list of Oscars nominees and pick your winners before Sunday https://t.co/Dj62aTtBXx',\n",
       " 'And the Oscar will go to ...\\n\\nSee our predictions: https://t.co/AGUY0xPOAQ',\n",
       " \"RT @nytimesarts: Look at photos of the costume shop that's supplied dozens of Oscar winners https://t.co/ltNSFsXovK https://t.co/DCShtxxn2B\",\n",
       " \"Where to stream this year's Oscar-nominated movies https://t.co/JBwXFuwqYd https://t.co/vkpvXxAwIi\",\n",
       " 'Where Oscar best picture nominees are liked most\\nhttps://t.co/zoMoeSbVdT https://t.co/O8jQ4VU8t6',\n",
       " 'And the Oscar will go to ...\\n\\nSee our predictions: https://t.co/dDKWGUOlRH',\n",
       " 'Oscar nominees that have no shot of winning still show up smiling and clapping the whole time. Why? https://t.co/p8zUJl1eYi',\n",
       " '25 years ago, the Oscars telecast was genuinely entertaining. No, really. https://t.co/RrhGK8n5Ha',\n",
       " 'See the full list of Oscars nominees and pick your winners https://t.co/4Z5qf5sZcX',\n",
       " 'And the Oscar will go to ...\\n\\nSee our predictions: https://t.co/gvisyO1Wya',\n",
       " \"Hosting this year's Oscars means Jimmy Kimmel hopes to find the sweet spot between too much politics and too little https://t.co/OsyZru5gkH\",\n",
       " \"Where to stream this year's Oscar-nominated movies https://t.co/lxLq88vxon https://t.co/aFvMOQueHK\",\n",
       " 'See the full list of Oscars nominees and pick your winners https://t.co/DrJAAviVHT',\n",
       " 'See the full list of Oscars nominees and pick your winners https://t.co/6os2dCv6qb',\n",
       " \"Where to stream this year's Oscar-nominated movies https://t.co/5PMcW5peJA https://t.co/zc5utAkPui\",\n",
       " \"Hosting this year's Oscars means Jimmy Kimmel hopes to find the sweet spot between too much politics and too little https://t.co/hEtu1E2wz2\",\n",
       " 'RT @timesinsider: Join us NOW for a chat about the #Oscars: what to expect, who the favorites are, whether things will get political ? http?',\n",
       " \"Where to stream this year's Oscar-nominated movies https://t.co/fsYOb98Ye2 https://t.co/PAuYjWQO3Y\",\n",
       " 'Oscar nominees that have no shot of winning still show up smiling and clapping the whole time. Why? https://t.co/9S3IuuQpud',\n",
       " \"Where's the best place to live? Rome? LA? Think again... https://t.co/rTKjz8Z53U https://t.co/OJukENiZy6\",\n",
       " 'RT @danwootton: Did #Towie star @RealJamesArgent really discover @AnneMarieIAm? This is what she thinks. Watch live session and Q&amp;A https:/?',\n",
       " \"The real reason Emma Watson didn't star in La La Land https://t.co/BltnrcKLCo https://t.co/RcswU8W44n\",\n",
       " 'RT @TheSunWoman: Amazing colourised photos show what prohibition in 1920s America was really like?from secret boozing in cafes to b? https:?',\n",
       " 'RT @TheSunShowbiz: Who is Criss Angel, what is his Mindfreak show and what happened when he tried to escape from a straitjacket in La? http?',\n",
       " 'RT @TheSunTV: Sunday Brunch?s Tim Lovejoy shares EPIC throwback picture of him with dreadlocks https://t.co/t1MYk58eFN',\n",
       " 'This throwback picture of #SundayBrunch host Tim Lovejoy with dreadlocks has to be seen to be believed? https://t.co/QceyzFALxN',\n",
       " 'RT @SunVideo: Watch the best of the Premier League action from Saturday in our daily round up https://t.co/xJip63Go6v',\n",
       " 'RT @TheSunShowbiz: Demi Lovato, Heidi Klum and Gwen Stefani lead the way on the red carpet at the Kids? Choice Awards in Los Angeles https:?',\n",
       " 'RT @SunSport: The Premier League have dished out their awards for February - find out who the winners are right here https://t.co/5GdebomTG?',\n",
       " 'Nicole Kidman finally explains that weird Oscars clap https://t.co/ttQ5JW7yUr https://t.co/vNEiIbLs4h',\n",
       " 'Is this the best hotel ever? https://t.co/uRL3nFzeQ7 https://t.co/a5PiczaYXf',\n",
       " 'Nicole Kidman finally explains that weird Oscars clap https://t.co/8HjPfVAJDS https://t.co/ZSjBUuPfQI',\n",
       " \"Oscar winner Emma Stone reveals her biggest ambition in 'vulnerable' confession https://t.co/qXNXCLnDJF https://t.co/eg21G91UiW\",\n",
       " \"Oscar winner Emma Stone reveals her biggest ambition in 'vulnerable' confession https://t.co/rFylCMz25w https://t.co/s9dkx6tJKi\",\n",
       " 'RT @SunVideo: Daily Round-Up : Watch the best action from the Premier League Weekend https://t.co/bGd00SZbi2',\n",
       " 'RT @SunSport: Ohara Davies amazes boxing fans with one of the best ring walks ever seen https://t.co/hpj21XGggO https://t.co/hgcseKNpLr',\n",
       " 'This is the fullest of full-body workouts ? but it?s best done in the bedroom instead of the gym...? https://t.co/2bAZxsZJne',\n",
       " 'This is the fullest of full-body workouts ? but it?s best done in the bedroom instead of the gym...? https://t.co/41S4fjmT63',\n",
       " 'RT @SunSport: Ohara Davies amazes boxing fans with one of the best ring walks ever seen https://t.co/pMPkkfT7eD https://t.co/a3udU2QXBJ',\n",
       " \"Louis Tomlison's bust up with a photographer in LA https://t.co/wCTHSgAPuq https://t.co/jbp3ELEEoV\",\n",
       " 'EXCLUSIVE: This is the fullest of full-body workouts ? but it?s best done in the bedroom instead of the gym...? https://t.co/qQeiZOsuNZ',\n",
       " 'Our 20 best cultural places to live list may make you move to Leeds https://t.co/nktIDkH7b8 https://t.co/UUSreYCmX4',\n",
       " 'Day two of our series on the best places to live in the UK. Today, Laura Whateley on the trendiest property hotspot? https://t.co/1aRxaykcAr',\n",
       " \"Kicking off our five-day series of the best places to live in the UK, here's our list of the most desirable village? https://t.co/b3CtDTwRXK\",\n",
       " 'The guardian of the Oscars envelopes was tweeting when the worst live blunder in the ceremony?s history took place? https://t.co/sD1FONQVTU',\n",
       " 'Behind the story: how @DouglasCarswell  and @Nigel_Farage  became the best of enemies https://t.co/mCkPXm555s https://t.co/y0bAJlYamr',\n",
       " \"They weren't the only ones who had a bad time. Britain had its worst night at the Oscars since 2007? https://t.co/07ozI7NNlG\",\n",
       " 'Why Moonlight was the unexpected winner last night #Oscars @moonlightmov https://t.co/grKdYKilDY https://t.co/PskEchURsd',\n",
       " \"A recap of the winners at last night's #Oscars https://t.co/v6XOU6HIbK https://t.co/YdiOSHlhT3\",\n",
       " 'The #Oscars ended in chaos last night when Warren Beatty and Faye Dunaway mistakenly announced the wrong winners? https://t.co/1l5QpuZvZq',\n",
       " 'Oscars fashion disasters: the poor souls who got it horribly wrong on Oscars night https://t.co/f2zKbu07NP https://t.co/NIblfr0QcV',\n",
       " 'Join @KevinTMaher live on @TimesFilm during the #Oscars for his thoughts on Hollywood?s biggest night',\n",
       " 'RT @TimesFilm: .@NaomieHarris talks about her #Oscars nomination for Moonlight and last year?s diversity scandal https://t.co/CmheRrIr96 ht?',\n",
       " 'RT @TimesFilm: How Hollywood fell for Dev Patel: the #Oscar nominated actor talks about his journey from Harrow to Hollywood https://t.co/U?',\n",
       " \"RT @TimesFilm: The #Oscar nominated star of La La Land, Ryan Gosling, on what it's like to be famous https://t.co/LglnneCvUv https://t.co/j?\",\n",
       " 'Who?s hosting the night ? and where do I know him from? #Oscars https://t.co/UCmLTA4yN1 https://t.co/U56A75txzq',\n",
       " 'A Hollywood star can be born, reborn or broken on the strength of a red-carpet performance on #Oscars night? https://t.co/GjvQiNCBcC',\n",
       " 'RT @TimesFilm: The man behind the #Oscar nominated film Moonlight, Tarell Alvin McCraney, reveals its plot is the story of his life https:/?',\n",
       " 'The first rule of a good Oscar speech ? get on and off quickly, writes @PCollinsTimes https://t.co/QtxghAFjIs https://t.co/peItEmEehs',\n",
       " 'Oscars fashion disasters: the poor souls who got it horribly wrong on Oscars night https://t.co/3rqZLJxTc0 https://t.co/700xTU2nLb',\n",
       " 'How Hollywood fell for Dev Patel: The Oscar nominated British actor talks about his journey from Harrow to Hollywoo? https://t.co/CTkjM86Aup',\n",
       " \"The Oscar nominated star of La La Land, Ryan Gosling, on what it's like to be famous https://t.co/49m0ytMgIc https://t.co/gEmuJk7bW9\",\n",
       " 'Meet the man behind Moonlight: Tarell Alvin McCraney is the screenwriter of the Oscar nominated film? https://t.co/YHYCdfXKfi',\n",
       " 'How to give the perfect Oscars acceptance speech... and how not to https://t.co/LTxCnIGLbd https://t.co/eJGmjNEw8e',\n",
       " 'The goings-on of the Scottish town of Forres has been made into award-winning film with an alcoholic as its star https://t.co/4JP3okygqf',\n",
       " 'Bowie was awarded best British male artist and best British album last night at the #Brits2017? https://t.co/JDeNf7SAj7',\n",
       " \"RT @TimesPictures: The best images in today's @thetimes in our brand new picture gallery:  https://t.co/UHkm6ZHRIq This one is by @tariqzai?\",\n",
       " 'Baftas go La La for the Americans but Dev Patel was the surprise victor last night https://t.co/pTjbRnxbwO https://t.co/7oVjPMAF4J',\n",
       " \"Betting odds indicate that this year's British nominees are unlikely to win at the Bafta film awards? https://t.co/QGzSuCZQ2l\",\n",
       " 'The comedy festival where medicine is the best laughter @TSOTFringe https://t.co/VXVtIUsRpb https://t.co/8QOXCcRVIP',\n",
       " 'Turmeric is best for arthritis pain and workout recovery, while ginger eases nausea and cloves cure bad breath? https://t.co/rFH5jEMHVB',\n",
       " 'From a luxurious bolt hole in Majorca to a house by the beach in Languedoc, we pick the 50 best villas in the Med? https://t.co/DvwIioaMTP',\n",
       " 'How Kosovo is producing the best female pop stars: @DUALIPA is putting Pristina on the pop map? https://t.co/6ErZjIzR7A',\n",
       " 'How Kosovo is producing the best female pop stars https://t.co/m23bEcvjKl @dualipa interview by @ed_potton https://t.co/FdM8UWOCWD',\n",
       " 'RT @TimesFilm: Dev Patel could become the first actor of entirely Indian heritage to win an Oscar. @ed_potton interviews https://t.co/lWUrQ?',\n",
       " 'La La Land: They can?t sing or dance ? and the ending is racist, says Richard Morrison https://t.co/zvqEuRHBUo https://t.co/lGPRX1e3Se',\n",
       " 'Oscars 2017: Who will win . . . and who should win, by @muirkate https://t.co/IWgU1Hl3hu https://t.co/AWtOUu9osm',\n",
       " 'La La Land nominated for 14 Oscars including best picture, director, leading actor and leading actress? https://t.co/J70ahfDzhS',\n",
       " \"When the Academy Awards nominations are announced today, they'll be rewarding a host of films using the close-up? https://t.co/EHIMD8aSlj\",\n",
       " 'Oscars: As the big screen gives way to mobile devices, directors are more keen than ever to zoom right in? https://t.co/SNvjV34f7h',\n",
       " 'From stunning villas to island hopping and budget breaks, here are the 50 best holidays in Greece? https://t.co/3dvaBThNmT',\n",
       " 'Oscar-winning actress Rachel Weisz talks to The Times about motherhood, fame and life as Mrs Bond? https://t.co/jMHQshdaGg',\n",
       " 'Since La La Land?s release, the number of yellow dresses that have sold out has increased by 44 per cent? https://t.co/fpmenC9Pv5',\n",
       " 'Your childhood friend is likely to be your best friend for life https://t.co/Sby4ghO4YJ https://t.co/nZZ8eXOIs0',\n",
       " 'The podcast is unashamedly, almost brazenly intelligent. Here?s your guide to the 30 best https://t.co/KWR7x2KJhB https://t.co/3m2BLSnPKF',\n",
       " 'RT @AP_Top25: A look at the best to come. Your NCAA Tournament guide from @jmarshallAP #MarchMadness https://t.co/VGhMVtRVlu https://t.co/9?',\n",
       " 'Film academy president praises Warren Beatty for how he handled Oscars best picture mistake. By @APSandy.? https://t.co/pxmZB9H7Nt',\n",
       " \"Film academy president doesn't mince words about accountants' role in the Oscars best picture mistake.? https://t.co/f8k37ENLdA\",\n",
       " \"RT @APWestRegion: Whimsical Los Angeles railroad featured in 'La La Land' ? and many childhood memories ? is getting back on track https://?\",\n",
       " \"RT @APSouthRegion: Young 'Moonlight' stars return from Oscars and `Best Picture' glory to Florida middle school. https://t.co/Cc9MHYvouu ht?\",\n",
       " 'RT @APEntertainment: AP Exclusive: Academy president praises #JimmyKimmel &amp; #WarrenBeatty for how they handled #Oscars mistake https://t.co?',\n",
       " 'RT @APEntertainment: Film academy president says the 2 accountants responsible for the best picture error will not work the #Oscars again h?',\n",
       " \"RT @APSouthRegion: #GaryfromChicago of #Oscars fame went from prison to the big stage in a matter of days. https://t.co/u3yivZQ6gH'\",\n",
       " 'Warren Beatty urges Academy of Motion Pictures president to clarify Oscar debacle. https://t.co/mpxvfeZ2MI #Oscars',\n",
       " 'Here are the full statements from accounting firm PwC and the Academy of Motion Pictures on #Oscars flub. https://t.co/zWO09DZX4x',\n",
       " 'Jimmy Kimmel shares his perspective on Oscar gaffe during his Monday monologue on his TV show \"Jimmy Kimmel Live!\" https://t.co/vb98cfTDyX',\n",
       " 'Miami\\'s Liberty City neighborhood shares \"Moonlight\" success after the film won 3 Academy Awards. https://t.co/j6CVo5GmyF #Oscars',\n",
       " 'The Latest: Accounting firm takes blame for Oscars flub at the 89th Academy Awards. https://t.co/fFZTN5yLWh',\n",
       " 'Oscar gaffe at the 89th Academy Awards makes for a whodunit: is tweet the smoking gun? https://t.co/QpuqNYPuIT #Oscars',\n",
       " \"A look at how the Academy Awards' winners envelopes are handled before being opened live onstage. https://t.co/OLQhq1e8yu #Oscars\",\n",
       " \"Steve Harvey offers Warren Beatty a sympathetic ear following #Oscars best picture flub. https://t.co/LJYWPpR9fd'\",\n",
       " 'RT @APEntertainment: The #InMemoriam tribute at #Oscars includes living producer\\nhttps://t.co/beg91ZSatV https://t.co/6wHWaBHkSJ',\n",
       " \"PwC's hard-won reputation under threat after epic #Oscars flub. https://t.co/J10Knxn7AZ\",\n",
       " 'PHOTOS: From Viola in red to Emma in gold, a look at some of the best of #Oscar fashion. \\nhttps://t.co/Ky5nyQveU0',\n",
       " 'Foreign minister welcomes Iran Oscar for best foreign film. https://t.co/zKhY2ISOuY',\n",
       " 'VIDEO: ?Moonlight? wins best picture at botched Oscars. https://t.co/BnHtCLXziv',\n",
       " 'Here?s what happened onstage during the Oscars? mistake, by @dbauder. https://t.co/urOEXBdQ7T',\n",
       " 'Review: What happened? Oscar host Kimmel was unflappable. https://t.co/wEwkZt8K2P',\n",
       " 'The AP has deleted an Oscars review tweet due to a headline error. A new one is \\nupcoming.',\n",
       " 'List of winners for the 89th Academy Awards. https://t.co/4ng0jEoTHY',\n",
       " \"The Latest: 'Moonlight' wins best picture Academy Award. https://t.co/A7mCSfloBq\",\n",
       " \"BREAKING: 'Moonlight' wins best picture after Oscars announce wrong winner\",\n",
       " \"BREAKING: 'La La Land' wins best picture Oscar.\",\n",
       " \"The Latest: Stone wins best actress Oscar for 'La La Land.? https://t.co/ucvkfNUVsa'\",\n",
       " 'Partial list of winners for 89th Academy Awards: https://t.co/ZWsiPDEQIY',\n",
       " \"BREAKING: Emma Stone wins best actress Oscar for 'La La Land'\",\n",
       " \"BREAKING: Casey Affleck wins best actor Oscar for 'Manchester by the Sea'\",\n",
       " 'RT @APEntertainment: The Latest: Syrian war documentary wins #Oscar: https://t.co/lp4Z06hESQ',\n",
       " \"RT @APEntertainment: The Latest: 'City of Stars' from #LaLaLand wins best original song #Oscar: https://t.co/zQjiXJj1WF\",\n",
       " 'The Latest from the Academy Awards: \"Zootopia\" wins animated film Oscar. https://t.co/1GBDG5WjyR',\n",
       " \"RT @APEntertainment #DonaldTrump jabs fly at #Oscars, awards go to #MahershalaAli, #ViolaDavis, 'O.J.': https://t.co/bKk3H2czt4\",\n",
       " 'Former NASA mathematician Katherine Johnson, 98, gets her moment at #Oscars. https://t.co/wFF9hdx96x',\n",
       " '\"O.J.: Made in America\" documentary director dedicates #Oscar to Nicole Brown and Ron Goldman. https://t.co/SVAh54uzQM #Oscars',\n",
       " '#AP10Things to Know for Monday: Mahershala Ali wins #Oscar for best supporting actor; Kurt Busch wins Daytona 500. https://t.co/4RTx6yIb76',\n",
       " 'The Latest: Viola Davis wins supporting actress Academy Award for \"Fences.\" https://t.co/qRBvj4fLCs #Oscars',\n",
       " 'Partial list of winners for 89th Academy Awards. https://t.co/7IimbxfxbR #Oscars',\n",
       " 'BREAKING: Viola Davis wins best supporting actress Oscar for \"Fences.\"',\n",
       " 'Jimmy Kimmel opens #Oscars with standing ovation for Meryl Streep and Mahershala Ali wins best supporting actor. https://t.co/vmMfXnUR5A',\n",
       " 'The Latest: \"O.J.: Made in America\" is the winner of the Academy Award for best documentary feature film. https://t.co/3f1LUlHE4E #Oscars',\n",
       " 'RT @AP_Interactive: In recent years, the chance of winning #Oscars is about the same for American and non-American nominees. https://t.co/z?',\n",
       " 'The Latest: Mahershala Ali wins Academy Award for best supporting actor for his role in \"Moonlight.\" https://t.co/EEBy7KjF2k #Oscars',\n",
       " \"BREAKING: Mahershala Ali wins best supporting actor Oscar for 'Moonlight.'\",\n",
       " 'RT @APEntertainment: OSCAR FASHION: #JanelleMonae wears #ELIESAAB at the 2017 #Oscars #moonlight #HiddenFigures https://t.co/Ejrm8XCaEL',\n",
       " \"RT @APEntertainment: ICYMI: @AP film writers @jakecoyleAP + @ldbahr predict who will win big at tonight's #Oscars: https://t.co/qsux2jkqyj\",\n",
       " 'RT @APSandy: Casey Affleck #Oscars https://t.co/d8oaQhoeB1',\n",
       " 'RT @APEntertainment: #tarajiphenson arrives at the 2017 #Oscars @TherealTaraji https://t.co/kEvE2OEJWu',\n",
       " 'RT @APEntertainment: OSCAR FASHION: #ruthnegga #felicityjones #teresapalmer and #SunnyPawar arrive at the 2017 #Oscars https://t.co/zhXL4bS?',\n",
       " 'Follow all of @AP #Oscars coverage at the 89th Academy Awards at  https://t.co/Wlj0LD7zbg',\n",
       " 'The Latest: Celebrities begin arriving on the red carpet in Hollywood ahead of the 89th Academy Awards. https://t.co/FhydgiIJsX #Oscars',\n",
       " 'RT @APEntertainment: ICYMI: AP film writers @ldbahr and @jake_coyle share their #Oscars predictions https://t.co/5iK4nwJzWB https://t.co/Zy?',\n",
       " \"RT @APEntertainment: #Oscars show producers aren't planning any political content, but will winners edge out the magic? https://t.co/czV4jz?\",\n",
       " '\\'Moonlight\\' sweeps Spirit Awards; Casey Affleck wins best actor for \"Manchester by the Sea.\" By @JakeCoyleAP. https://t.co/HBsDv5EI2e',\n",
       " 'A cadre of casually-clad superstar presenters come through Oscar rehearsals, @APSandy writes. https://t.co/uCxqFoiJTo #Oscars',\n",
       " 'Oscar-nominated directors of foreign language films gather at Academy of Motion Pictures Arts and Sciences. https://t.co/b4Ah1MfbsT #Oscars',\n",
       " 'The 89th Academy Awards show promises to be equal parts pomp and politics, @jakecoyleAP writes. https://t.co/DcrAdMxTIG #Oscars',\n",
       " \"Five facts about Sunday's 89th Annual Academy Awards, by @APSandy. https://t.co/ql5P8JqvdN\",\n",
       " \"Foreign film Oscar nominees decry 'climate of fascism' in U.S. https://t.co/tTwJxmrzyk\",\n",
       " 'US bars Syrian who worked on Oscar-nominated film \"The White Helmets\" from traveling to LA for Oscars. https://t.co/JFDLldxxFx',\n",
       " 'US immigration authorities bar Syrian cinematographer behind nominated film from attending Oscars. By @bklapperAP. https://t.co/ccZrshpSoP',\n",
       " \"Oscar front-runner 'La La Land,' opens with big dance number _ a throwback to song-and-dance movies of past decades. https://t.co/FUwDdJKRf2\",\n",
       " 'RT @APEastRegion: Ready for #Oscars? @MichaelTHill takes us inside the foundry where the awards are made, 2,500 miles from Hollywood: https?',\n",
       " 'RT @APEntertainment: Landmark nominations are undeniable, but Hollywood has a long diversity road ahead #Oscars https://t.co/GAhoUcPoX6 htt?',\n",
       " 'RT @AP_Interactive: A preview of what it takes for a typical celebrity to become red carpet ready for the #Oscars. https://t.co/MIBfh2nw2t?',\n",
       " 'RT @AP_Archive: The #Oscars are nearly upon us! Flashback to Oscars past in this 1969 Movietone report of the award show https://t.co/Eiv1c?',\n",
       " 'RT @APEntertainment: TV actor Warren Frost-- best known for roles on \"Twin Peaks\" and \"Seinfeld\" -- dies at 91.  https://t.co/EmqlhX7rBP',\n",
       " 'RT @APEastRegion: Oscar winners all take different journeys to stardom. The awards they covet start theirs 2,500 miles from Hollywood: http?',\n",
       " 'RT @APBusiness: The best time to buy a new #car? Immediately. Dealers need to unload. Read @AP @tkrisher https://t.co/33P0KgmYFD',\n",
       " 'RT @APEastRegion: Rumor has it: German shepherd comes out of retirement to win best in show at the Westminster Kennel Club dog show. https:?',\n",
       " 'RT @APEastRegion: Handed out in Hollywood, crafted in New York. @MichaelTHill goes inside the foundry where Oscars dreams begin. https://t.?',\n",
       " 'RT @AP_Sports: German shepherd dog named for hit Adele song wins best in breed at Westminster. #WKCDogShow https://t.co/rGcRH53gAK',\n",
       " 'BREAKING: Rumor the German shepherd wins best in show in return to finals at 141st Westminster Kennel Club dog show.',\n",
       " '.@AP image of Turkish assassin wins World Press Photo award. https://t.co/Ajto7E3fEx\\n=',\n",
       " 'VIDEO: Adele sweeps Grammys with 5 wins. https://t.co/MNhLhTIMzz',\n",
       " 'RT @APEntertainment: #Adele sweeps #GrammyAwards with 5 wins, while #DavidBowie wins 4 https://t.co/cW7dhLnhNb https://t.co/d0cIx0mlrV',\n",
       " 'BREAKING: Chance The Rapper wins Grammy Award for best new artist.',\n",
       " 'RT @APEntertainment: #Adele wins best pop vocal album at #GrammyAwards https://t.co/hF7q4rNQPy https://t.co/tfdYL7uxwz',\n",
       " \"RT @APEntertainment: The #Grammys are in full swing! The lovely singer  @gaby_moreno on red carpet ahead of tonight's awards! https://t.co/?\",\n",
       " 'RT @APEntertainment: VIDEO: #Grammy #fashion through the years - we look back at the most memorable #red carpet moments...\\nhttps://t.co/Ca0?',\n",
       " \"The world's best airports for 2017 https://t.co/QksNIAkggP via @CNNTravel https://t.co/7JMMGFaYLj\",\n",
       " 'The best passport for the globetrotting elite? Sweden. https://t.co/aetnzO7B3L',\n",
       " 'The accountants at the center of the best picture fiasco have worked their final #Oscars, Academy spokesperson says? https://t.co/nJv6CYYEdq',\n",
       " 'The accountants at the center of the best picture fiasco have worked their final #Oscars, Academy spokesperson says? https://t.co/nS6y6OtQbX',\n",
       " 'The accountants at the center of the best picture fiasco have worked their final #Oscars, Academy spokesperson says? https://t.co/8nMILGdWSf',\n",
       " 'The accountants at the center of the best picture fiasco have worked their final #Oscars, Academy spokesperson says? https://t.co/voqN4ucxN6',\n",
       " '\"It\\'s messy, but it\\'s kind of gorgeous.\" \\'Moonlight\\' and \\'La La Land\\' directors talk about historic Oscars blunder? https://t.co/Ojd1jRzpwz',\n",
       " \"Jimmy Kimmel explains #Oscars flub: 'It was the weirdest TV finale since 'Lost'' https://t.co/CvTfrx8n0A https://t.co/RNiyMqAAeE\",\n",
       " '\"Moonlight\" caps an underdog run with a storybook finish https://t.co/fkCuxzngh4 #Oscars https://t.co/8pF5ZQKyCa',\n",
       " \"President Trump blames the #Oscars best picture mix-up on Hollywood's focus on politics https://t.co/DKLSWpWLDj https://t.co/A5t5H2VjuU\",\n",
       " 'Jimmy Kimmel really enjoyed dissing Matt Damon at the #Oscars https://t.co/yFYqww7KH9 https://t.co/0LqwbO32Uk',\n",
       " \"The #Oscars weren't afraid to get political https://t.co/JESSTX4tRC https://t.co/KsEPy3iDdj\",\n",
       " \"'Moonlight' caps an underdog run with a storybook finish https://t.co/LPiP3VpNNB #Oscars https://t.co/E10VBZBgmb\",\n",
       " \"This year's hottest #Oscars accessory of many top stars on the red carpet: an @ACLU ribbon https://t.co/wDyHjGGM7P https://t.co/qppNHo6NyH\",\n",
       " \"In a wave of support, Meryl Streep received a standing ovation at this year's #Oscars https://t.co/li62CcXEjW https://t.co/KvjTYWWO1K\",\n",
       " \"'Moonlight' caps an underdog run with a storybook finish https://t.co/UexVmybFPv #Oscars https://t.co/rc8WTftdkM\",\n",
       " \"You had one job... Meet #PricewaterhouseCoopers, the firm behind the #Oscars' biggest blunder? https://t.co/eXN5lHicBb\",\n",
       " 'Steve Harvey to Warren Beatty: \"Call me. ... I can help you get through this!\" https://t.co/0nzBbZM7za #Oscars https://t.co/RrvAJ0eIok',\n",
       " '\"La La Land\" producer Jordan Horowitz isn\\'t mad about the #Oscars flub seen \\'round the world; he calls it \"surreal\"? https://t.co/k5231Ygt0D',\n",
       " 'We?re having a discussion about #Oscars, \"Moonlight\" and race. Join @LisaFranceCNN and @GriggsBrandon on Facebook:? https://t.co/sxpgu1JXPy',\n",
       " 'There was another #Oscars mistake: This producer\\'s photo incorrectly appeared in the \"In Memoriam\" segment? https://t.co/OVWCvN1vQN',\n",
       " 'The historic #Oscars wins for Amazon, Netflix and ESPN showcase how the movie business is evolving? https://t.co/8qiQZalUs5',\n",
       " 'It was lost in the confusion of the #Oscars envelope snafu, but \"Moonlight\" made history https://t.co/fhFCMJEpH9 https://t.co/87bgFa4Bwf',\n",
       " '\"Have your people call our people\": @MissUniverse weighed in on the #Oscars best picture mix-up? https://t.co/vslFmjvZwS',\n",
       " 'The #Oscars best picture snafu drew comparisons to some other award show blunders https://t.co/E3TgV0OqgF https://t.co/H3eC9IzOe7',\n",
       " 'Accounting firm #PricewaterhouseCoopers has apologized for the error that led to the #Oscars best picture mix-up? https://t.co/jcoGtE0nii',\n",
       " \"This year's hottest #Oscars red carpet accessory may have been an @ACLU ribbon https://t.co/QMNLBbcJk6 https://t.co/PJBbSMHm91\",\n",
       " 'Jimmy Kimmel really enjoyed dissing Matt Damon at the #Oscars https://t.co/4WfrS1lik5 https://t.co/wisyaMlj9s',\n",
       " 'The biggest blunder at the #Oscars inspired many creative interpretations on social media https://t.co/HtsiKUdVIV https://t.co/DPi54HRw8Y',\n",
       " '\"Have your people call our people\": The #Oscars \"La La Land\" flub joins a list of embarrassing award show errors? https://t.co/EXKwl496dY',\n",
       " 'And the best picture award goes to ...? Here\\'s how the #Oscars mix-up between \"La La Land\" and \"Moonlight\" happened? https://t.co/uT4gF6pMSw',\n",
       " 'PricewaterhouseCoopers issues statement apologizing for #Oscars best picture mix-up https://t.co/4khJoKJHbB https://t.co/2QQd6LlkoA',\n",
       " '\"I became an artist, and thank God I did...\" - Viola Davis, after winning Best Actress in a Supporting Role? https://t.co/KG4Ceaqxcv',\n",
       " \"Except for that painfully awkward mix-up, here's a round-up of what else went on at the Oscars https://t.co/CkJYFnQYTW\",\n",
       " \"The #Oscars weren't afraid to get political https://t.co/pE5zvwe6me https://t.co/XK2FdGvTF8\",\n",
       " '.@jimmykimmel took on his favorite foe during the Oscars: Matt Damon https://t.co/S6AFUYj5RI https://t.co/WxfbRNH4br',\n",
       " \"Was the Oscars 'La La Land' mix-up the most embarrassing awards show mistake ever?  https://t.co/L7yA3klLvC https://t.co/bGKUd2sY35\",\n",
       " 'Asghar Farhadi, who boycotted #Oscars over Trump\\'s travel ban, won Best Foreign Language Film for \"The Salesman\"? https://t.co/EVEknGGg7f',\n",
       " 'PricewaterhouseCoopers issues statement apologizing for #Oscars best picture mix-up https://t.co/f9B3x8XuEs https://t.co/MIxLhnANvW',\n",
       " \"This year's hottest #Oscars accessory of many top stars on the red carpet: an @ACLU ribbon https://t.co/JP2AvyaGUx https://t.co/VvEYy2YXxq\",\n",
       " 'An #Oscars moment that will go down in history: \"Moonlight\" wins best picture after baffling on-stage flub? https://t.co/rWSay58leF',\n",
       " '\"I became an artist, and thank God I did...\"  Viola Davis gives an emotional speech after winning her first Oscar? https://t.co/LNWsdxSTGB',\n",
       " 'An #Oscars moment that will go down in history: \"Moonlight\" wins best picture Oscar after baffling on-stage flub? https://t.co/4pdQL57gRw',\n",
       " \"In a wave of support, Meryl Streep received a standing ovation at this year's #Oscars https://t.co/zjFxtuo0L5 https://t.co/tf06mrxAy0\",\n",
       " \"Experiencing 'La La Land' for yourself https://t.co/qJoSSoEv5h https://t.co/CKtiivr7e5\",\n",
       " '\"The White Helmets,\" a documentary on volunteer rescue workers in Syria, took home the first #Oscars win for Netfli? https://t.co/6WyrhugSlf',\n",
       " 'After on-stage mix-up at Academy Awards, \"Moonlight\" wins Oscar for best picture https://t.co/QA7pkhxvSv #Oscars https://t.co/MLV9eUi4Y3',\n",
       " 'JUST IN: \"La La Land\" wins Best Picture at the 89th Academy Awards #Oscars https://t.co/QA7pkhxvSv https://t.co/cpKVpVrPQA',\n",
       " 'JUST IN: Emma Stone wins best Actress in a Leading Role for \"La La Land\" #Oscars https://t.co/QA7pkhxvSv https://t.co/n0v3jbSBg2',\n",
       " 'JUST IN: Casey Affleck wins best Actor in a Leading Role for \"Manchester by the Sea\" #Oscars https://t.co/QA7pkhxvSv https://t.co/8hb97uUAua',\n",
       " 'Damien Chazelle wins Best Director for \"La La Land\" #Oscars https://t.co/QA7pkhxvSv https://t.co/ls6muaXVOe',\n",
       " 'Original Screenplay: \"Manchester by the Sea\"\\n\\nAdapted Screenplay: \"Moonlight\"\\n\\nSee more #Oscars winners:? https://t.co/CIrA4h8ret',\n",
       " \"See top moments from tonight's #Oscars. Follow @CNN on Instagram: https://t.co/VJ6AkPXA7L ?? ?? https://t.co/TiTXPYYZxJ\",\n",
       " 'Original Score: \"La La Land\"\\n\\nOriginal Song: \"City Of Stars\" from \"La La Land\"\\n\\nMore #Oscars winners:? https://t.co/J8aFaBuoBT',\n",
       " 'Asghar Farhadi, who boycotted #Oscars over Trump\\'s travel ban, won Best Foreign Language Film for \"The Salesman\"? https://t.co/xuQOWe8dLI',\n",
       " 'Viola Davis ends award season hot streak with Oscar win https://t.co/tPcqa1aWJ2 #Oscars https://t.co/yQdyrzVUqU',\n",
       " '\"La La Land\" wins best Cinematography #Oscars https://t.co/QA7pkhxvSv https://t.co/xrb7LFpKfM',\n",
       " '\"Sing\" wins best Live Action Short Film #Oscars\\n\\nMore winners at our live blog: https://t.co/QA7pkhxvSv https://t.co/CrPgyHoCL1',\n",
       " '\"The White Helmets\" wins best Documentary (Short Subject) #Oscars https://t.co/QA7pkhxvSv https://t.co/TAu5ZJ2a5d',\n",
       " 'Production Design: \"La La Land\"\\n\\nVisual Effects: \"The Jungle Book\"\\n\\nFilm Editing: \"Hacksaw Ridge\"\\n\\n#Oscars? https://t.co/EvDIkSzId6',\n",
       " \"Here's a list of #Oscars winners (so far) tonight https://t.co/FHU48sQcsj\\n\\nFollow the big moments at our live blog:? https://t.co/TvpuBXFkaE\",\n",
       " '\"Zootopia\" wins best Animated Feature Film #Oscars https://t.co/QA7pkhxvSv https://t.co/lD8aauWLaI',\n",
       " 'The Salesman wins best Foreign Language Film, directed by Asghar Farhadi who boycotted #Oscars over Trump travel ba? https://t.co/q8ZfYzkOpT',\n",
       " '\"Piper\" wins best Animated Short Film. Follow all of tonight\\'s winners at our live blog: https://t.co/QA7pkhxvSv? https://t.co/kTG9eDnRup',\n",
       " '\"I became an artist, and thank God I did...\" - Viola Davis, after winning Best Actress in a Supporting Role #Oscars? https://t.co/YjU4RGR1vC',\n",
       " 'Viola Davis wins best Actress in a Supporting Role in \"Fences\" #Oscars https://t.co/QA7pkhxvSv https://t.co/PCFuQjOyS0',\n",
       " \"Follow tonight's big #Oscars moments with our live blog: https://t.co/QA7pkhxvSv https://t.co/NlXiHeJ6kI\",\n",
       " '\"Arrival\" wins Best Sound Editing, \"Hacksaw Ridge\" wins Best Sound Mixing #Oscars https://t.co/QA7pkhxvSv https://t.co/zOS2OB7glz',\n",
       " \"This year's hottest #Oscars accessory of many top stars on the red carpet: an @ACLU ribbon https://t.co/vX5rU880r9 https://t.co/oJt66ukimJ\",\n",
       " '\"O.J.: Made in America\" wins Best Documentary Feature #Oscars https://t.co/QA7pkhxvSv https://t.co/aeGCQnG1H2',\n",
       " '\"Suicide Squad\" wins Best Makeup &amp; Hairstyling, \"Fantastic Beasts and Where to Find Them\" wins Best Costume #Oscars? https://t.co/L3mcA0QMDb',\n",
       " 'The night\\'s first Oscar goes to Mahershala Ali for Best Supporting Actor in \"Moonlight\" #Oscars? https://t.co/lWtWCVLxce',\n",
       " \"Follow the big #Oscars moments tonight on @CNN's Instagram: https://t.co/VJ6AkPXA7L https://t.co/Q4p4lh9tVS\",\n",
       " \"Hollywood's biggest night arrives with several big questions looming https://t.co/doyu6HdTYO #Oscars https://t.co/L2ItUuGUYf\",\n",
       " 'Your definitive guide to the #Oscars: Everything you need to know about the show (and even more)? https://t.co/2fSFVQYAJZ',\n",
       " 'Oscar predictions: Who will win big? We make our picks on who will take home the top prizes #Oscars? https://t.co/6kYxfglskn',\n",
       " 'See photos from the red carpet at the 2017 Academy Awards #Oscars https://t.co/iPPULrTgng https://t.co/lXb6v1rvmD',\n",
       " 'Watch the Academy Awards live with @CNNent. Follow our #Oscars live blog: https://t.co/ZfSNvP5c6V https://t.co/kzJfzDfWsM',\n",
       " \"20 unforgettable Oscar speeches that seized the moment on Hollywood's biggest stage https://t.co/MVaMwZg5gy #Oscars https://t.co/GeJZurvInk\",\n",
       " \"From #LaLaLand to #Moonlight, here are @TheAcademy's nine nominees for Best Picture https://t.co/83KslAR3UJ #Oscars https://t.co/kzJfzDfWsM\",\n",
       " 'Your definitive guide to all things #Oscars https://t.co/M1gTiTPIdR https://t.co/T2CI1Iqguo',\n",
       " 'Oscar predictions: Who will win big? Will La La Land get best picture?\\nhttps://t.co/dLwFQ77mjf https://t.co/FMdiNRgUrR',\n",
       " 'The @nytimes is running its first television ad in seven years during the #Oscars. The subject? The truth.? https://t.co/xZvU2EIr7a',\n",
       " 'Oscar predictions: Who will win big? Will La La Land get best picture?\\nhttps://t.co/jLGHYrpAnv https://t.co/vaSA6Zoh3h',\n",
       " 'The @nytimes is running its first television ad in seven years during the #Oscars. The subject? The truth.? https://t.co/ETywYVPHrf',\n",
       " \"Everything you need to know about the Oscars (and some things you don't) https://t.co/NPomFGWvnV https://t.co/3BbrQKXkQ6\",\n",
       " 'The @nytimes is running its first television ad in seven years during the #Oscars. The subject? The truth.? https://t.co/mxQXR4CbAb',\n",
       " 'Meet the 21-year-old Syrian who risked his life for an Oscar-nominated documentary https://t.co/kvQ8OFwHZ6 https://t.co/omR3YrHF6q',\n",
       " 'The @nytimes is running its first television ad in seven years during the #Oscars. The subject? The truth.? https://t.co/8L8AOebFWm',\n",
       " \"Everything you need to know about the Oscars (and some things you don't) https://t.co/tgrkCUdTav https://t.co/4aO62odswk\",\n",
       " \"'Hamilton' actor Brandon Victor Dixon says he expects political speeches at Oscars https://t.co/zJq1OIRikQ https://t.co/MJf7izRuoN\",\n",
       " 'The @nytimes is running its first television ad in seven years during the #Oscars. The subject? The truth.? https://t.co/9c6EgbZr9I',\n",
       " \"Everything you need to know about the Oscars (and some things you don't) https://t.co/0LDqy5ixNE https://t.co/AwyusOPSWH\",\n",
       " 'The @nytimes is running its first television ad in seven years during the #Oscars. The subject? The truth.? https://t.co/SGHTIyKp6z',\n",
       " 'The @nytimes is running its first television ad in seven years during the #Oscars. The subject? The truth.? https://t.co/mHxppLfJdp',\n",
       " 'The @nytimes is running its first television ad in seven years during the #Oscars. The subject? The truth.? https://t.co/ipx18mfGSa',\n",
       " 'Damien Chazelle, Oscar-nominated for ?La La Land\", is a director whose work pulses with life? https://t.co/BhW53qTT8y',\n",
       " 'The @nytimes is running its first television ad in seven years during the #Oscars. The subject? The truth.? https://t.co/3F4SXSgzf7',\n",
       " 'At 13, it?s the end of the world. At 33, it?s a punchline. See why comedy works best when it?s had time to age on? https://t.co/MgyMvL1UeT',\n",
       " \"RT @CNNent: Winning big isn't just about making a good film. Here's how much it really costs to win an Oscar. https://t.co/BuiqKTcec4 #Osca?\",\n",
       " 'RT @BBCWorld: Ed Sheeran to star in Game of Thrones! \\n\\nhttps://t.co/731zDVOtox',\n",
       " 'Crufts 2017: American Cocker Spaniel Afterglow Miami Ink is Best In Show https://t.co/pJ6jIIYPW4',\n",
       " \"RT @BBCWorld: Kidman explains her Oscars 'seal hands' clapping https://t.co/8VZVPWT9GP\",\n",
       " 'RT @bbc5live: .@TonyBellew: \"My body feels like it?s been hit by a JCB?that JCB was @mrdavidhaye\"\\n\\nFull interview ??https://t.co/uODOruwYF4?',\n",
       " 'RT @BBCNewsAsia: Director of award-winning India film \\'Lipstick Under My Burkha\\' fights \"illogical\" ban.\\n\\nhttps://t.co/ZjkO4g1vVb https://t?',\n",
       " \"RT @BBCSport: Manchester City were on ???\\n\\nHere's the best action from the #FACup win over Huddersfield on Wednesday.\\n\\n? https://t.co/2BpZ3?\",\n",
       " 'RT @BBCWorld: This is what was said during the best picture #Oscars mix-up\\n\\nhttps://t.co/EkcKN4vD5s https://t.co/WxAmpnKWNw',\n",
       " \"RT @BBCWorld: Here are the main winners from the 2017 #Oscars \\n\\ntrust us, we've double checked ?\\n\\nhttps://t.co/mMRR2I4YLC https://t.co/QeWE?\",\n",
       " 'RT @BBCClick: See how #TheJungleBook became an Oscar winner for its visual effects https://t.co/JGVYinbcYk https://t.co/H0VvUdjtd6',\n",
       " 'RT @VictoriaLIVE: #Oscars mess-up: what happened? #Thisisnotajoke ? \\n\\nMore: https://t.co/edAPlEITkW https://t.co/va3EL22yLr',\n",
       " 'RT @BBCBreaking: Accounting firm @PwC that counts votes &amp; provides winner envelopes for #Oscars, apologise for best picture mix-up https://?',\n",
       " 'RT @BBCWorld: The best picture mix-up was a \"very strange moment\" - star of Moonlight @NaomieHarris https://t.co/XgDSqWy6ss #Oscars https:/?',\n",
       " \"RT @BBCNewsbeat: Never mind the best picture mix-up - what's up with Nicole Kidman's hand clap?! https://t.co/ZKu3KDShFy #Oscars #AcademyAw?\",\n",
       " \"RT @BBCWorld: It doesn't just happen at the #oscars\\n\\nHere's nine other epic fails from awards ceremonies &amp; TV contests ?https://t.co/FIMJ8c?\",\n",
       " 'RT @BBCr4today: That time @Marthakearney stood behind Ryan Gosling at the #Oscars, not long after mistaken best picture announcement https:?',\n",
       " 'RT @BBCWorld: \"There\\'s been a mistake\" #Oscars \\n\\nThe moment the La La Land team realise best picture was really won by Moonlight https://t.?',\n",
       " 'RT @BBCBreaking: Moonlight wins best picture at the #Oscars \\n- La La Land was initially announced as the winner by mistake\\n\\nhttps://t.co/bm?',\n",
       " 'RT @BBCBreaking: Emma Stone wins best actress at the #Oscars for her role in La La Land\\n\\nLIVE coverage: https://t.co/xinLxrGuVd https://t.c?',\n",
       " 'RT @BBCBreaking: Casey Affleck wins best actor at the #Oscars for his role in Manchester by the Sea\\n\\nLIVE coverage: https://t.co/6eqVkgolDF?',\n",
       " 'RT @BBCBreaking: Best director goes to Damien Chazelle for La La Land\\n\\nLIVE coverage: https://t.co/PjvAzGB4JP #Oscars https://t.co/93D0yE0f?',\n",
       " 'RT @BBCBreaking: Zootopia wins best animated feature film at the #Oscars\\n\\nLIVE coverage: https://t.co/BRrRfO5uc1 https://t.co/PkbNtxaT2O',\n",
       " 'RT @BBCBreaking: #Oscars: Best supporting actress goes to Viola Davis for her role in Fences\\n\\nLIVE coverage: https://t.co/N9tBiC3Fhn https:?',\n",
       " 'RT @BBCBreaking: #Oscars: First award of the night goes to Mahershala Ali for best supporting actor in Moonlight\\n\\nLIVE coverage: https://t.?',\n",
       " 'RT @BBCNewsEnts: Dev Patel has brought his mum to the #Oscars https://t.co/rcoCcLsRqj',\n",
       " \"RT @BBCNewsEnts: It's Oscars night and our live page is up and running - find out who's rocking the red carpet right here: https://t.co/0GU?\",\n",
       " 'Follow our #Snapchat at the London screening of @salesmanfilm - director Asghar Farhadi is boycotting the #Oscars? https://t.co/w087iOyqFv',\n",
       " 'RT @BBCSport: The players are striding out at Wembley.\\n\\nKick-off is nearing.\\n\\nWho will win the first silverware of the season?\\n??? https://?',\n",
       " 'RT @bbc5live: ?I walked the red carpet for this incredible community?\\n\\nDianne Houston - The only black nominee at the 1996 #Oscars https://?',\n",
       " \"RT @bbc5live: 36 hours to go until our #Oscars preview...\\n\\nJoin @ColinGPaterson in LA ahead of the film industry's biggest night.\\n\\nhttps://?\",\n",
       " \"RT @BBCNewsEnts: The red carpet has been rolled out and Hollywood is getting ready for Sunday's #Oscars https://t.co/Qus3KbTQ65\",\n",
       " 'RT @BBCBreaking: David Bowie wins Best British Album at the #BRITs, having already won best British Male Solo Artist\\n\\nhttps://t.co/ERfcUQJi?',\n",
       " 'RT @BBCBreaking: David Bowie wins best British Male Solo Artist at the #BRITs\\n\\nhttps://t.co/ERfcUQJiZW #BRITs2017 https://t.co/2lGkpdOh2g',\n",
       " 'RT @BBCBreaking: .@the1975 wins best British Group at the #BRITs\\n\\nhttps://t.co/ERfcUQJiZW #BRITs2017 https://t.co/DgFiQx61YJ',\n",
       " 'RT @BBCBreaking: Emeli Sande wins best British Female Solo Artist at the #BRITs\\n\\nhttps://t.co/ERfcUQJiZW #BRITs2017 https://t.co/wI6NkhahTz',\n",
       " \"RT @bbc5live: Kevin O'Connell has been nominated for TWENTY Oscars and never won.\\n\\nCould #Oscars2017 be his year? \\n\\nhttps://t.co/lc3hooRbG7\",\n",
       " 'RT @BBCYaldaHakim: Watch: exclusive interview with Angelina Jolie about her latest film on the Cambodian genocide https://t.co/hJO0LOOuTG',\n",
       " 'RT @BBCWorld: Angelina Jolie.\\n\\nAngkor Wat.\\n\\n@netflix \\n\\nJoin @BBCYaldaHakim LIVE from red carpet: 1030 GMT. Add BBCNews on Snapchat https://?',\n",
       " 'The singer Peter Skellern, best known for the hit \"You\\'re a Lady\", has died at the age of 69? https://t.co/4KnOpJNZGb',\n",
       " 'What a night for @Adele! \\n\\n- 5 #GRAMMYs wins \\n- 1 award rejection\\n- Second performance fluff:? https://t.co/NYJMtdAynq',\n",
       " \"RT @BBCNewsEnts: Here's what @Adele said to @Beyonce after being presented the best album award at the #Grammys. https://t.co/wV2tyCKP2m\",\n",
       " 'RT @BBCNewsEnts: The Grammy for Song Of The Year goes to @Adele for Hello! #Grammys https://t.co/V6NiUBRgkJ',\n",
       " 'RT @BBCNewsEnts: Best urban contemporary album: @Beyonce - Lemonade #Grammys https://t.co/ggZYa5iYbK',\n",
       " 'First the @goldenglobes, then the @BAFTA. Next stop #Oscars? https://t.co/V6w3o7aVlA',\n",
       " 'RT @BBCOne: Viola Davis scoops the Supporting Actress award for her astonishing performance in Fences. #BAFTAs https://t.co/MakgzpPYnB',\n",
       " \"RT @VictoriaLIVE: Just some of what's coming up on today's #VictoriaLIVE ?\\n\\nCan't catch it live? Find the best bits here: https://t.co/QDh7?\",\n",
       " \"RT @VictoriaLIVE: On today's #VictoriaLIVE  9-11am BBC Two, BBC news &amp; online.\\n\\nCan't catch it live? Best bits are here: https://t.co/QDh7z?\",\n",
       " 'A magical guitar, a TV star and the Land of the Dead: Pixar drops trailer for new animated film #Coco? https://t.co/goFMIykRIr',\n",
       " \"The best free TV-streaming services that don't require you to sign in https://t.co/nbpAuTKhhY https://t.co/NoqFBPW6Go\",\n",
       " \"The best free TV-streaming services that don't require you to sign in https://t.co/vi8LyoadUw https://t.co/EPbbRLHUpf\",\n",
       " \"The best free TV-streaming services that don't require you to sign in https://t.co/9jNgot0DFd https://t.co/iVRJFWoBGT\",\n",
       " 'You can now lick your phone to share your best sex moves with the world. Wait, what? https://t.co/GwjgnQvOwB https://t.co/ZNBJSM0QWo',\n",
       " \"From Avantis to Triumphs: Check out the incredible cars of LA's Automobile Driving Museum https://t.co/MvtXNI5ngl https://t.co/sMK3bZyBnY\",\n",
       " 'How to make the best cold-brew coffee at home https://t.co/CoyTP7QgRN https://t.co/08A7pmsAMB',\n",
       " \"From Avantis to Triumphs: Check out the incredible cars of LA's Automobile Driving Museum https://t.co/4tBpxaYt1V https://t.co/RSpAnzFEW4\",\n",
       " 'Best sound bars under $300 https://t.co/IjFMrTkiZt https://t.co/pJIbmuSLVa',\n",
       " \"Audeze iSine 10: Odd design, but some of the best-sounding in-ear headphones we've ever heard (review)? https://t.co/rRZaiy0MaI\",\n",
       " 'You can now lick your phone to share your best sex moves with the world. Wait, what? https://t.co/aERMZhsVF3 https://t.co/pI9dAQ47He',\n",
       " '25 best battery-life laptops https://t.co/EfKBv09nad https://t.co/gXJCD2J2Wf',\n",
       " \"Audeze iSine 10: Odd design, but some of the best-sounding in-ear headphones we've ever heard (review)? https://t.co/rMiqC8cxwB\",\n",
       " 'The 25 laptops with the best battery life https://t.co/kqQYIOG1pI https://t.co/tPU5TOF12o',\n",
       " 'Sails and subs: A tour of the San Diego Maritime Museum https://t.co/La3Vl2eJoy https://t.co/WQTxBHcOqN',\n",
       " 'How to buy the best e-bike https://t.co/YwB4xRADVf https://t.co/FxLH03eBX4',\n",
       " 'How the #JungleBook team created those Oscar-winning effects https://t.co/sZCJzwuReC https://t.co/60NbjsUizp',\n",
       " 'These are the 25 best laptops for the battery-conscious ? https://t.co/oozbrrMoNU https://t.co/e9sDsq6ve5',\n",
       " 'The very best keyboard apps available for you iPhone.? https://t.co/C55wMWyhNa',\n",
       " 'These are the 25 best laptops if you want a long-lasting battery https://t.co/YTXzKOkGfV https://t.co/D1MpI2BArk',\n",
       " '25 best battery-life laptops https://t.co/64PKkoxhmm https://t.co/mCGZZVGVVj',\n",
       " 'The 25 best laptops if you want a long-lasting battery https://t.co/pDiqYhOTla https://t.co/A4nZfKvk4m',\n",
       " 'Did tweeting really cause that Best Picture gaffe? https://t.co/nxYnkMiwMf #Oscars https://t.co/WOSAoeVB1H',\n",
       " \"You've seen the best phones of #MWC17. Now check out the gadgets: https://t.co/TqegyVqjfd https://t.co/LoYKUHOEVn\",\n",
       " \"Forget #Oscars gaffes, today's best viral vid stars a mumbling cat https://t.co/eKUbZSEUjq https://t.co/VrolXT35qp\",\n",
       " \"You've seen the best phones of #MWC17. Now check out the gadgets: https://t.co/tFE4olijx9 https://t.co/gvV8ht5fYp\",\n",
       " \"Forget #Oscars gaffes, today's best viral vid stars a mumbling cat https://t.co/V5D7eANcVz https://t.co/ghTxx126tt\",\n",
       " 'Marvel at a sea of amazing award-winning underwater photos https://t.co/cJTuBqXgfr https://t.co/rOYlex8YSE',\n",
       " '#envelopegate naturally opened up all sorts of hilarity on Twitter https://t.co/BCgQov0Cf5 #Oscars https://t.co/4mfwZecWth',\n",
       " 'Amazon nets two #Oscars for #ManchesterByTheSea, but misses out on the Best Picture award https://t.co/rPVV4FK423 https://t.co/Cba6i8XTQC',\n",
       " 'Trump tweets scorn for NY Times Oscars ad (ad goes viral) https://t.co/PaqSLX60mx https://t.co/xiGNnSTufx',\n",
       " 'Samsung tries to out-cool Apple at the #Oscars https://t.co/s8He1IoLz4 https://t.co/RH8ABiJVyN',\n",
       " \"The real #Oscars shock news? 'Suicide Squad' is now an Academy Award winner https://t.co/7iG1XaHoFC https://t.co/sckSKpHCFo\",\n",
       " 'How the #JungleBook team created those #Oscar-winning effects https://t.co/ZjZT2BGAc2 https://t.co/kgmyjOmIoT',\n",
       " 'RT @A1GOY: Today?s @Carfection film is all about the @RollsRoyceMedia Wraith Black Badge. https://t.co/QjxMuiI5M9',\n",
       " \"For those of us still catching up, here's what happened at the #Oscars last night https://t.co/qvqfotbRxp https://t.co/1gF96Fs1k2\",\n",
       " 'How the VFX team for The Jungle Book created Academy Award-winning effects https://t.co/TUD0Qp963b #Oscars https://t.co/ieN1SWhGij',\n",
       " \"The end to this year's #Oscars was...interesting https://t.co/zesZ6xWDRC https://t.co/u6iz0cxXhN\",\n",
       " 'Samsung tries to out-cool Apple at the #Oscars https://t.co/Aw1MokcYIS https://t.co/rfMwI1cSHh',\n",
       " \"The Oscar for best picture goes to... wait a minute, NOT 'La La Land' https://t.co/RU1XvZ4hBO #Oscars https://t.co/ObMCqjGUam\",\n",
       " \"Your first look at the #HuaweiP10, Leica's picture pal https://t.co/cNoBu3Xhoe #MWC17 https://t.co/69ofhlLqid\",\n",
       " 'Watch the films nominated for #Oscars online https://t.co/W8PoaH4IuD https://t.co/up7kM3Uk1i',\n",
       " \"39 films (and a tech company) you didn't know won #Oscars https://t.co/YQxP7wpHJd https://t.co/EuId72CEBq\",\n",
       " 'The Jungle Book wins best visual effects at the #Oscars, find out why it deserved to win https://t.co/I2WS5xipJN https://t.co/igEyOvpb8Y',\n",
       " '.@SamsungMobile tries to out-cool @Apple at the #Oscars https://t.co/8pMHmgKR3c https://t.co/OMqC4fjCD1',\n",
       " \"Don't miss out on the #Oscars: How to watch if you don't have cable https://t.co/YnT1RW4oMY https://t.co/qr65FlZie3\",\n",
       " 'Words you never expect to hear: #SuicideSquad wins at the #Oscars https://t.co/jomvi4suPG https://t.co/CgPu97jRXh',\n",
       " \"'Hidden Fences' goof reappears at #Oscars and Twitter takes off https://t.co/ggCmdsb8UI https://t.co/8LJOjlnxa4\",\n",
       " '.@EyeOfJackieChan causes early panda-monium on #Oscars red carpet https://t.co/eOdD2YA5eD https://t.co/2ccqx5b7JF',\n",
       " 'Horror movies did not get nominated for any #Oscars2017 awards, but they should (commentary) https://t.co/Ep9ZH0zOcm https://t.co/Zndlt73w0I',\n",
       " '#HonestTrailers mocks the nominated films of #Oscars2017 https://t.co/ThbS8gZpXn https://t.co/3BbrAJC9Xq',\n",
       " 'Which FX extravaganza will take home the visual effects award at #Oscars2017? https://t.co/rLmwY2eb1E https://t.co/UnfZ7MzKYl',\n",
       " 'Will Amazon grab the Best Picture Oscar for playing nice?https://t.co/4lWVHbcElF #Oscars2017 https://t.co/xm2oXOiVuc',\n",
       " \"Did that #Oscars2017 nominee catch your eye? Here's how you can catch up on the movies online? https://t.co/GECQ4Ls1eq\",\n",
       " \"39 films (and a tech company) you didn't know won Oscars https://t.co/LTDsI69Qo8 #Oscars2017 https://t.co/S2kqgj8eOb\",\n",
       " 'Holy embarrassment! @BatmanvSuperman loads up on Razzies https://t.co/JrEL8Oqaxx #Oscars2017 https://t.co/gYbQItpyhO',\n",
       " \"How to watch the #Oscars2017 if you don't have cable https://t.co/zC9dpXjdU5 https://t.co/MplRHuv34R\",\n",
       " \"Need a little more electricity in your life, but aren't ready for an EV? Here's how to buy the best hybrid? https://t.co/IrTfX2gpoh\",\n",
       " 'And the #Oscars go to...Amazon, for playing nice (sorry, Netflix)  https://t.co/crM4p4TmIP https://t.co/AnyEM9oWTa',\n",
       " 'Which film will win the 2017 visual effects Oscar? https://t.co/PhQ2urlAh2 https://t.co/dKrZpGP0kM',\n",
       " 'Fill your weekend with all of the Oscar-nominated films available for streaming https://t.co/HhNX1hpehj #Oscars https://t.co/BaMTtc0ia8',\n",
       " 'RT @RogerWCheng: TCL is best known for making TVs. Its Alcatel sub-brand makes phones. #mwc2017 #blackberry',\n",
       " \"39 films (and a tech company) you didn't know won Oscars https://t.co/6wAOaCiGBc https://t.co/NMxX1896yn\",\n",
       " \"39 films (and a tech company) you didn't know won Oscars https://t.co/JzYuBVFlll https://t.co/7CmQrjAa1Z\",\n",
       " \"39 films (and a tech company) you didn't know won Oscars https://t.co/27gHgougoO https://t.co/4DOw5SQFX5\",\n",
       " 'Fill your weekend with all of the Oscar-nominated films available for streaming https://t.co/gZFXuekoVj #Oscars https://t.co/iT0b30Ppiz',\n",
       " \"You probably didn't know these films won #Oscars https://t.co/k4xox14Ana https://t.co/IUXbAzOUQP\",\n",
       " 'Honest Trailers takes on the #Oscars in a roundup of nominated films. Warning: Do not consume liquids while watchin? https://t.co/AFx7BKiod2',\n",
       " 'Buy an Oscar-nominated movie for $4.99, get a $5 gift card https://t.co/xAa7yIgN4l https://t.co/mCUF8l2Agm',\n",
       " 'Best mobile games of 2017 https://t.co/5fEdQnRWMM https://t.co/cEd3vruo9b',\n",
       " 'Best mobile games of 2017 https://t.co/5RxVJWeLZS https://t.co/5i0bVEmCBL',\n",
       " 'Best mobile games of 2017 https://t.co/MWw1puR3xe https://t.co/j4cRRAgrdk',\n",
       " \"Need a little more electricity in your life, but aren't ready for an EV? Here's how to buy the best hybrid? https://t.co/eLna0RKGxS\",\n",
       " \"How to watch the #Oscars2017 if you don't have cable https://t.co/xK49bcQ73Q https://t.co/HzYPTIkHIK\",\n",
       " 'This interactive telenovela is hands-down the best use of Facebook Live https://t.co/WywWe1KV3s https://t.co/s05yOV8ZZu',\n",
       " 'Hacker knows best: #Privacy tips from @KevinMitnick https://t.co/npkmKcWbSE https://t.co/nooAYlvfPA',\n",
       " 'Best home theater upgrades from $10 and up https://t.co/gyaGaZtAw9 https://t.co/elmuhxyV2m',\n",
       " 'Hacker knows best: Here are privacy tips from @kevinmitnick https://t.co/wguH2jKdZa https://t.co/klFLhMntkM',\n",
       " 'Best home theater upgrades from $10 and up https://t.co/Y8KGMYhAMY https://t.co/onozkiyk60',\n",
       " 'Why horror films deserve Oscar nominations too https://t.co/OZ4Vam7HUC https://t.co/pmgsNmxqfi',\n",
       " 'The 7 best #VR apps for your iPhone https://t.co/Ger9b2MrA7 https://t.co/yaTPH8ZTGj',\n",
       " 'Trouble for #VR? Facebook is ending a slew of Oculus demos in Best Buys. https://t.co/ky6uwIEv7a',\n",
       " \"Some of the best of @YouTube 's trending videos this week, from @nasa @Jenna_Marbles @ChemicalKevy &amp; @CasuallyE? https://t.co/oyOymb4boD\",\n",
       " \"Sports Illustrated's best portraits of top female athletes https://t.co/XdkRuDF86M https://t.co/5sq2wKeUvt\",\n",
       " 'Jimmy Kimmel reveals how the Oscars was supposed to end https://t.co/H3ZjjseH8h https://t.co/T8f6NKVx1j',\n",
       " 'Best candid photos from #Oscars2017 https://t.co/h5cUbtMlIl https://t.co/r5ADJqg9z8',\n",
       " 'Brie Larson refused to applaud Casey Affleck after #Oscar win https://t.co/VwEAcBHGkq https://t.co/j2F8WJj4bN',\n",
       " 'Shocked faces of Meryl Streep and Matt Damon captured at exact moment of Oscars blunder https://t.co/tsWgoWKQso https://t.co/55cPhYTkSl',\n",
       " \"Britain's best kebab houses in 2017 announced - did your favourite win an award? https://t.co/6xuo6clK20 https://t.co/WmbSkOC4jT\",\n",
       " 'Suicide Squad won an Oscar, and everyone is making the same joke https://t.co/D7BbHLCNBJ https://t.co/AqtU3MToM4',\n",
       " 'Ryan Gosling?s busty Oscars date revealed to be his sister! https://t.co/awlVCo9uKc https://t.co/Xazrr8yGpg',\n",
       " 'Oscars 2017: The most Googled dresses of the night https://t.co/SC9FyjrjGL https://t.co/XGBakv2lww',\n",
       " \"Ryan Seacrest spoiled The Oscars opening and Justin Timberlake wasn't happy https://t.co/StcDF8n2uR https://t.co/NIWfErCscr\",\n",
       " 'Moonlight wins best picture Oscar ? after Warren Beatty gives award to La La Land https://t.co/9TjZ6wz5xx https://t.co/mp7A6uYp41',\n",
       " '35 big Hollywood stars that have (yet) to win an Oscar https://t.co/SF1C9bOoW7 https://t.co/ezDGkpfva4',\n",
       " \"Have you visited Britain's best beach? https://t.co/PdADHwkoMb https://t.co/defaNZXwiu\",\n",
       " \"Britain's best beach revealed - and has even made it into Europe's top 10 https://t.co/EIchOCyaMe https://t.co/Ga02xt2ZlW\",\n",
       " 'The best world press photos of 2017 https://t.co/lxljdCZ3vh https://t.co/U83vwkcjw3',\n",
       " 'This is how Asda can sell the best red wine in the world for under ?6 https://t.co/Nt3qU5JUnf https://t.co/IHxdERbPgo',\n",
       " 'Revealed: The best press photographs from the past year https://t.co/HfohElDhlx https://t.co/E0DbwwwKAl',\n",
       " \"British 'bargain' hotel crowned best in the world for quality and service - and a room there costs just ?78 a night? https://t.co/obVovvyCzQ\",\n",
       " '40 of the best looking Japanese cars ever https://t.co/AMYk8Mbxrx https://t.co/hU7qEwQ7fR',\n",
       " \"This hidden beach has been named one of the best in the world - and it's in the UK https://t.co/ZRMsrYatb8 https://t.co/KVFMLm8nPL\",\n",
       " \"This hidden beach has been named one of the best in the world - and it's in the UK https://t.co/XqJhodPIau https://t.co/tAPTbmATZ2\",\n",
       " \"Revealed: The world's best airports for 2017 https://t.co/ODWKCl5J5K\",\n",
       " \"Ben Affleck has completed treatment for alcohol addiction to be 'best father I can be'\\nhttps://t.co/TOLhI3nqqO\",\n",
       " 'This little pooch was never going to win Best in Show, but it won a lot of hearts https://t.co/qE03qEksjw',\n",
       " 'This Jack Russel was never going to win Best in Show, but it won a lot of hearts over the weekend at Crufts\\nhttps://t.co/RY4ve605TE',\n",
       " 'Ed Sheeran is to guest star in the upcoming season of Game Of Thrones \\nhttps://t.co/QQelUtc4cs',\n",
       " \"Best night ever? British couple's selfies with A-list stars show them accidentally gatecrashing the Oscars? https://t.co/wGXZjJQuLD\",\n",
       " \"British couple's selfies with A-list stars show them accidentally gatecrashing the Oscars during TV prank? https://t.co/9SPGnCblwH\",\n",
       " \"It's the embarrassing uncle of British film ? so why all the love for Love Actually? #premium\\nhttps://t.co/77i6wYMol1\",\n",
       " \"Brie Larson's refusal to applaud Oscar winner Casey Affleck 'spoke for itself' https://t.co/ccsUo1sGCs\",\n",
       " 'Nicole Kidman finally explains her strange, seal-like Oscars clapping\\nhttps://t.co/uUmB4d9Wx8',\n",
       " \"Emma Watson and Piers Morgan in Twitter row over 'topless' picture\\nhttps://t.co/HodFB8J3io\",\n",
       " \"Actress Viola Davis wins Harvard's Artist of the Year 2017 award https://t.co/NgChOs4iFK\",\n",
       " 'The five best mysterious UFO sightings around the world \\nhttps://t.co/gyzyEdgrtz',\n",
       " '\"The saddest thing for a girl to do is to dumb herself down for a guy.\" Emma Watson\\'s 15 best quotes about women? https://t.co/4NE57MBJhu',\n",
       " \"Crufts clamps down on 'deformed' dogs after outcry over last year's best in breed https://t.co/t2kNgahmSU\",\n",
       " \"The ultimate tour of London's best historical pubs - just in time for the weekend #FridayFeeling\\nhttps://t.co/yNlGkavIBE\",\n",
       " 'What happens to all the wasted food at the #Oscars? https://t.co/12bmjbIoaR',\n",
       " \"CAMRA pub of the year 2017: Britain's best boozer revealed https://t.co/jX2Wcqlq82 https://t.co/nrjtaMulz7\",\n",
       " '#WorldBookDay: 22 of the best costumes https://t.co/1h49UdnbbW',\n",
       " 'PwC auditors behind Oscars best film fiasco will not work with the awards again, Academy president says \\nhttps://t.co/FrYCZwSOJz',\n",
       " 'Best savings accounts get even better: top rates up 43pc in a month https://t.co/49deQunoVG',\n",
       " \"Sisters on the catwalk: @bellahadid says she and @GiGiHadid have 'been best friends' since they were kids? https://t.co/BjbcJwX0WO\",\n",
       " \"#Oscars mix-up inspires cinema's genius #LaLaLand prank on audience https://t.co/GcgOH1xetv\",\n",
       " \"26 reasons why New Zealand is the world's best country\\nhttps://t.co/NhCaTQtY4G https://t.co/PUY6rVVdcO\",\n",
       " 'Allison Pearson: \"What Warren Beatty did to La La Land at the Oscars was poetic justice\" #premium \\nhttps://t.co/NpJPKYMtru',\n",
       " 'How the #Oscars fiasco cost us the ultimate Kimmel-Damon joke https://t.co/RoulTefard',\n",
       " 'What is going on?! The moment Matt Damon, Meryl Streep and The Rock realise La La Land gaffe https://t.co/9cjPbLbRpv',\n",
       " \"Trump says Oscars 'too focused on politics' and it was 'sad' what happened with the La La Land / Moonlight mix-up\\nhttps://t.co/huJE9ceCSf\",\n",
       " \"'Hollywood plot twist': how newspapers in US and around the world reacted to La La Land / Moonlight Oscars mix-up \\nhttps://t.co/qHlz5s6kW2\",\n",
       " 'The six stories behind the greatest scene in Oscars history\\nhttps://t.co/Pt93i6BpUf',\n",
       " '#Oscars2017 #cartoon https://t.co/uREX5fYWS2',\n",
       " '\"The haters may have won, but they\\'re wrong ? La La Land would have been a worthy Best Picture winner\" #premium https://t.co/19AqHoNhFT',\n",
       " \"Ryan Gosling's barely stifled giggle over Best Picture fiasco sweeps social media\\nhttps://t.co/nQml5SnsM8\",\n",
       " 'Michael J Fox receives standing ovation as he arrives on Oscars stage in DeLorean\\nhttps://t.co/KgQYMwA9Xi',\n",
       " '#Oscars organiser Brian Cullinan from PwC boasted of special relationship with Academy days before awards mix-up \\nhttps://t.co/defqKzEdIt',\n",
       " 'PwC in crisis meetings with Academy over 83-year contract following amazing #Oscars blunder\\nhttps://t.co/QLRSEnoxyA',\n",
       " 'Disbelief, anger and a lot of laughter: Social media erupts after La La Land #Oscars howler\\nhttps://t.co/chA5LWOhB0 https://t.co/brO1F1bON3',\n",
       " 'Star-struck bus tourists get the stop of their lives with #Oscars surprise https://t.co/UHp3ZY6CMW',\n",
       " 'Was Leonardo DiCaprio to blame for Oscars Best Picture blunder? \\nhttps://t.co/fxrhlftvZe https://t.co/4wWuv3Ho0I',\n",
       " \"Jimmy Kimmel skewers Donald Trump at the #Oscars and shows support for 'overrated' Meryl Streep https://t.co/RABAym5Sxb\",\n",
       " 'From Olly Murs to Warren Beatty at the #Oscars - the top ten worst awards show fails\\nhttps://t.co/4kU4Ih209f https://t.co/SPS1zRvrpd',\n",
       " 'Mahershala Ali becomes the first Muslim actor to win an Oscar for his role in #Moonlight #Oscars https://t.co/oE9retsfeG',\n",
       " 'All the photos you need to see from the #Oscars most exclusive after parties \\nhttps://t.co/kHHFZxSBlI https://t.co/8vKspCpGCR',\n",
       " \"Another #Oscars blunder: In Memoriam segment pays tribute to 'alive and well' producer Jan Chapman\\nhttps://t.co/chA5LWOhB0\",\n",
       " 'Is global financial giant PwC - the company in charge of the balloting process - to blame for the #Oscars mix-up?\\nhttps://t.co/QLRSEnoxyA',\n",
       " 'Moonlight wins Best Picture Oscar over La La Land. See the #Oscars fiasco in pictures\\nhttps://t.co/SY1vaFoPww https://t.co/iSyuPTJt9T',\n",
       " \"#Oscars host Jimmy Kimmel has been criticised for joking about non-white people's names https://t.co/PhYEhfHzNI\",\n",
       " '#Oscars mistake.... what really happened when Warren Beatty wrongly awarded La La Land over Moonlight https://t.co/XPgAWwqCul',\n",
       " \"#Oscars host Jimmy Kimmel criticised for joking about non-white people's names\\nhttps://t.co/PhYEhfZbci\",\n",
       " '#Moonlight wins #BestPicture at the #Oscars but La La Land is announced as the winner by mistake? https://t.co/j27ViejoXY',\n",
       " \"The moment Emma Stone realises La La Land didn't win #BestPicture at the #Oscars https://t.co/26KMwxAoUt\",\n",
       " 'See what Emma Stone, Nicole Kidman, Meryl Streep and more wore on the #Oscars red carpet https://t.co/eJAOyFVv0V https://t.co/13lzE7UBBV',\n",
       " '#Moonlight wins #BestPicture - after La La Land mistake\\n\\nEvery jaw in Hollywood is still being scraped off the floo? https://t.co/F7dr9JmIiR',\n",
       " 'How Isabelle Huppert, star of Elle, nailed ageless elegance at the #Oscars https://t.co/kPZcijl3Hi https://t.co/3nvw3cgv3y',\n",
       " 'Meryl Streep elegantly moves on from the Karl Lagerfeld row, wearing Elie Saab at the #Oscars? https://t.co/jiMAsyfSG1',\n",
       " 'Viola Davis swaps heels for trainers after winning her Oscar for Best Supporting Actress #Oscars? https://t.co/sT8vVfPKQK',\n",
       " \"Here's our five star review of Moonlight: a graceful, compassionate coming-of-age heartbreaker #Oscars #BestPicture https://t.co/Is2VaajCzu\",\n",
       " 'Moonlight wins the Academy Award for The Best Picture #Oscars #Moonlight https://t.co/fIrmYIZZIN https://t.co/V0laxTkGdK',\n",
       " 'La La Land wins the Academy Award for Best Picture #Oscars #LaLaLand https://t.co/fIrmYIZZIN https://t.co/IUaeCmZKjg',\n",
       " 'Emma Stone wins Best Actress for her performance in La La Land #Oscars #BestActress #LaLaLand? https://t.co/a4QzFa5x3j',\n",
       " 'The winner of the Best Actor Academy Award goes to Casey Affleck #Oscars #Oscars2017 #BestActor? https://t.co/2Nh94DrvQV',\n",
       " '32-year-old Damien Chazelle just became the youngest ever winner of The Academy Award for Best Director #Oscars? https://t.co/JrS6f1QiQ9',\n",
       " 'Moonlight wins Best Adapted Screenplay #Oscars https://t.co/fIrmYIZZIN https://t.co/WwP9b493ns',\n",
       " 'Manchester By The Sea wins Best Original screenplay #Oscars https://t.co/fIrmYIZZIN https://t.co/nLsMACY38e',\n",
       " 'La La Land wins Best Cinematography #Oscars #LaLaLand https://t.co/fIrmYIZZIN https://t.co/7n4WxZTTXy',\n",
       " \"Samuel L Jackson presents the Academy Award for Best Original Score to La La Land's Justin Hurtwitz #Oscars? https://t.co/tlqqcKW5ZQ\",\n",
       " 'Mahershala Ali becomes first Muslim actor to win an Oscar for role in Moonlight #Oscars https://t.co/oE9retaEn8',\n",
       " 'Meryl Streep moves on from Karl Lagerfeld row in Elie Saab at the Oscars #Oscars https://t.co/kN2PsOFOtq',\n",
       " 'Hacksaw Ridge wins the Oscar for Best Film Editing at the 89th Academy Awards #Oscars https://t.co/fIrmYIZZIN https://t.co/MAv2nW0Thv',\n",
       " 'La La Land wins its first Academy Award -  for best production design #Oscars #LaLaLand https://t.co/fIrmYIZZIN https://t.co/WbfrtzRZHI',\n",
       " 'Best Foreign Language Film goes to The Salesman #Oscars https://t.co/fIrmYIZZIN https://t.co/UBS1wbuvbS',\n",
       " '#Oscars 2017: Jimmy Kimmel tries - but fails - to bury the hatchet with Matt Damon https://t.co/umDx1kKRSj',\n",
       " 'The Oscar for the Best Supporting Actress goes to Viola Davis #Oscars #AcademyAwards https://t.co/fIrmYIZZIN https://t.co/8k9FSMuWEY',\n",
       " \"Jimmy Kimmel skewers Donald Trump and shows support for 'overrated' Meryl Streep #Oscars https://t.co/RABAym5Sxb\",\n",
       " \"Hacksaw Ridge wins Best Sound Mixing - meaning that La La Land won't be setting any new records #Oscars? https://t.co/aif73dAdPm\",\n",
       " 'Arrival wins its first Oscar: Best Sound Editing #Oscars https://t.co/fIrmYIZZIN https://t.co/mhm82qZBt5',\n",
       " 'Emma Stone, Dakota Johnson and Meryl Streep take to the red carpet for the 2017 #Oscars https://t.co/wEtcih29tN https://t.co/QHvGqkW9XB',\n",
       " 'The Oscar for Best Documentary Feature goes to OJ: Made in America #Oscars https://t.co/fIrmYIZZIN https://t.co/l8m8w57DhT',\n",
       " 'Fantastic Beasts and Where to Find Them wins Best Costume Design #Oscars https://t.co/fIrmYIZZIN https://t.co/UWsJOI6w72',\n",
       " 'The #Oscar for the Best Makeup and Hairstyling goes to Suicide Squad https://t.co/fIrmYIZZIN https://t.co/eKLduI1Pwc',\n",
       " '#Oscars 2017: winners list in full plus all the talking points from the Academy Awards https://t.co/N7y6PWGW9y',\n",
       " 'Mahershala Ali wins Best Supporting Actor #Oscars https://t.co/fIrmYIZZIN https://t.co/kvdz5c9BcX',\n",
       " \"'When I first met Matt, I was the fat one': Jimmy Kimmel begins his roast #Oscars https://t.co/fIrmYIZZIN https://t.co/JI2aGQl7WJ\",\n",
       " 'Arrival star Jeremy Renner brings some much-needed glamour to the red carpet #Oscars https://t.co/fIrmYIZZIN https://t.co/vxMKkdceJY',\n",
       " 'Best Supporting Actor should be up soon... here are our predictions #Oscars https://t.co/fIrmYIZZIN https://t.co/VGAWtMhweu',\n",
       " \"Andrew Garfield: 'Mel Gibson is a great man' #Oscars https://t.co/fIrmYIZZIN https://t.co/1GkpCHmcv5\",\n",
       " \"Ryan Gosling says La La Land reaction has been a 'nice surprise' #Oscars https://t.co/fIrmYIZZIN https://t.co/VxCGUy9XHf\",\n",
       " 'Best Actress nominee Emma Stone dazzles in Givenchy #Oscars https://t.co/fIrmYIZZIN https://t.co/LQG7LI7ztM',\n",
       " 'RT @TeleFashion: What does everyone think of Emma Stone in Givenchy Haute Couture at the #Oscars2017 ?https://t.co/OIylG8ZRhH https://t.co/?',\n",
       " 'Dev Patel has brought his mother along, and she looks ridiculously proud of him #Oscars https://t.co/fIrmYIZZIN https://t.co/KIvC9PygBf',\n",
       " 'Kirsten Dunst, Ruth Negga and Felicity Jones take to the red carpet for the 2017 Oscars https://t.co/cZjY84iTTM https://t.co/YYSYDxqJTv',\n",
       " 'RT @TeleFashion: Ginnifer Goodwin is wearing a very similar dress to Ruth Negga at the #Oscars2017 https://t.co/OIylG8ZRhH https://t.co/sAq?',\n",
       " \"RT @TelegraphFilm: Viggo Mortensen: 'I wouldn't be here if I wasn't nominated' #Oscars https://t.co/pDbgLGt1mc https://t.co/HYLMwV9XKP\",\n",
       " 'Jackie Chan brings not one but TWO dates to the #Oscars https://t.co/fIrmYIZZIN https://t.co/gPnz0XdJAP',\n",
       " 'The #Oscars: Why is Ruth Negga wearing a blue ribbon on her dress?  https://t.co/fIrmYIZZIN https://t.co/ck1XLJzSup',\n",
       " 'RT @TeleFashion: Best actress nominee Isabelle Huppert dazzles in @armani at the #Oscars2017\\nhttps://t.co/u905h1UBNg https://t.co/4tvLjmRjnX',\n",
       " 'Best actress nominee Ruth Negga is among the first to arrive at the 2017 #Oscars https://t.co/eJAOyFVv0V https://t.co/xhdPWEmNQ1',\n",
       " \"RT @TelegraphFilm: #Oscars 2017 live: Nominee Natalie Portman will not attend the #AcademyAwards, plus who's predicted to win https://t.co/?\",\n",
       " \"As those who don't make it at the Oscars will learn, 'losers' have more to gain in life than winners\\nhttps://t.co/VYlP9QWS54\",\n",
       " \"Meryl Streep hits back at 'lying' Karl Lagerfeld in Oscars dress row\\nhttps://t.co/yNojscQ00p\",\n",
       " 'My best friend dumped me. But it changed the way I view friendships forever\\nhttps://t.co/oep9ZyCPPK',\n",
       " \"Academy revokes sound mixer's nomination one day before Oscars\\nhttps://t.co/ocyAJkOdw9\",\n",
       " 'How the Oscars nominees get red carpet ready\\nhttps://t.co/a3RwARMKkD https://t.co/e51A3rrZnd',\n",
       " 'Pre-Oscars style: Emma Stone, Meryl Streep and more hit Hollywood for the biggest weekend of the year? https://t.co/D56rzrU0Yc',\n",
       " 'Oscars 2017 in Pictures, Hollywood prepares for the Academy Awards\\nhttps://t.co/rf06pYHdwq https://t.co/7htutIFYpl',\n",
       " 'Second Oscar nominee banned from coming to the US to attend awards ceremony\\nhttps://t.co/3AjXU4tr3w',\n",
       " \"La La Land's unsung hero: meet Ryan Gosling's piano teacher #Premium\\nhttps://t.co/EeWFycWTgj\",\n",
       " 'Couple recreate La La Land scenes for engagement photo shoot\\nhttps://t.co/uTIAGBVeUk',\n",
       " 'RT @TeleMusicNews: Beyonce wins best international female solo artist and Drake wins bets international male artist #brits https://t.co/aU1?',\n",
       " 'RT @TeleMusicNews: Adele wins Best Global Artist #brits https://t.co/aU1hnpgpQb https://t.co/sOyQLRzeJq',\n",
       " 'RT @TeleMusicNews: Little Mix win Best British Single with Shout Out To My Ex #brits #LittleMix https://t.co/aU1hnpgpQb https://t.co/4WTrTK?',\n",
       " 'David Bowie named Best British Male at Brits 2017 - Michael C Hall collects award on his behalf #brits https://t.co/rTDMFX4gph',\n",
       " \"RT @TeleMusicNews: The Best British Male Solo Artist award has been posthumously awarded to 'the late, great David Bowie' #BRITs2017 https:?\",\n",
       " 'RT @TeleMusicNews: David Tennant presents the award for Best British Female Artist to Emeli Sand? #BRITs2017 https://t.co/aU1hnpgpQb https:?',\n",
       " 'RT @TeleMusicNews: Maisie Williams and Romesh Ranganathan present the award for Best British Group to The 1975 #BRITs2017 https://t.co/aU1h?',\n",
       " 'Brit Awards 2017: full list of winners #BRITs2017 https://t.co/LdO0GEg4N3',\n",
       " 'RT @TeleMusicNews: Brit Awards 2017 live: Little Mix and Katy Perry hit the red carpet #BRITs2017 https://t.co/aU1hnpgpQb',\n",
       " \"Arrival 'sucked' and Meryl Streep performed 'like a clown' ? what one #Oscars voter really thinks https://t.co/nbwfK5SKGZ\",\n",
       " 'Oscar-winning actor Jamie Foxx reportedly target of racial slur in Croatia\\nhttps://t.co/owK2jf4sjL',\n",
       " 'The Blue Planet: the seven best moments from the original David Attenborough series\\nhttps://t.co/vmB4Q1bALJ',\n",
       " 'The 10 best Sir David Attenborough documentaries to stream online https://t.co/3ILaOcgqmV',\n",
       " 'The best street style looks from London Fashion Week\\nhttps://t.co/7MDFfWcR0A https://t.co/rgmjh1V4de',\n",
       " \"Best-selling author Jackie Collins' jewels and art go under the hammer\\nhttps://t.co/oIACNVCSxl\",\n",
       " '#Moonlight director Barry Jenkins on privilege, Oscars, and turning his childhood into cinema https://t.co/gXej3QkiEZ',\n",
       " \"Since year Dot: EastEnders' June Brown's best moments\\nhttps://t.co/5nCYSNhEiz\",\n",
       " \"Siberian supermodels and Margaret Thatcher: striking images from Britain's best photographers? https://t.co/gFFFPB6pMF\",\n",
       " \"Usain Bolt attempts an 'Oscars selfie' with sport's biggest stars as he wins Laureus World Sportsman of the Year? https://t.co/oTcUTHO0ME\",\n",
       " 'Adele at last night\\'s Grammy Awards: \"George Michael, I love him. He means a lot to me.\"\\nhttps://t.co/iyJDpTMJs4',\n",
       " 'Beyonce delivered a visually-striking tribute to motherhood during her Grammy Awards performance last night? https://t.co/olFOCBstn3',\n",
       " 'La La Land wins best film, plus Emma Stone wins Leading Actress #BAFTAs https://t.co/E64PA6wQQi https://t.co/penS0XCuGb',\n",
       " 'The Bafta Film Awards winners and stars in pictures, from Emma Stone to Nicole Kidman #BAFTAs? https://t.co/LbD7PLTk4d',\n",
       " \"From Best Director to Best Leading Actor, we reveal the winners from tonight's #BAFTAs right here https://t.co/5MHj7LNHMG\",\n",
       " \"RT @TelegraphFilm: 'Best Supporting Actor' goes to... Dev Patel for Lion #BAFTAs https://t.co/dZA8ZUpovi https://t.co/XFKR9PqQrj\",\n",
       " \"RT @TelegraphFilm: 13th, by filmmaker Ava DuVernay, takes home the award for 'Best Documentary' #BAFTAs https://t.co/dZA8ZUpovi https://t.c?\",\n",
       " \"RT @TelegraphFilm: Viola Davis wins 'Best Supporting Actress' for her role in Fences #BAFTAs https://t.co/dZA8ZUpovi https://t.co/mcEq3NNs3p\",\n",
       " \"RT @TelegraphFilm: La La Land has landed itself a Bafta for 'Original Music' #BAFTAs https://t.co/UJC0VN3h8y\",\n",
       " 'Actress Viola Davis, who is nominated for best supporting actress for her role in Fences, arrives at the #BAFTAs re? https://t.co/sY4bbd15CA',\n",
       " '\"I want to live life to the fullest and be the best father I can be.\" https://t.co/tkftfBlcpj',\n",
       " 'The best estimate puts charters? college persistence rates at around 23%. https://t.co/AgWAzMGEJy',\n",
       " 'May the best man win. And good luck figuring out who that might be. https://t.co/OMxqGz1Fp1',\n",
       " \"Thought the awards show season was over? No! Check out these pix from the 2017 Kids' Choice Awards.? https://t.co/Pc0Z7oEc0T\",\n",
       " \"RT @revieweddotcom: We're LIVE on Facebook right now for #NationalMeatballDay! The Instant Pot vs Oven: who cooks meatballs best? Watch: ht?\",\n",
       " \"This horse is the best dancer you'll ever see! https://t.co/wVcUar8MlO\",\n",
       " 'RT @heoj: #HowIBecameA news anchor: @ErinBurnett of @ErinBurnett @CNN @OutFrontCNN https://t.co/rW7LA74hmM #SheInspiresMe',\n",
       " 'RT @USATODAYsports: Duke?s Grayson Allen has once again let his emotions get the best of him. https://t.co/8MuwQGj7Bu',\n",
       " 'Gwyneth Paltrow, the Oscar-winning queen of wellness is at it again. https://t.co/rKFoK7RD6o',\n",
       " \"RT @Humankindvideos: This sweet #dog tries his best to cover the baby's foot with a blanket. https://t.co/OVi6F0JH3O\",\n",
       " 'Kenneth Lonergan is feuding with a college journalist about best actor winner Casey Affleck. https://t.co/4YpXx2sznT',\n",
       " \"La La Land's already taken movie theaters and the Oscars by storm. Next stop: the concert stage. https://t.co/EeTTj9iI0A\",\n",
       " 'Now, for the first time ever, forecasters are getting the best views of where lightning flashes:? https://t.co/jCTIydVLnY',\n",
       " 'Ooh la la! https://t.co/oRvVH6TGGh',\n",
       " \"'SNL': Octavia Spencer cracks on the Oscars, 'Hidden Fences' flubs https://t.co/nyXIsMGsQ9\",\n",
       " \"So, that's why we missed her at the #Oscars https://t.co/oLQ1kd8EEQ\",\n",
       " \"Academy boots both PwC accountants from next year's Oscars https://t.co/pVKAta13vl https://t.co/DRObGUka7g\",\n",
       " \"RT @usatodaylife: #BREAKING Academy boots both PwC accountants from next year's #Oscars https://t.co/LjUAXzZxGd\",\n",
       " '#BREAKING Academy president: Two accountants responsible for Oscars flub will not return https://t.co/rjVUTCF9Kq',\n",
       " 'How to prevent another Oscar flub? We have ideas https://t.co/sCPgbuVcBd https://t.co/0j1WaOUowP',\n",
       " 'Pro tip: An eyelash curler is your new best friend. Story from @Walgreens#WalgreensBeauty https://t.co/yEBUd2hUrV',\n",
       " \"This might be the best time of year to get McDonald's Filet-O-Fish https://t.co/maO1VioQz5 #AshWednesday #Lent\",\n",
       " 'RT @usatodayvideo: Here are the best (and worst) states to live in https://t.co/k7sHLL3exg',\n",
       " 'Shirley MacLaine ?processing the horror? of Warren Beatty?s Oscar flub https://t.co/TSuTzTtjiY https://t.co/CDgWYZQ5jV',\n",
       " \"Shirley MacLaine felt her younger brother Warren Beatty's pain during Sunday's big Oscar flub. https://t.co/mN4DdujUOt\",\n",
       " 'RT @maeve_mcdermott: Because I live for drama, I rounded up all the #EnvelopeGate suspects who may have sabotaged the Oscars: https://t.co/?',\n",
       " \"RT @AndreaMandell: Podcast! Think you've heard everything about that crazy #Oscars show? Nope. Our all-access backstage pass is here https:?\",\n",
       " 'These are the best and worst states to live in, according to new report https://t.co/hcm36wM3Wv',\n",
       " 'The Academy is apologizing for the most chaotic scene in #Oscars history. https://t.co/lv7I92DK7i #envelopegate? https://t.co/bVkqRYCjv3',\n",
       " 'Academy apologizes for #Oscars #BestPicture fiasco and vows \"action\" https://t.co/53T4vW9uxZ #envelopegate? https://t.co/60qcK8dfGT',\n",
       " 'Jimmy Kimmel has a great explanation for that crazy #Oscars finish (and how the set collapsed):? https://t.co/EWLoyoSAiz',\n",
       " \"Academy apologizes for Oscars best picture fiasco, vows 'action' https://t.co/Dp3yuRlfBX https://t.co/3VKB8M7wk9\",\n",
       " 'A win for Moonlight is a strong and hopeful statement about the future when it comes to inclusion in Hollywood.  https://t.co/UVJFmWAJAH',\n",
       " 'RT @billkev: Tragedy plus time - well, a few hours, at least - equals comedy: #JimmyKimmel explains that crazy #Oscars finish https://t.co/?',\n",
       " 'These are the best apps for making free international calls. https://t.co/JxG8ohoyvQ',\n",
       " 'Jimmy Kimmel explains that crazy Oscars finish (and how the set collapsed) https://t.co/RQrvEcYthV https://t.co/K1OaWPfbqt',\n",
       " 'RT @ForTheWin: Why #Oscars winner Mahershala Ali gave up basketball to pursue acting https://t.co/BVA0YGc5Jk https://t.co/mU1heKjexT',\n",
       " 'If you think you know everything about the crazy 2017 Oscars, think again.  https://t.co/YRORZE4Lwk',\n",
       " \"Oscars won't be last we see of O.J. Simpson in 2017 https://t.co/DUipXbR7nK https://t.co/DARlLKbca1\",\n",
       " 'Oscars 2017: All the looks from the red carpet https://t.co/yYd5wjT0fC https://t.co/7LdzALdDh2',\n",
       " \"RT @usatodayvideo: Another #Oscars flub: 'In Memoriam' tribute featured living producer Janet Patterson https://t.co/4mtIuGlc3E https://t.c?\",\n",
       " \"Let's take a minute to focus on the good that was overshadowed at the #Oscars.  https://t.co/THDg0kDhee\",\n",
       " 'The 89th Academy Awards sure ended with a bang, but the ratings were anything but. https://t.co/cwW7T3OnTM',\n",
       " \"PricewaterhouseCoopers on Oscar flub: 'We made a human error' https://t.co/qZYQSX4UDZ https://t.co/bpz7V1LXZe\",\n",
       " 'It was a good night for Amazon and Netflix at the #Oscars. https://t.co/lLkHuF7gOS',\n",
       " 'RT @usatodayvideo: Biggest winner at the 2017 Oscars: Diversity https://t.co/YiQSdvDsPV https://t.co/gYvfL6RdYf',\n",
       " \"#BREAKING PricewaterhouseCoopers details Oscar flub: 'We made a human error' https://t.co/VeN7yodcnX\",\n",
       " 'Oscars 2017: Who stole the style show and who was a fashion no-no? Vote now. https://t.co/nxNdnhUN2m https://t.co/vqcaN8gLXs',\n",
       " 'RT @AndreaMandell: Just got off the phone with the chairman of PWC, and now we know exactly what happened last night #Oscars https://t.co/7?',\n",
       " \"After #Oscars' shocking mix up, hilarious memes take over Internet https://t.co/dXS07FbaVS https://t.co/OIOAJGsRz0\",\n",
       " 'Moonlight is an incredible cinematic achievement that shouldn?t be overshadowed. https://t.co/3htAvxjvmG',\n",
       " \"Don?t let the Oscars' mix-up ruin ?Moonlight?s legacy https://t.co/wDTElfi9r2 https://t.co/N7bjg97qkR\",\n",
       " 'RT @JillDLawrence: .@elviadiaz1: A symbolic &amp; surreal #Oscars blunder as white entertainers hand statue to African Africans https://t.co/lr?',\n",
       " 'It was a really long road to the #Oscars (literally) https://t.co/PfXMKx3unR',\n",
       " \"These men were smokin' on the #Oscars red carpet: https://t.co/NHMJZwM2SU https://t.co/Vq4e5PHRBi\",\n",
       " 'See priceless photos of the Oscars audience reacting to that best picture flub https://t.co/Cl69kCzZXu https://t.co/sKkGR01BsI',\n",
       " \"In another flub Oscars' 'In Memoriam' includes producer who is still alive https://t.co/jnH6W2brXG https://t.co/WmUPT4i4Bf\",\n",
       " \"RT @desairbrown: It took less than 15 minutes for this to become @jimmykimmel's most RT'd Tweet ever #Oscars, according to @twitter https:/?\",\n",
       " \"The best picture mix-up apparently wasn't the only gaffe at last night's awards show https://t.co/1hKsUhrhYM #Oscarsfail\",\n",
       " 'The complete list of Oscar winners: https://t.co/hu2zrcPM1H #mondaymotivation #Oscars https://t.co/F1iSBF8Anq',\n",
       " 'Watch live on Facebook: Baby giraffe watch is still on https://t.co/zM4PwSX3gm',\n",
       " 'Oscars flub engulfs PricewaterhouseCoopers in controversy https://t.co/kpEifji8Zh https://t.co/RmLHEZ8LEv',\n",
       " 'Oscars: The 9 worst dressed https://t.co/tqLU3AYhoi https://t.co/rIS6K9dgaF',\n",
       " 'The 10 best dressed at the #Oscars: https://t.co/8QZoUpKEWf https://t.co/cCLw6RaEwo',\n",
       " 'The 9 worst dressed at the #Oscars: https://t.co/pxmjTusKXH https://t.co/nAR7ZAPtXq',\n",
       " \"Viola Davis's explosive #Oscars speech was an instant classic: https://t.co/JiETPVa0lT https://t.co/jR3uj2WQu5\",\n",
       " 'Not the best #MondayMorning for PricewaterhouseCoopers: https://t.co/dXS07ETA4k \"You had one job!\"',\n",
       " 'It was the biggest, most embarrassing, most awkward mistake in #Oscars history: https://t.co/hMsR1gB1WK #envelopegate #oscarfail',\n",
       " 'RT @andrewpscott: Warren Beatty holds envelope with ?Actress in a Leading Role? printed on the exterior during the 89th Academy Awards. Pho?',\n",
       " \"Here's how the worst flub in #Oscars history went down: https://t.co/hMsR1gB1WK No, really. https://t.co/NMOEWQMRCJ\",\n",
       " 'The best (and worst) #Oscars speeches, ranked https://t.co/CFgf08inUW',\n",
       " 'All the sizzling looks from the red hot #Oscars carpet: https://t.co/CUvgPRV3ja ??? https://t.co/8Hk5LgHCDI',\n",
       " 'PricewaterhouseCoopers, the firm that tallies the #Oscars, is \"sincerely\" sorry about the show\\'s wild ending https://t.co/7WYXSIbVSr',\n",
       " 'It was \"Moonlight\" that actually won #BestPicture in a wild ending at the #Oscars: https://t.co/wep26rYY97 https://t.co/HDfWQz3m1e',\n",
       " 'Cast your vote: Red carpet fashion at the #Oscars https://t.co/6gc74HVXXM https://t.co/UTZ9Ocncq2',\n",
       " '#Oscars 2017: Every crazy thing we saw backstage ? including THAT flub: https://t.co/J3ui4DIhEC (Photo: AP)? https://t.co/enFFxcjhea',\n",
       " 'Oscar fail 2017: Celebs are shocked, too! https://t.co/GTq9B57AXz #Oscars #BestPicture',\n",
       " '#Oscars 2017: The complete winners list https://t.co/hu2zrcPM1H #Oscar2017',\n",
       " 'It was like M. Night Shyamalan directing the #Oscars: https://t.co/MfLpIjDyLo #BestPicture',\n",
       " \"Here's exactly how the worst flub in Oscar history went down: https://t.co/hMsR1gB1WK #Oscars #BestPicture\",\n",
       " \"The show's not over: https://t.co/2TbdHVyX57 #Oscars #BestPicture\",\n",
       " 'Oscars 2017: The best (and worst) speeches, ranked https://t.co/ZNmvhoqt8R https://t.co/JwOueic8d6',\n",
       " 'Oscars 2017 fashion: Best looks of the big night in 5 photo galleries https://t.co/E832Lo0CLJ',\n",
       " 'The #Oscars best speeches, ranked -- including the \"Moonlight\" speech where Barry Jenkins actually got to speak. https://t.co/3BiKUn0VNr',\n",
       " \"Here's how the worst flub in Oscar history went down https://t.co/hMsR1gSCOi\",\n",
       " \"Here's how the worst flub in Oscar history went down https://t.co/LrkWgN8Uwi https://t.co/9kqGkDnbJj\",\n",
       " 'Oscar fail 2017: Celebs are shocked, too! https://t.co/aixVfxxbLK https://t.co/PqSI78kNWN',\n",
       " 'RT @AndreaMandell: Jenkins: \"Please write this down. The ppl from La La Land were so gracious. I can\\'t imagine being in their position and?',\n",
       " \"RT @ThatGirlCarly: Waiting on official word from Academy, but sounds like #oscars snafu could've been caused by fact that there are 2 sets?\",\n",
       " 'Oscars 2017: Every crazy thing we saw backstage ? including THAT flub https://t.co/sBQZr0Avdp https://t.co/UuaSlTBaDz',\n",
       " 'From ?Moonlight? director Barry Jenkins? speech, after winning best picture ? an award that was first misread. https://t.co/0emgkJAfi4',\n",
       " \"RT @usatodaylife: Here's what happened backstage when the Moonlight/La La Land flub happened: https://t.co/S23y5fw6ir https://t.co/NDcjQ95R?\",\n",
       " 'Zoomed-in photo of the envelope Warren Beatty was carrying onstage ? it was NOT the envelope for best picture. https://t.co/VThHQ8JnT8',\n",
       " 'RT @billkev: \"I was holding my best actress in a leading role card for the entire time,\" #EmmaStone says. \"Whatever story that was, I have?',\n",
       " 'RT @AndreaMandell: Stone: \"I was actually holding my best actress card the whole time. So I?m not sure what happened, but I wanted to talk?',\n",
       " 'RT @ThatGirlCarly: The amazing @violadavis is backstage, continuing her amazing speech-making. #Oscars2017 https://t.co/Xsr1zpfaLn',\n",
       " 'Barry Jenkins, taking the trophy for ?Moonlight.? #Oscars https://t.co/21FtL56mGA',\n",
       " 'RT @usatodaylife: So, that was WILD. #Oscars https://t.co/3g1FP0inW5 https://t.co/3GqqcOv5ye',\n",
       " 'Oscars 2017 fashion: Best looks of the big night in 5 photo galleries https://t.co/bWqqBBpAMc https://t.co/3ltR3zq1eM',\n",
       " 'RT @TheAcademy: And the Oscar goes to? https://t.co/i846CnSDAi',\n",
       " 'The 2017 best picture award goes to ? really, this time ? ?Moonlight.? #Oscars2017 https://t.co/r0apvFUExF',\n",
       " 'IMPORTANT UPDATE! The best picture award went to ?Moonlight? ? the award was misread on stage. https://t.co/SucOICeeWp',\n",
       " '#BREAKING Moonlight takes home the award for best picture #Oscars  https://t.co/MfLpIjDyLo',\n",
       " \"#BREAKING In a shocking Oscars twist, the best picture goes to 'Moonlight' not 'La La Land' as originally announced https://t.co/MfLpIjlXmO\",\n",
       " \"#BREAKING 'La La Land' wins best picture at the 89th annual Academy Awards https://t.co/MfLpIjlXmO\",\n",
       " 'RT @BryAlexand: Emma Stone and Brie Larson moments after Stone won best actress #oscars #backstage #realtears https://t.co/He81RDGJPz',\n",
       " 'And the Oscar for best picture goes to ?La La Land?! https://t.co/WyCpepyATo',\n",
       " 'Warren Beatty and Faye Dunaway are presenting the award for best picture. #Oscars',\n",
       " 'These are the nominees for best picture. Who?ll take it? #Oscars https://t.co/q15ntVqNc3',\n",
       " '\"I still have a lot of growing and learning and work to do,? says Emma Stone in accepting her Oscar for best actress.',\n",
       " '#BREAKING Emma Stone wins the best actress Oscar for her role in ?La La Land? https://t.co/MfLpIjlXmO',\n",
       " 'The Oscar for best actress goes to Emma Stone for her role in ?La La Land?! https://t.co/LxIB09Yjsb',\n",
       " 'Last year?s best actor, Leonardo DiCaprio, is presenting the award for best actress. #Oscars',\n",
       " 'These are the nominees for best actress. https://t.co/pYAMyxDOLq',\n",
       " '#BREAKING Casey Affleck wins the best actor Oscar for his role ?Manchester By the Sea? https://t.co/rjVUTCF9Kq',\n",
       " 'The Oscar for best actor goes to ? Casey Affleck for ?Manchester By the Sea? https://t.co/XvvCoNNhza',\n",
       " 'Oscars 2017: Winners list https://t.co/yoKZDX5UDY https://t.co/fUnvDGgQVG',\n",
       " 'Brie Larson, last year?s best actress, is presenting the award for best actor. #Oscars',\n",
       " 'These are the nominees for best actor. #Oscars https://t.co/Vv7pPf71Fn',\n",
       " 'RT @usatodaylife: \"This was a movie about love and I was lucky enough to fall in love while making it.\" -Damien Chazelle #Oscars',\n",
       " 'Barry Jenkins? speech for his best original screenplay award. #Oscars https://t.co/7GZnmCFkl1',\n",
       " 'The Oscar for best director goes to Damien Chazelle for ?La La Land.\" He?s 32 ? the youngest person to ever win thi? https://t.co/S8Ve5NItQo',\n",
       " 'These are the nominees for best director. #Oscars https://t.co/4ZXclfc0Tg',\n",
       " 'These four big awards are the only ones left. Who are your picks? #Oscars https://t.co/8GBXXRKuoZ',\n",
       " 'The Oscar for best adapted screenplay goes to Barry Jenkins for ?Moonlight? https://t.co/bjilCTP9AW',\n",
       " 'These are the nominees for best adapted screenplay. https://t.co/II9RuAzIwD',\n",
       " \"Jimmy Kimmel's Trump tweet during the Oscars got 100,000 retweets in 5 minutes. https://t.co/RB2axS1oeB\",\n",
       " 'Kenneth Lonergan wins for best original screenplay for ?Manchester By the Sea.? #Oscars https://t.co/OQ9RLEboOi',\n",
       " 'These are the nominees for best original screenplay. #Oscars https://t.co/Db1jTNlJeo',\n",
       " 'Ben Affleck and \"guest\" are presenting best original screenplay. #Oscars',\n",
       " 'The #Oscars ?in memoriam? montage has begun.',\n",
       " 'RT @usatodaylife: \"This is dedicated to all the kids who sing in the rain!\" #LaLaLand #Oscars',\n",
       " 'Oscars: The 10 best dressed https://t.co/OKevj2Ba4Z https://t.co/CX9Fq009wP',\n",
       " 'The Oscar for best original song goes to ?City of Stars? from ?La La Land\"',\n",
       " 'The Oscar for best original score goes to ?La La Land\"',\n",
       " 'Here are the 10 best dressed from the #Oscars. https://t.co/LiX7n3WTmU https://t.co/uP28yADgdD',\n",
       " 'RT @BryAlexand: Ryan and Emma waiting to go onstage #oscars https://t.co/YWXcTN0kmG',\n",
       " 'RT @usatodaylife: \"I was feeling sort of unrecognized...\" -Meryl Streep #Oscars',\n",
       " 'The Oscar for best cinematography goes to ?La La Land?',\n",
       " 'And then this happened. #Oscars https://t.co/3QDrE4nyxP',\n",
       " 'This is really happening. #Oscars https://t.co/Q7Nr9wBy1w',\n",
       " 'The Oscar for best live action short film goes to ?Sing\"',\n",
       " 'The award goes to ?The White Helmets? for best documentary short. #Oscars',\n",
       " '?Big films in small packages?: the nominees for best documentary short. #Oscars',\n",
       " 'The Oscar for best film editing goes to ?Hacksaw Ridge?',\n",
       " 'The Oscar for best visual effects goes to ?The Jungle Book\"',\n",
       " 'Denzel Washington officiates a mock wedding during the #Oscars.',\n",
       " 'RT @usatodaylife: \"Who\\'s your favorite actor?\" \"That man right there.\" #Oscars',\n",
       " \"The crowd yells 'Mahershala' to a group of surprised tourists #Oscars\",\n",
       " \"It's the first win of the night for La La Land. #Oscars\",\n",
       " 'The winner for best animated feature is #Zootopia! #Oscars https://t.co/x8cn7yLDwq https://t.co/3Ec6NN5AOM',\n",
       " 'Piper wins the #Oscar for best animated short film.',\n",
       " 'The Oscar for best foreign language film goes to ?The Salesman.? https://t.co/eHvg6VrLMI',\n",
       " 'These are the nominees for best foreign language film. #Oscars https://t.co/J0wOf6bzH3',\n",
       " 'Great speech from Viola Davis, who takes home the Oscar for best supporting actress. https://t.co/o1Gps251zB',\n",
       " '#Oscars 2017: Here are the men who wore it best. https://t.co/0Djuwsxjde',\n",
       " '?O captain, my captain, Denzel Washington,? says Viola Davis. #Oscars',\n",
       " 'Viola Davis: ?I became an artist and thank God I did because we are the only profession that celebrates what it means to live a life.\"',\n",
       " 'The Academy Award for best supporting actress goes to Viola Davis for her role in ?Fences.? https://t.co/lzaX0bcBCL',\n",
       " \"#BREAKING See the good, the bad and the 'what were they thinking?' looks from the Oscars red carpet https://t.co/4ZRjIuvsoJ\",\n",
       " 'These are the nominees for best supporting actress. #Oscars https://t.co/yvyVM7CZQe',\n",
       " \"The best jokes from Jimmy Kimmel's Oscar monologue https://t.co/7BuvOjfgJf https://t.co/Jklb1J3ery\",\n",
       " 'Twitter is not here for another ?Hidden Fences? flub on the Oscars red carpet https://t.co/l5vIlG95JP https://t.co/UGkNbYWf3c',\n",
       " '#Oscars 2017: All the looks from the red carpet https://t.co/PEFQmcJH2w',\n",
       " 'The #Oscar for best sound editing goes to ?Hacksaw Ridge?',\n",
       " 'RT @usatodaylife: And the winner for sound editing is #Arrival! #Oscars https://t.co/7qoZhYK7po',\n",
       " \"Now performing at the #Oscars: Lin-Manuel Miranda and Auli'i Cravalho doing ?How Far I?ll Go? from @DisneyMoana\",\n",
       " 'The best documentary Oscar goes to ?O.J.: Made in America\" https://t.co/25IBVfbc21',\n",
       " 'Katherine Johnson, the real NASA scientist from ?Hidden Figures,? is on stage at the #Oscars',\n",
       " \"#BREAKING Oscars quick take: Jimmy Kimmel comes out  'comfortable and swinging' https://t.co/lSUnpomAQl\",\n",
       " 'Best costume design goes to Colleen Atwood for ?Fantastic Beasts and Where to Find Them\"',\n",
       " '2017 Oscars: Mahershala Ali wins best supporting actor award https://t.co/GZ36aRY6at https://t.co/nQBUmhb3bJ',\n",
       " 'RT @usatodaylife: And the winner for best makeup is #SuicideSquad #Oscars https://t.co/PAcQntTm7w',\n",
       " \"Here's a minute-by-minute breakdown of the #Oscars https://t.co/zmpb8H8LoG\",\n",
       " 'The Oscar for best supporting actor goes to Mahershala Ali for his role in ?Moonlight\" https://t.co/pxiUMg090o',\n",
       " 'These are the nominees for best supporting actor. #Oscars https://t.co/Fyfye3pYvo',\n",
       " 'RT @usatodaylife: \"Meryl Streep has phoned it in for over 50 films over her lackluster career.\" @jimmykimmel #Oscars',\n",
       " 'RT @usatodaylife: \"On behalf of everyone here I want to say, we didn\\'t see \\'Elle,\\' but we loved you in it.\" @jimmykimmel #Oscars',\n",
       " 'Hairstyles that wowed on the #Oscars #redcarpet https://t.co/afrdDpeNGb https://t.co/hJxAV1ND6y',\n",
       " 'RT @usatodaylife: \"Well I\\'ve ruined the #Oscars already, I don\\'t know what to say.\" @jimmykimmel',\n",
       " 'The #Oscars telecast opens with @jtimberlake performing ?Can?t Stop the Feeling? from ?Trolls.?',\n",
       " 'Your bookmark for this evening: The list of #Oscars nominations. https://t.co/KFXcSl5sO5',\n",
       " 'RT @AndreaMandell: Denzel is the last arrival, and he spends the #Oscars carpet greeting fans https://t.co/28XlXz5yBK',\n",
       " \"RT @usatodaylife: Think there's a tutorial for these hairstyles? #Oscars https://t.co/I0Cvl7LbsV\",\n",
       " 'RT @ThatGirlCarly: Ryan Gosling ALMOST smiled in the #Oscars carpet ? https://t.co/CQOSxThsED',\n",
       " '#Oscars prep: Who will win -- and who should win. https://t.co/lrOdyJ5aAi https://t.co/KZ61AhgPoD',\n",
       " \"'He lied': Meryl Streep slams Karl Lagerfeld over Oscars dress controversy https://t.co/8QgHuya0zi https://t.co/XnqcDlZsaS\",\n",
       " \"8-year-old Sunny Pawar is the Oscars' cutest kid https://t.co/PrYGBZSjnR https://t.co/rxItkk4Hni\",\n",
       " 'Actors reveal the political figure they want to play on #SNL. #Oscars #redcarpet https://t.co/c3idhx7tqZ',\n",
       " 'Why Ruth Negga, Lin-Manuel Miranda and Karlie Kloss are wearing blue ribbons at the #Oscars https://t.co/HpwL0yuWWA',\n",
       " \"Didn't see that movie? There's a good chance it will win at the Oscars, writes Mitch Albom. https://t.co/IKEzhXdtQ2\",\n",
       " \"8-year-old Sunny Pawar is the Oscars' cutest kid. #fact https://t.co/4tPbmz60mR\",\n",
       " 'Why Ruth Negga is wearing a blue ACLU pin on the #Oscars #redcarpet. https://t.co/4Jzj1w9MiI',\n",
       " 'RT @ThatGirlCarly: Alicia Vikander ??#Oscars https://t.co/jstEVVhxOX',\n",
       " 'RT @usatodaylife: Nice to see you too, Dev. #Oscars #Lion https://t.co/BxztCf1kYk',\n",
       " 'Oscars 2017: The political snark is starting early https://t.co/bfwILe5x0O https://t.co/VKGH3ocMrD',\n",
       " 'Pregnant Beyonc? stuns in turquoise at Weinstein pre-Oscar party https://t.co/uTi2dHBlHt https://t.co/TozEeCBot7',\n",
       " 'RT @ThatGirlCarly: .@chrissyteigen &amp; @johnlegend ? #Oscars https://t.co/QnxfBpmy11',\n",
       " \"RT @usatodaylife: What's your favorite #Oscars look so far? Vote here: https://t.co/k3QdF9Ak8d https://t.co/zBC3t3WkZo\",\n",
       " 'The \"Hidden Figures\" men share how they prepped for the #Oscars. https://t.co/kIuYmBhuWp',\n",
       " \"How the directors of 'Moana' made an inspirational character. #Oscars #redcarpet https://t.co/gqALPoHx9j\",\n",
       " \"RT @usatodaylife: We're talking to the cutest #Oscars attendee, #Lion star Sunny Pawar! Watch here: https://t.co/ipGuT9U7Dt\",\n",
       " '#Oscars 2017: The political snark is starting early https://t.co/EvBWLmOqxJ',\n",
       " '#Oscars prep time: Here are the nominees for four of the biggest awards https://t.co/z3oJ84i5G1',\n",
       " 'Watch LIVE: USA TODAY on the Oscars red carpet https://t.co/ysYDZY161G https://t.co/IgcRhUiPJx',\n",
       " 'Who stole the style show and who was a fashion no-no at the #Oscars? Cast your vote.  https://t.co/cAnjHaZR9w https://t.co/bh5PHfFwmi',\n",
       " \"RT @usatodaylife: We're talking to  #HiddenFigures stars @glenpowell and @AldisHodge right now on the #Oscars red carpet! Join us: https://?\",\n",
       " 'Lights! Camera! Action! The earlybirds are arriving at the #Oscars right now.  https://t.co/7Canfr6qJz https://t.co/Y7PaOXo4UG',\n",
       " 'Vote now for best dressed and worst dressed at the #Oscars. https://t.co/OsRHtbKt0T',\n",
       " 'The best #Oscars dresses throughout history: https://t.co/HORUA9o2kU',\n",
       " 'RT @usatodaylife: See all the looks from the #Oscars red carpet right here: https://t.co/6y2sAsWH9s https://t.co/KqdpQKLPIT',\n",
       " 'RT @ThatGirlCarly: .@oliviaculpo shakes it for photographers #Oscars https://t.co/QaIttHzmuU',\n",
       " 'Oscars 2017: Live from the red carpet https://t.co/dPBpefnnz6 https://t.co/8jXFK0ONas',\n",
       " \"RT @usatodaylife: And we're LIVE! See all your favorite stars and all the glamour on the #Oscars red carpet right here: https://t.co/ipGuT9?\",\n",
       " '#BREAKING Watch live: Stars arrive on the red carpet for the 89th annual Oscars https://t.co/PoIXgffL2b',\n",
       " '#Oscars: Vote now for best dressed, worst dressed and share https://t.co/yLZ3Tb7Scg',\n",
       " \"RT @usatodaylife: Are you ready for the #Oscars? @klawls here and I'll live-tweeting the red carpet and the ceremony all night right here!?\",\n",
       " \"RT @ThatGirlCarly: Hey from the #oscars red carpet! I'm taking over @USATODAY's Instagram stories, so follow along to see what I see. https?\",\n",
       " 'Before the #Oscars, a look at some of the incredible women who inspired @HiddenFigureshttp://usat.ly/2mg2SN1',\n",
       " 'Best actress nominee Natalie Portman will miss Oscars https://t.co/alURd4iHLt https://t.co/0gbbtwaGtb',\n",
       " 'RT @usatodaytech: Talking Tech with @jeffersongraham: The 10 Best \"La La Land\" covers on YouTube https://t.co/PKbRsRNu6S',\n",
       " \"RT @usatodaylife: Here's why Natalie Portman will miss the #Oscars tonight. https://t.co/D1DnYjKMhs\",\n",
       " 'RT @JillDLawrence: .@MitchAlbom on #Oscars: If these movies are so great, how come we never heard of them? #OscarsSoElite https://t.co/Pz3H?',\n",
       " \"Oscars shock: Academy strips nomination for '13 Hours' sound mixer https://t.co/jBXSGeYRHM https://t.co/lt6wsTxJnA\",\n",
       " '$2 million earrings? USA TODAY tries on Oscar bling https://t.co/rkADDIvhm6 https://t.co/8X2oUSMQ7y',\n",
       " 'Blue carpet: The 2017 Independent Spirit Awards https://t.co/lRwfxICmdN',\n",
       " 'The Mothership: When nerds predict the #Oscars https://t.co/IQDiVjOQz0',\n",
       " \"The best and worst products from Amazon's affordable store brand https://t.co/Q5oYtfC3n4\",\n",
       " '\"We believe there is no best country, best gender, best religion or best color.\" https://t.co/T2ZDAABK3J',\n",
       " \"Syrian cinematographer from 'White Helmets' can't enter USA for Oscars https://t.co/dC2MvrGqwT https://t.co/96DjNMfA82\",\n",
       " 'RT @jeffersongraham: What\\'s your favorite \"La La Land,\" cover on @YouTube? I pulled 10 of mine and compiled here. https://t.co/fGZjIJciqz @?',\n",
       " 'And the awards for worst movies of the year goes to... https://t.co/rJeZwYAmLh',\n",
       " '6 major moments to watch for at the Oscars https://t.co/cKwFF5UlDJ https://t.co/F2EAwlLTCl',\n",
       " \"It's an honor to be nominated, but it's always better to win: https://t.co/vpukO6YyHq #Oscars\",\n",
       " '#Oscars weekend is annually fueled by champagne, but this year is different: https://t.co/KM8NVJO6Kg',\n",
       " 'Oscars weekend: Is politics clouding the partying? https://t.co/ThHCbvXbI0 https://t.co/a63Tlm1lDa',\n",
       " '\"We want this award to stand as a symbol of the unity between nations and the freedom of the arts.\": https://t.co/H5doPjgIXA #Oscars',\n",
       " 'Oscar foreign language film nominees decry fanaticism in U.S. https://t.co/vDNqLeXuGh https://t.co/OdwOzpnHKI',\n",
       " \"'Moana' star Auli'i Cravalho lights up Oscars rehearsal stage https://t.co/mEfrdMd9ix https://t.co/26iNcm9Dwj\",\n",
       " \"RT @BryAlexand: Stand back! #Moana star Auli'i Cravalho will rock #Oscar Sunday with her pipes judging by #OscarRehearsal. #Amazing https:/?\",\n",
       " 'RT @USATODAYcollege: The #Oscars2017 are this weekend. Check out some awkward acceptance speeches: https://t.co/YgbDgWkxLk https://t.co/Hu1?',\n",
       " 'RT @FanTheoryPod: Check out our new ep w H?bert Peck, producer of Oscar-nominated James Baldwin documentary #IAmNotYourNegro! https://t.co/?',\n",
       " 'Cinema has never looked this good. https://t.co/VmR9LHS0Ju #Oscars',\n",
       " 'Stars aren?t the only things that shine at the Academy Awards ? so do crystals. Lots and lots of crystals ?? https://t.co/zxmjolzXmz #Oscars',\n",
       " \"These are the nominees you've been tweeting about, according to @twitter #Oscars https://t.co/hlSSOIsXk9\",\n",
       " 'With all five best original song nominees confirmed to perform, the Oscars will offer a stellar concert. https://t.co/qnjfNZqnB2',\n",
       " \"A look at Friday's paper: Popularity of #Obamacare at highest in nearly 7 years; Predictions for #Oscars - Who'll w? https://t.co/5xWCnZrNXq\",\n",
       " 'Vote on your favorite Oscar dresses of all time: https://t.co/Qo9Rw9YJdi',\n",
       " 'The best Oscar dresses throughout history https://t.co/99TqvUtTUC https://t.co/xQmM5gCaE0',\n",
       " 'Viola Davis kicks off Oscars weekend with an eye-popping gown https://t.co/si10Kpupkb https://t.co/9gtq76uiyJ',\n",
       " 'Expect to see more award-winning fashion from Viola Davis. https://t.co/TyZRptHiae',\n",
       " 'Here are some of the worst-dressed celebs from awards season 2017. https://t.co/VWy1Y0Ox2T',\n",
       " 'The best #Oscars dresses throughout history. Hands down. https://t.co/ODwD81Z2yI',\n",
       " \"If you're poor and British, it's probably best not to marry a foreigner: https://t.co/dP4fgzoEHv (Getty) https://t.co/MZUdi8fMkM\",\n",
       " 'La La Land looks to have a record-setting night and has been the front-runner since festival season. https://t.co/HfVOnbQQDj',\n",
       " 'The best wines in America under $10. https://t.co/9gEwbARsQT',\n",
       " \"So who's going to win Sunday at the 89th Academy Awards? Here are our predictions: https://t.co/65ug5SB3Tg\",\n",
       " 'RT @usatodayvideo: See which celebrities shine through #Oscars fabulous fashion history https://t.co/KWsBSpNsd6',\n",
       " 'Yes, someone asked if Trump will watch the Oscars. https://t.co/utEBM7B7VJ',\n",
       " \"RT @usatodayvideo: 10 things the cameras don't catch at the Oscars https://t.co/cZjJOl5BC7 https://t.co/Rc4Wi1Xtrc\",\n",
       " \"Rory Feek's book about his late wife is a best seller -- No. 12 on @USATODAYBooks list. https://t.co/St9f8BZYh0\",\n",
       " 'How do your predictions stack up? https://t.co/yh0YmKBPpE #Oscars2017',\n",
       " 'Oscars 2017: Predictions on who will win, who should win https://t.co/KBpfv44PtS https://t.co/9TlTfpmDaz',\n",
       " 'He walked away from the interview. Probably for the best. https://t.co/gAS7vtxQ3a',\n",
       " 'Jimmy Kimmel talks Trump tweets, underwear and Oscar prep https://t.co/5hCS7wSm3T https://t.co/aO0gWaVzDf',\n",
       " 'RT @BryAlexand: We\\'ll know how @JimmyKimmel did hosting Oscars right away. \"I\\'ll go to parties or I\\'ll go home.\" #GoPartiesOrGoHome https:/?',\n",
       " \"Is 'La La Land's ending happy or sad? We're still debating https://t.co/kzh93kXBn2 https://t.co/Hxo7ZfAGGk\",\n",
       " 'Put your best foot forward as you enter the job market. https://t.co/ANBVC1EyZw',\n",
       " 'The best Oscar speeches of all time https://t.co/xUEBXsdJyI (Photo: USA TODAY, AP) https://t.co/O4T6UyDtl4',\n",
       " \"https://t.co/4scQRaKJHV's guide to the best headphones you can buy on Amazon right now. https://t.co/IZ1bguaYSb\",\n",
       " 'RT @WSJPlus: THIS FRIDAY: join @cjfarley for a Q&amp;A w/ award-winning @HiddenFigures &amp; @EmpireFOX Star @TherealTaraji. Register at https://t.?',\n",
       " 'Watch the best moments from 30 years of the NCAA tournament, all in one place: https://t.co/qVEvCaRBwb',\n",
       " 'Watch the best moments from 30 years of the NCAA tournament, all in one place: https://t.co/3ssQGT4N1V',\n",
       " 'The absolute best vegetarian lasagna ever https://t.co/YBMUgs9pxp',\n",
       " '\"Beauty and the Beast\" co-star Luke Evans discusses turning an animated classic into a live action film on #WSJCafe https://t.co/sD1ERRXGVu',\n",
       " 'Which yoga app is best for me? https://t.co/FclqFUMhBx',\n",
       " 'The best of Stockholm?s 2017 furniture fair https://t.co/4pNtixW7CS',\n",
       " 'What ?La La Land? and ?Fifty Shades Darker? get wrong about love https://t.co/zYlkZUtRfF',\n",
       " \"Once scorned, leading politicians have renewed talk of a 'multispeed Europe.' Analysis by @valentinapop https://t.co/0La73SxFFB\",\n",
       " 'Big banks like Goldman Sachs kick-started the postelection rally that is having its best day today\\nhttps://t.co/6ZskLf2m0T',\n",
       " 'Brian Cullinan, the accountant behind the Oscar gaffe, is a 30-year-plus PwC veteran https://t.co/rieftzQ5n6',\n",
       " \"Investors are piling into stocks that do best when growth picks up and inflation runs hotter. What if they're wrong? https://t.co/jhox3mFbO7\",\n",
       " 'Watch live: Lori Goler and Juliet de Baubigny on best practices in a competitive tech labor market #WSJCIO https://t.co/5KWKPW2Mey',\n",
       " 'PwC partner tweeted backstage minutes before Oscar best picture mix-up https://t.co/W8iQ1bxdoE',\n",
       " 'The accountant, the tweet and the Oscar: Inside the Best-Picture snafu\\nhttps://t.co/uW0QuJAVCn',\n",
       " 'Why AI beating humans at poker is significant: Neil Jacobstein on the first night of the #WSJCIO Annual Meeting https://t.co/lA7885dHYp',\n",
       " 'PwC partner tweeted backstage minutes before Oscar best picture mix-up https://t.co/7tMXjXSoN0',\n",
       " 'About 32.9 million viewers tuned in to the Oscars, down 4.4% from last year https://t.co/HqPAqp2cA3',\n",
       " 'The Oscars has a history of gaffes and blunders. Here are a few: https://t.co/6DZXvb01dH',\n",
       " 'PwC partner in charge of Oscar-winner envelopes was tweeting backstage minutes before best-picture mix-up https://t.co/hnxqFyFOaw',\n",
       " 'A historic onstage blunder creates an Oscar moment for the ages https://t.co/o7dluQHseJ',\n",
       " 'After Oscar mix-up, Hollywood searches for an explanation https://t.co/TqCNj8bxjD',\n",
       " 'A historic onstage blunder creates an Oscar moment for the ages https://t.co/CDiPHWKBxz',\n",
       " \"Last night's Oscar blunder redefined the award show's high standard for absurdity, writes Jason Gay https://t.co/eWZ4koC2kT\",\n",
       " 'Oscar overseer PricewaterhouseCoopers apologizes for award mixup https://t.co/af5AkvtJfu',\n",
       " 'Oscars: Red carpet fashion\\n? Video: https://t.co/3rMwyXjf0y\\n? Photos: https://t.co/5ugr9UGkdA',\n",
       " 'The moment everyone realized there had been a huge mistake at the Oscars https://t.co/xmo0N25AdD',\n",
       " '\"Moonlight\" won the Oscar for best picture after the presenters originally announced \"La La Land\" as the winner https://t.co/ogAixFVTr8',\n",
       " 'A historic onstage blunder creates an Oscar moment for the ages https://t.co/UYvhYIN3R4',\n",
       " 'After Oscar mix-up, Hollywood searches for an explanation https://t.co/EmPWhGVYFq',\n",
       " 'Video: The moment \"La La Land\" mistakenly won an Oscar https://t.co/gkIzMYjAoX',\n",
       " 'Oscar overseer PricewaterhouseCoopers apologizes for award mixup https://t.co/jdJB9ZDzUg',\n",
       " 'Iran?s Asghar Farhadi wins foreign film Oscar from afar https://t.co/rJm04f5O97',\n",
       " '\"Moonlight\" film review published in October: \"Searing, Splendid Night Vision\" https://t.co/KJAPQvv8ds',\n",
       " '\"Moonlight\" won the Oscar for best picture after the presenters originally announced \"La La Land\" as the winner https://t.co/eNiyfLDkS9',\n",
       " 'After a mistake, the real best picture winner is announced: \"Moonlight\" https://t.co/t7pI0Qztlu',\n",
       " 'Emma Stone won best actress in a leading role in \"La La Land\"\\nhttps://t.co/8NpyECRToE https://t.co/uF8x4okkPG',\n",
       " 'Casey Affleck won best actor in a leading role in \"Manchester by the Sea \"  \\nhttps://t.co/b8EEb49o8d',\n",
       " 'At the Academy Awards in Los Angeles, politics were repeatedly invoked https://t.co/Rsiic3LFvs',\n",
       " 'Viola Davis won best supporting actress for her role in \"Fences\" https://t.co/jLOv7ap3di',\n",
       " 'Mahershala Ali won best supporting actor for his role in \"Moonlight\" https://t.co/feYEzx79o5 https://t.co/DDvP1VoSoo',\n",
       " \"This year's slate of #Oscar nominees is the most diverse since 2007. Live coverage: https://t.co/4HB2pf4l8P\",\n",
       " 'Live updates from the Academy Awards: https://t.co/88qnU4cdq4 #Oscars https://t.co/emz9olBk5O',\n",
       " '?La La Land,? other Oscar hopefuls found funding beyond the Hollywood mainstream https://t.co/jIa3rF88aL https://t.co/ppxlwCCsZz',\n",
       " \"At tonight's Academy Awards, expect politics to take center stage https://t.co/Qo9i1fZbAA #Oscars\",\n",
       " 'Which Best Picture Oscar winners grossed the most? https://t.co/bCbGnalUDU',\n",
       " 'Who do you think will win tonight? https://t.co/RLARsv7IQ6 #Oscars',\n",
       " 'A preview of the nine nominees for Best Picture: https://t.co/ywPMtHbf77 #Oscars',\n",
       " \"Live coverage of tonight's Academy Awards: https://t.co/QPk8gCLPuu #Oscars\",\n",
       " 'The path to the Oscars: https://t.co/RLRN4i6mDO https://t.co/GVz2WSYaoU',\n",
       " '\"La La Land\" has an ace up its sleeve https://t.co/NTKQaLGBBl',\n",
       " \"RT @WSJvideo: Who should win Best Director? WSJ's film critic Joe Morgenstern shares his #Oscars2017 picks  https://t.co/0322uYAtWT\",\n",
       " 'Sunday?s Academy Awards promise to be the world?s best-dressed Trump protest https://t.co/Tla3BpEfMH',\n",
       " 'What ?La La Land? and ?Fifty Shades Darker? get wrong about love https://t.co/cfzIrWL9Ul',\n",
       " 'The path to Oscar wins? A look at ?La La Land? and its trail of awards so far https://t.co/3tKUqW7zep',\n",
       " ...]"
      ]
     },
     "execution_count": 382,
     "metadata": {},
     "output_type": "execute_result"
    }
   ],
   "source": [
    "df[df.cluster == 1].text.tolist()"
   ]
  },
  {
   "cell_type": "markdown",
   "metadata": {},
   "source": [
    "Result is not satisfying. Need more clusters. On less tweets."
   ]
  },
  {
   "cell_type": "markdown",
   "metadata": {},
   "source": [
    "## K-means for day-filtered tweets"
   ]
  },
  {
   "cell_type": "code",
   "execution_count": 383,
   "metadata": {
    "collapsed": false
   },
   "outputs": [],
   "source": [
    "df_day = df[(df['dt'] > '2017-03-06') & (df['dt'] < '2017-03-07')]"
   ]
  },
  {
   "cell_type": "code",
   "execution_count": 384,
   "metadata": {
    "collapsed": false
   },
   "outputs": [
    {
     "data": {
      "text/plain": [
       "2557"
      ]
     },
     "execution_count": 384,
     "metadata": {},
     "output_type": "execute_result"
    }
   ],
   "source": [
    "len(df_day)"
   ]
  },
  {
   "cell_type": "code",
   "execution_count": 385,
   "metadata": {
    "collapsed": false
   },
   "outputs": [
    {
     "data": {
      "text/plain": [
       "(2557, 100)"
      ]
     },
     "execution_count": 385,
     "metadata": {},
     "output_type": "execute_result"
    }
   ],
   "source": [
    "X = np.array(df_day.avg_vector.tolist(), ndmin=2)\n",
    "X.shape"
   ]
  },
  {
   "cell_type": "code",
   "execution_count": 386,
   "metadata": {
    "collapsed": false
   },
   "outputs": [
    {
     "data": {
      "text/plain": [
       "(2557, 300)"
      ]
     },
     "execution_count": 386,
     "metadata": {},
     "output_type": "execute_result"
    }
   ],
   "source": [
    "X_g = np.array(df_day.avg_vector_g.tolist(), ndmin=2)\n",
    "X_g.shape"
   ]
  },
  {
   "cell_type": "code",
   "execution_count": 387,
   "metadata": {
    "collapsed": true
   },
   "outputs": [],
   "source": [
    "kmeans = KMeans(n_clusters=100).fit(X)"
   ]
  },
  {
   "cell_type": "code",
   "execution_count": 388,
   "metadata": {
    "collapsed": true
   },
   "outputs": [],
   "source": [
    "kmeans_g = KMeans(n_clusters=100).fit(X_g)"
   ]
  },
  {
   "cell_type": "code",
   "execution_count": 389,
   "metadata": {
    "collapsed": false
   },
   "outputs": [
    {
     "name": "stderr",
     "output_type": "stream",
     "text": [
      "/Users/zubo/anaconda/lib/python3.5/site-packages/ipykernel/__main__.py:1: SettingWithCopyWarning: \n",
      "A value is trying to be set on a copy of a slice from a DataFrame.\n",
      "Try using .loc[row_indexer,col_indexer] = value instead\n",
      "\n",
      "See the caveats in the documentation: http://pandas.pydata.org/pandas-docs/stable/indexing.html#indexing-view-versus-copy\n",
      "  if __name__ == '__main__':\n",
      "/Users/zubo/anaconda/lib/python3.5/site-packages/ipykernel/__main__.py:2: SettingWithCopyWarning: \n",
      "A value is trying to be set on a copy of a slice from a DataFrame.\n",
      "Try using .loc[row_indexer,col_indexer] = value instead\n",
      "\n",
      "See the caveats in the documentation: http://pandas.pydata.org/pandas-docs/stable/indexing.html#indexing-view-versus-copy\n",
      "  from ipykernel import kernelapp as app\n"
     ]
    }
   ],
   "source": [
    "df_day['cluster'] = kmeans.labels_\n",
    "df_day['cluster_g'] = kmeans_g.labels_"
   ]
  },
  {
   "cell_type": "code",
   "execution_count": 390,
   "metadata": {
    "collapsed": false
   },
   "outputs": [
    {
     "data": {
      "text/plain": [
       "['The drive to Death Valley is lonely and beautiful https://t.co/eoBrh0pW9F',\n",
       " 'Scorned lover made sick cannibal threats to his ex-girlfriend https://t.co/a1uWhZOVVP https://t.co/ky65G3AaeP',\n",
       " 'RT @TheSunFootball: Marcos Rojo?s 17-year-old cousin tragically shot dead https://t.co/FGQjHXWd38 https://t.co/29pDfSpA2U',\n",
       " 'EXCLUSIVE: Jeremy McConnell leaves Stephanie Davis and baby Caben to dash to his dad?s funeral? https://t.co/KhrBYE5SzM',\n",
       " \"'My f***ing child is in the back': Road rage mum dragged another mother out of her BMW and battered her? https://t.co/JNzdKlieJV\",\n",
       " 'Fisherman have been left baffled after catching this bizarre... thing https://t.co/pHShqJTzl8 https://t.co/ZhT9NxO8jO',\n",
       " 'A bouncer who killed his wife with her bra strap has had his sentence increased after he tried to clear his name? https://t.co/BbS6qi872f',\n",
       " \"Mum ?attacked child killer Rose West in prison after getting annoyed at her fan mail' https://t.co/foO7fjglNH https://t.co/zNxa1Th2xb\",\n",
       " \"A mum offered her teenage son's services for free on Facebook, and the result was incredible https://t.co/l7aTLMbDkE https://t.co/nb7mj2vToP\",\n",
       " 'Lauren Goodger?s jailbird boyfriend Joey Morrisson has returned to Instagram ? despite being in prison...? https://t.co/gAXrfbVWjY',\n",
       " \"This is what happened to the horses involved in yesterday's horrifying crash https://t.co/6aF9OJRXKe https://t.co/R1KY67YUnd\",\n",
       " \"Jeremy Kyle steps out with hia new girlfriend as 'his relationship with his ex-wife hits a low'? https://t.co/rrvAgVznNA\",\n",
       " 'Kate Moss has become the victim of a shocking incident https://t.co/kG8JdPXBqp https://t.co/ku2xHZ62PY',\n",
       " 'Jeremy McConnell has been left devastated after his father passed away https://t.co/m4hrQPTH60 https://t.co/jVFEs9f4pI',\n",
       " 'George Michael?s ex-boyfriend Kenny Goss reveals late singer?s body ?just gave up https://t.co/q7iQelIpn7 https://t.co/9MdVxYjoHv',\n",
       " 'Tuesday\\'s Mirror: \"Diana\\'s Rock: I\\'m marrying my boyfriend\" #tomorrowspaperstoday #bbcpapers (via @hendopolis) https://t.co/x6yJfphEF8',\n",
       " 'Woman reveals $1,369 bill for miscarriage https://t.co/mS2w9CJFfU',\n",
       " \"RT @TeleFootball: Keith Hackett on why Kevin Friend's refereeing performance at Old Trafford was the worst of the season: https://t.co/ObiD?\",\n",
       " 'LeBron James says he apologized to his wife for hardships on his \"journey\" to be the GOAT: https://t.co/7QRVDNGA33 https://t.co/b2dtQ4EcJz',\n",
       " 'Rep. Cedric Richmond apologizes to White House adviser Kellyanne Conway over sofa joke https://t.co/ywgwCAyAar',\n",
       " \"RT @brontecoy: In a rare interview, Michael Jackson's eldest son has revealed what life was like with the megastar https://t.co/ffMGznBEph?\",\n",
       " 'Jacko?s son: I didn?t know dad was famous https://t.co/NI1hz8qwKN',\n",
       " 'RT @Megan_Palin: Tragedy on the river: How boy, 9, survived the ordeal. @newscomauHQ https://t.co/SGyKgZwo05',\n",
       " 'Singer Tommy Page found dead at 46 https://t.co/SZZy0afFs9',\n",
       " 'The brother-in-law of a man missing in France along with his wife and two children admits killing them - report says https://t.co/aC8MbzU4Jb',\n",
       " 'The brother-in-law of a man missing in France along with his wife and two children admits killing them - report says https://t.co/h9tzJ8jLah',\n",
       " \"Brother-in-law 'admits killing family-of-four over inheritance' in France https://t.co/cz0Cd1EGyB\",\n",
       " 'Ex-Stockton mayor accused of stealing from kids club https://t.co/1vA4lxR2Ti https://t.co/PeRMTx0tnk',\n",
       " 'Ex-Stockton mayor arrested at SF airport https://t.co/FJzpXQAk9x https://t.co/qhEeEIM0uu',\n",
       " 'Brother-in-law admits murdering missing family of four in France https://t.co/ElRpgZyA2w',\n",
       " 'Greg Rutherford ?left feeling sick? after being cheated out of ?48,000 https://t.co/ycTHhnmXMq',\n",
       " 'My boyfriend found an explicit text message from my ex-colleague https://t.co/jJ7EnC51Zk',\n",
       " 'Former Stockton mayor arrested at San Francisco airport https://t.co/rgkyIdw5XM https://t.co/aCE8HLGtS4',\n",
       " 'RT @GMA: WATCH: Dying wife inspires with heartbreaking essay titled \"You May Want to Marry My Husband:\" https://t.co/3aU2UhtKY7 https://t.c?',\n",
       " 'Everyone knows who killed Rodolfo Illanes. So why is his death such a mystery?  https://t.co/M3xDaPc44j https://t.co/e92Vv4EzmF']"
      ]
     },
     "execution_count": 390,
     "metadata": {},
     "output_type": "execute_result"
    }
   ],
   "source": [
    "df_day[df_day.cluster_g == 4].text.tolist()"
   ]
  },
  {
   "cell_type": "code",
   "execution_count": 391,
   "metadata": {
    "collapsed": false
   },
   "outputs": [
    {
     "data": {
      "text/plain": [
       "['Will the Yankees send this prospect to the barber before they send him to the plate? A battle of tradition vs. style https://t.co/wX5iN2OpTI',\n",
       " 'Pakistan has kept its border crossings with Afghanistan sealed for more than 2 weeks https://t.co/rKjVeEXCxg',\n",
       " 'After the interracial couple refused to remove the slur to make a point about intolerance, someone covered it up https://t.co/VFge3Lu0iB',\n",
       " 'After a visitor damaged a sculpture while taking a selfie, the Kusama exhibit at the Hirshhorn Museum has reopened https://t.co/PiQHjbARAy',\n",
       " \"EXCLUSIVE: Princess Diana?s ?rock? Paul Burrell: 'I'm gay and marrying my lover' https://t.co/Cu8PvLattF https://t.co/Q2KVEV4ao0\",\n",
       " 'RT @danwootton: EXCLUSIVE #Strictly fans are livid after being quoted ?400 for selfies with their ballroom idols https://t.co/TSvrlRMCAP ht?',\n",
       " 'RT @SunSport: EXCLUSIVE: Latest pictures of Upton Park will break West Ham hearts https://t.co/eA3YcFFGlM https://t.co/4QmIqMQLp7',\n",
       " 'RT @TheSunWoman: Scans that can predict heart attacks and strokes BEFORE symptoms appear ?should be used more? https://t.co/pAXTy2Y59Z',\n",
       " 'Husbands from across the country haul their better halves up a hill on their backs in the annual wife-carrying race? https://t.co/WOutXyFatT',\n",
       " 'Council manager in charge of protecting children in Baby P scandal council sends saucy snaps from office loos? https://t.co/qbWt0X6BjT',\n",
       " \"RT @SunSport: EXCLUSIVE: The real reason David Haye didn't quit after snapping Achilles https://t.co/Qf6jULk9pZ https://t.co/4oBsbAEHYT\",\n",
       " 'They protect against STIs and unwanted pregnancy ? but there?s another reason you should always use a condom? https://t.co/qL6Tq9dQrt',\n",
       " 'RT @TheSunFootball: \"We don\\'t normally say that\": Harry Kane has just done something very unusual for a footballer https://t.co/TUVb9n6209?',\n",
       " 'RT @TheSunFootball: Seven of the most famous training ground bust-ups after Alexis Sanchez clashed with Arsene Wenger https://t.co/nYW68hsR?',\n",
       " 'RT @TheSunTV: Loose Women?s Stacey Solomon DROPPED on the floor by Jane Moore as they try bizarre wife-carrying challenge https://t.co/zw2H?',\n",
       " 'Karen Danczuk has sparked fury with an astonishing Twitter attack on the parents of Madeleine McCann? https://t.co/0dfe3nZ6EO',\n",
       " \"Towie's Megan McKenna is embroiled in furious c-bomb rant before Pete Wicks reveals she calls him ?ugly? during row? https://t.co/DkFGEC5yBr\",\n",
       " 'RT @TheSunTech: Google?s fortune telling tool has a very dark secret https://t.co/BrvlqfOEKH',\n",
       " \"EXCLUSIVE: 'Our sex marathon ended up in A&amp;E' says Kate Garraway https://t.co/zgeZv7iorD\",\n",
       " \"The @VCTrust sought out a war hero?s family for permission to restore his grave only to find he's related to ROYALS? https://t.co/QlTB576NZV\",\n",
       " '.@LittleMix have no fears when it comes to flashing the flesh, and Jade Thirlwall gave fans a cheeky glimpse? https://t.co/T5Nj4oPe4a',\n",
       " 'Millionaire star Martin Clunes bills the cost of a mystery cosmetic treatment to the taxpayer? https://t.co/KUcWJVwui1',\n",
       " 'RT @TheSunFootball: Arsenal?s players have become increasingly frustrated and annoyed with Alexis Sanchez https://t.co/TqOhlkghZj https://t?',\n",
       " 'Travellers dump piles of stinking rubbish on a country beauty spot that will cost a fortune to remove? https://t.co/918DZv7iBX',\n",
       " 'Tesco pulls British sugar from shelves and imports it from 5,000 miles away ? despite being based ?next to? factory? https://t.co/jSDzHMp2lQ',\n",
       " 'Lauren Goodger?s jailbird boyfriend Joey Morrisson has returned to Instagram ? despite being in prison...? https://t.co/gAXrfbVWjY',\n",
       " 'Alexis S?nchez looks set to leave Arsenal this summer, with Paris Saint-Germain leading the chase? https://t.co/f6yrHiwMC8',\n",
       " '\"We parted on Leeds station. I can still see Adam looking bewildered\"? Rosie Jackson on giving up her son? https://t.co/K68erlN3LE',\n",
       " 'RT @APEastRegion: Kids hospitalized with throat burns, blistering after drinking apple juice at Chinese buffet. Story: https://t.co/9aNALcZ?',\n",
       " \"Over 200 engineers, designers and activists gathered in San Francisco for this weekend's Abortion Access Hackathon? https://t.co/tDV0po5qY3\",\n",
       " 'GM is laying off 1,100 workers in Michigan -- the fourth layoff it has announced since November? https://t.co/Yg5icX9MXb',\n",
       " 'The families of those aboard #MH370 have launched a campaign to privately fund a search for the aircraft? https://t.co/bZ2PqLyZIJ',\n",
       " \"Inside the TalkTalk 'Indian scam call centre' https://t.co/rKO6JrPXEC\",\n",
       " \"RT @BBCSport: Arsene Wenger has called the Alexis Sanchez training-ground row stories 'completely false'.\\n\\nMore: https://t.co/OrJnl74SVJ ht?\",\n",
       " \"Chelsea Football Club's Stamford Bridge plans approved by mayor https://t.co/0OOumWcRs1\",\n",
       " \"Holy ship, that's a lot of boats! Check out the @sdmaritime museum's impressive collection of nautical vessels? https://t.co/0Vjq12I1Hu\",\n",
       " 'Villagers defeat Historic England and parish council in row about poppy wreath holders to honour war dead \\nhttps://t.co/E29KMLCOhu',\n",
       " 'The Queen is still riding at 90 - and without a helmet - as she heads out on her pony near Windsor Castle https://t.co/4nqdQEqeX0',\n",
       " 'BBC issues Dame Jenni Murray with warning over her transgender comments\\nhttps://t.co/n0PSyZvzSx',\n",
       " 'Sell fatty food in plain packaging, says prize-winning neuroscientist\\nhttps://t.co/8xmmxB7GZM',\n",
       " 'Primary schools will have unisex bathrooms, council reveals\\nhttps://t.co/tGHbamA0os',\n",
       " 'Eight zoos identified as causes for concern over animal welfare after tip-offs\\nhttps://t.co/XB5ApA50Tj',\n",
       " \"It's the un-PC Olympics! Husbands heave their spouses over the line in Britain's annual wife-carrying race\\nhttps://t.co/JdHgB9ekna\",\n",
       " 'Nintendo hides secret message to gamers in Switch Pro controller \\nhttps://t.co/vBRdasWWG2',\n",
       " 'Glastonbury line-up leak? Ed Sheeran, Diana Ross and Lorde among alleged performers\\nhttps://t.co/84R3PyD9ct',\n",
       " 'RT @jmbacon: Courage, cowardice and hate: Affidavit details tragedy in a Kansas bar. https://t.co/gUwnqCcHo8',\n",
       " 'LeBron James says his push to be the GOAT involved an apology to his wife. https://t.co/rl0h24eDn5 (Photo: Getty) https://t.co/CYyKssedxX',\n",
       " 'Beauty raids the refrigerator: pork fat moisturizer and mayonnaise conditioner: https://t.co/EzEStubWDs',\n",
       " 'What China?s premier left unsaid raises speculation about yuan\\nhttps://t.co/MAhCkW2CU1',\n",
       " 'Are the Golden State Warriors adorable anymore?\\nhttps://t.co/TbcYpF6Lx9',\n",
       " \"'Lady Luck,' a mysterious gambler whose winning streak is blamed for denting profit at a casino, is proving elusive https://t.co/EKkgM0o68e\",\n",
       " 'Van branded with Floyd Mayweather?s \"Money Team\" logo set on fire in England https://t.co/Ole90cemZh',\n",
       " '\"I?m never reenlisting.\" Marine Corps rocked by nude-photo scandal. https://t.co/QuAXwQXJ8i',\n",
       " 'Perspective: I signed up to chat with a stranger about our differences. Except there weren?t many. https://t.co/PgAzbAalvy',\n",
       " '\"I\\'m never reenlisting\": Marine Corps rocked by nude-photo scandal https://t.co/Gwwx1CUiUF',\n",
       " 'This $25m donation by a billionaire investor and his wife will create the Grayken Center for Addiction Medicine.? https://t.co/azXPjWAKT5',\n",
       " 'UNH victory sends Northeastern to Boston University for Hockey East series. https://t.co/yaVhSZBsyu',\n",
       " 'Raymond Kopa, a former Real Madrid attacking midfielder known as the ??Napoleon of football,?? dies at 85.? https://t.co/QZ8FS33coo',\n",
       " 'Racial bias in the jury room can be a reason for breaching principle of secrecy in jury deliberations, #SCOTUS rule? https://t.co/K1XFIr8QIY',\n",
       " 'Tens of thousands of chickens have been destroyed at a Tennessee chicken farm due to a bird flu outbreak? https://t.co/Q3cMRqkhSb',\n",
       " 'Sandy Leon has been sent to the minors plenty of times. He?s not taking his status with the #RedSox for granted.? https://t.co/VMXjqNK1zv',\n",
       " 'RT @BenVolin: ICYMI: Sunday Notes on the buzz at the Combine, Patriots free agent updates, and more https://t.co/VEmY9UDFfC',\n",
       " '.@Adrian_Walker: The real issue in the Thornton Law case is the firm?s actions. https://t.co/8zTslaKten https://t.co/VsXPJeeXou',\n",
       " '16 charter schools in Boston and Chelsea received 35,000 applications for about 2,100 available seats.? https://t.co/golLMf48Tt',\n",
       " 'Officials will lay out plans Monday for a significant expansion of Boston?s liquor licenses, proposing 152 of them.? https://t.co/E23qe4Fwn1',\n",
       " 'Students and professors at Middlebury College were ashamed and embarrassed after an explosive protest on Thursday.? https://t.co/a4QtWqQ7DV',\n",
       " 'Margot Robbie lands another huge role https://t.co/9zQzyEnQw6',\n",
       " 'Perry finally addresses dramatic breakup makeover https://t.co/ERbwcqA68a',\n",
       " '?Wayne losing playing group absolute bulls**t? https://t.co/DQMo5wyG9O',\n",
       " 'RT @kimbo_stephens: All-you-can-eat Pizza Hut, rollerskating &amp; videos. Is Gympie the town that won?t let the 80s die? https://t.co/Aqbxx4AX?',\n",
       " \"High heels and lipstick: MPs 'shocked' by sexist workplace dress codes https://t.co/NQrYbJWcUC\",\n",
       " \"Iranian vessels approach Navy in 'unsafe' move https://t.co/16tEcFftS6\",\n",
       " 'We\\'re \"cautious\" about the future of South Lakes Safari Zoo says Nicola O\\'Brien, Captive Animals\\' Protection Society https://t.co/AR3nCnJH7b',\n",
       " 'A church service is to be held to mark the 30th anniversary of the Zeebrugge ferry disaster that claimed 193 lives https://t.co/pkpVd7WBDJ',\n",
       " 'A church service is to be held to mark the 30th anniversary of the Zeebrugge ferry disaster that claimed 193 lives https://t.co/YbOg3e19yq',\n",
       " \"Meet the musicians of the Ghetto Classics Orchestra founded in one of Nairobi's largest slums? https://t.co/fNKZ4G2Gbq\",\n",
       " \"Vauxhall's Luton and Ellesmere Port factories will face battle after 2021 https://t.co/BcArk0bcSM\",\n",
       " 'Sea turtle recovering after 915 coins removed from stomach ? video report https://t.co/4yTTpZh6wa',\n",
       " 'Andrew Hunter Murray review ? a fun-filled, pub quiz comedy https://t.co/TNwWCFhxns',\n",
       " 'Greg Rutherford ?left feeling sick? after being cheated out of ?48,000 https://t.co/ycTHhnmXMq',\n",
       " \"Pink Floyd's Dark Side of the Moon recording console heads to auction https://t.co/TyB39LODts\",\n",
       " 'Sell high calorie foods in plain packaging to beat obesity, says Brain Prize winner https://t.co/NVIi6pVNWU',\n",
       " \"Waterstones boss attacks 'godawful uniformity' of chains such as WH Smith https://t.co/jWyAlLnxyn\",\n",
       " 'Supporters of Unite leadership rivals clash outside London HQ https://t.co/ZzK6BYBbWK',\n",
       " 'Hamlet review ? Andrew Scott is a truly sweet prince https://t.co/RHZadu4se7',\n",
       " \"Jo Cox's husband announces memoir of murdered MP https://t.co/pXaiY2tSc9\",\n",
       " \"Pink Floyd's Dark Side of the Moon recording console heads to auction https://t.co/1BgVZsnUCA\",\n",
       " 'Why the true scale of university harassment is so hard to uncover https://t.co/YJWekWQBfu',\n",
       " 'Filthy rich: our tortured love affair with wealth porn https://t.co/Ie3MRmoF7A',\n",
       " \"'Married now': Adele confirms she has tied the knot with long-term partner https://t.co/tJ4KxAB09t\",\n",
       " \"Jo Cox's husband announces memoir of murdered MP https://t.co/MqxPQ9cCvT\",\n",
       " 'Inside Celerity charter school network, questionable spending and potential conflicts of interest abound? https://t.co/RCSDk0x730',\n",
       " 'Monkey gets too excited when her mom treats her to a cup of oatmeal, and ends up spilling most of her breakfast.? https://t.co/zg7D5Mnxpk',\n",
       " 'Take a tour of an ecological garden in Meizhou City, China as patches of flowers bloom in bright, brilliant colors.? https://t.co/crASm6VcE4',\n",
       " \"University of Tennessee resident assistant fulfills student's request to be read a bedtime story on his birthday.? https://t.co/yq0J5lmfqf\",\n",
       " \"Chris Christie's mentor avoids jail for United bribery scandal https://t.co/MNSaKfnFyC\",\n",
       " 'The Monterey Bay Aquarium reads their fish the fan mail you send them https://t.co/GnYm97SUmJ',\n",
       " \"Read the touching letter Tracee Ellis Ross wrote to her teen 'Black-ish' co-star  https://t.co/Zb9DEjI716\",\n",
       " \"Chrissy Teigen opens up about her 'painful' battle with postpartum depression https://t.co/2VFHNmDJfx\",\n",
       " 'Banksy opens dystopian hotel near Bethlehem separation wall https://t.co/Mr30GtelFV',\n",
       " 'Eating this protein at breakfast helps you stay full for longer https://t.co/OQM3lY0xuV']"
      ]
     },
     "execution_count": 391,
     "metadata": {},
     "output_type": "execute_result"
    }
   ],
   "source": [
    "df_day[df_day.cluster == 2].text.tolist()"
   ]
  },
  {
   "cell_type": "code",
   "execution_count": 392,
   "metadata": {
    "collapsed": false
   },
   "outputs": [
    {
     "data": {
      "text/plain": [
       "['In Russia, a company has made the first on-site 3D printed house https://t.co/ubv5oFwa4o',\n",
       " 'RT @AP_Politics: Louisiana Democrat apologizes for crude joke about White House adviser Kellyanne Conway. https://t.co/mi88xy3iyF',\n",
       " 'White House press secretary Sean Spicer has not held an on-camera briefing in a week https://t.co/cDh3YLw8Wl https://t.co/wBEs78OKIb',\n",
       " 'The White House is hoping changes in this #ExecutiveOrder will stop legal challenges that blocked the Jan. 27 order. https://t.co/ifaLIz6vHQ',\n",
       " 'Pelosi punts on Democrat?s joke about Kellyanne Conway looking \"familiar\" kneeling on White House couch https://t.co/1h3HHW3KDM',\n",
       " 'Rep. Cedric Richmond apologizes to White House adviser Kellyanne Conway over sofa joke https://t.co/ywgwCAyAar',\n",
       " 'The FBI?s director may be readying for a major fight with the Trump White House. https://t.co/Ie2gFqJvjA https://t.co/bVqRm3QNiz',\n",
       " 'White House does not know if alleged surveillance of Trump was by wiretap https://t.co/ieNWxIi6ML',\n",
       " 'White House, still offering no evidence, demands probe of whether Obama abused executive power? https://t.co/TwCAiVdkKf',\n",
       " 'Press Secretary Sean Spicer says \"there\\'s no question that something happened\" in reference to wiretapping claims.? https://t.co/EcG8H2N6a2',\n",
       " \"White House spokeswoman doesn't think Pres. Trump accepts FBI director's denial of unsubstantiated wiretap claim? https://t.co/eZK7Al8Z5g\",\n",
       " 'White House spokesperson on Obama\\'s denial of unsubstantiated wiretap claim: \"They don\\'t have the best track record? https://t.co/C6Ca68KQQ3']"
      ]
     },
     "execution_count": 392,
     "metadata": {},
     "output_type": "execute_result"
    }
   ],
   "source": [
    "df_day[df_day.cluster == 3].text.tolist()"
   ]
  },
  {
   "cell_type": "markdown",
   "metadata": {},
   "source": [
    "Looks better than cluster for all 3-4 weeks tweets. Google pretrained vocabulary loks way better."
   ]
  },
  {
   "cell_type": "code",
   "execution_count": 393,
   "metadata": {
    "collapsed": false
   },
   "outputs": [
    {
     "name": "stdout",
     "output_type": "stream",
     "text": [
      "Silhouette Coefficient: 0.146\n"
     ]
    }
   ],
   "source": [
    "print(\"Silhouette Coefficient: %0.3f\"\n",
    "      % metrics.silhouette_score(X, kmeans.labels_, metric='cosine'))"
   ]
  },
  {
   "cell_type": "code",
   "execution_count": 394,
   "metadata": {
    "collapsed": false
   },
   "outputs": [
    {
     "name": "stdout",
     "output_type": "stream",
     "text": [
      "Silhouette Coefficient: 0.029\n"
     ]
    }
   ],
   "source": [
    "print(\"Silhouette Coefficient: %0.3f\"\n",
    "      % metrics.silhouette_score(X_g, kmeans_g.labels_, metric='cosine'))"
   ]
  },
  {
   "cell_type": "markdown",
   "metadata": {},
   "source": [
    "## Silhouette Coefficient"
   ]
  },
  {
   "cell_type": "code",
   "execution_count": 559,
   "metadata": {
    "collapsed": false
   },
   "outputs": [
    {
     "data": {
      "text/plain": [
       "[2, 5, 8, 11, 14, 17, 20, 23, 26, 29, 32]"
      ]
     },
     "execution_count": 559,
     "metadata": {},
     "output_type": "execute_result"
    }
   ],
   "source": [
    "# ks = [10, 25, 50, 75, 100, 125, 150, 200, 250, 300, 350, 400]\n",
    "ks = [2, 4, 6, 8, 10, 12, 14, 16, 18, 20, 25, 50]\n",
    "ks = list(range(11))\n",
    "ks = [k*3+2 for k in ks]\n",
    "ks"
   ]
  },
  {
   "cell_type": "code",
   "execution_count": 396,
   "metadata": {
    "collapsed": false
   },
   "outputs": [],
   "source": [
    "# grouped = df_day.groupby(df.dt.map(lambda x: x.hour))\n",
    "# grouped.dt.count()"
   ]
  },
  {
   "cell_type": "code",
   "execution_count": 397,
   "metadata": {
    "collapsed": false
   },
   "outputs": [
    {
     "data": {
      "text/plain": [
       "(374, 100)"
      ]
     },
     "execution_count": 397,
     "metadata": {},
     "output_type": "execute_result"
    }
   ],
   "source": [
    "n_runs = 5\n",
    "\n",
    "df_day = df[(df['dt'] > '2017-03-15 11:00:00') & (df['dt'] < '2017-03-15 13:00:00')]\n",
    "X = np.array(df_day.avg_vector.tolist(), ndmin=2)\n",
    "X_g = np.array(df_day.avg_vector_g.tolist(), ndmin=2)\n",
    "X.shape"
   ]
  },
  {
   "cell_type": "code",
   "execution_count": null,
   "metadata": {
    "collapsed": true
   },
   "outputs": [],
   "source": []
  },
  {
   "cell_type": "code",
   "execution_count": 398,
   "metadata": {
    "collapsed": false
   },
   "outputs": [
    {
     "name": "stdout",
     "output_type": "stream",
     "text": [
      "Number of clusters = 2 .....avg silhouette coeff = 0.45814746618270874\n",
      "Number of clusters = 3 .....avg silhouette coeff = 0.3420904576778412\n",
      "Number of clusters = 4 .....avg silhouette coeff = 0.3395000100135803\n",
      "Number of clusters = 5 .....avg silhouette coeff = 0.32160747051239014\n",
      "Number of clusters = 6 .....avg silhouette coeff = 0.3169940412044525\n",
      "Number of clusters = 7 .....avg silhouette coeff = 0.3020787239074707\n",
      "Number of clusters = 8 .....avg silhouette coeff = 0.3048998713493347\n",
      "Number of clusters = 9 .....avg silhouette coeff = 0.266828715801239\n",
      "Number of clusters = 10 .....avg silhouette coeff = 0.26673460006713867\n",
      "Number of clusters = 11 .....avg silhouette coeff = 0.24018394947052002\n"
     ]
    }
   ],
   "source": [
    "sil = list()\n",
    "for k in ks:\n",
    "    print('Number of clusters = {} '.format(k), end='')\n",
    "    sil_k = list()\n",
    "    for n in range(1, n_runs + 1):\n",
    "        print('.', end='')\n",
    "        kmeans = KMeans(n_clusters=k, init='random').fit(X)\n",
    "        sil_k.append(metrics.silhouette_score(X, kmeans.labels_, metric='cosine'))\n",
    "    print('avg silhouette coeff = {}'.format(np.mean(sil_k)))\n",
    "    sil.append(sil_k)"
   ]
  },
  {
   "cell_type": "code",
   "execution_count": 399,
   "metadata": {
    "collapsed": false
   },
   "outputs": [],
   "source": [
    "# pd.DataFrame(sil, index=ks).to_csv('../data/output/silh.csv')"
   ]
  },
  {
   "cell_type": "code",
   "execution_count": 400,
   "metadata": {
    "collapsed": false
   },
   "outputs": [
    {
     "data": {
      "image/png": "[encoded data removed]",
      "text/plain": [
       "<matplotlib.figure.Figure at 0x12c4cc668>"
      ]
     },
     "metadata": {},
     "output_type": "display_data"
    }
   ],
   "source": [
    "plt.figure(figsize=(15,5))\n",
    "a = plt.boxplot(sil, labels = ks)\n",
    "plt.savefig('../data/output/img/15-march-2hours-100vec.jpg')"
   ]
  },
  {
   "cell_type": "code",
   "execution_count": 725,
   "metadata": {
    "collapsed": false
   },
   "outputs": [],
   "source": [
    "kmeans = KMeans(n_clusters=32, init='random').fit(X_g)"
   ]
  },
  {
   "cell_type": "code",
   "execution_count": 726,
   "metadata": {
    "collapsed": false
   },
   "outputs": [
    {
     "name": "stderr",
     "output_type": "stream",
     "text": [
      "/Users/zubo/anaconda/lib/python3.5/site-packages/ipykernel/__main__.py:1: SettingWithCopyWarning: \n",
      "A value is trying to be set on a copy of a slice from a DataFrame.\n",
      "Try using .loc[row_indexer,col_indexer] = value instead\n",
      "\n",
      "See the caveats in the documentation: http://pandas.pydata.org/pandas-docs/stable/indexing.html#indexing-view-versus-copy\n",
      "  if __name__ == '__main__':\n",
      "/Users/zubo/anaconda/lib/python3.5/site-packages/ipykernel/__main__.py:2: SettingWithCopyWarning: \n",
      "A value is trying to be set on a copy of a slice from a DataFrame.\n",
      "Try using .loc[row_indexer,col_indexer] = value instead\n",
      "\n",
      "See the caveats in the documentation: http://pandas.pydata.org/pandas-docs/stable/indexing.html#indexing-view-versus-copy\n",
      "  from ipykernel import kernelapp as app\n"
     ]
    }
   ],
   "source": [
    "df_day['cluster'] = kmeans.labels_\n",
    "df_day['sil'] = metrics.silhouette_samples(X_g, kmeans.labels_, metric='cosine')"
   ]
  },
  {
   "cell_type": "code",
   "execution_count": 737,
   "metadata": {
    "collapsed": false
   },
   "outputs": [
    {
     "data": {
      "text/plain": [
       "[\"RT @TelePolitics: Theresa May jokes that Jeremy Corbyn hasn't got the hang of #PMQs after he didn't ask a question https://t.co/9I0BEtDe45\",\n",
       " \".@tamcohen and @ConHome's @wallaceme are taking your questions on the Tory #electionexpenses emails in a Facebook Live soon - head over now\",\n",
       " 'RT @Stone_SkyNews: For a hint of what a hard Brexit / no deal looks like,read this thread of @DavidDavisMP answering MPs questions https://?',\n",
       " 'Watch @theresa_may answer questions from MPs live for #PMQs https://t.co/q8MHnc00H7',\n",
       " 'Theresa May says Jeremy Corbyn \"hasn\\'t got the hang of this\" at #PMQs https://t.co/qE9cYSZcb6',\n",
       " 'Theresa May says Jeremy Corbyn is \"just sitting there, going on protest marches\" #PMQs https://t.co/ElwIAgPwut',\n",
       " '\"When it comes to lectures on chaos he\\'d be the first person I\\'d turn to\" - Theresa May on NI U-turn #PMQs https://t.co/CqnOS9kc73',\n",
       " \"#Conservative election expenses: Sky's @tamcohen and @wallaceme answering your questions live on Facebook: https://t.co/yGE8UIyjiR\",\n",
       " \"Join @GuardianAnushka at 1pm on the Guardian Facebook page as she looks at this week's political stories so far https://t.co/7TI75B237n\",\n",
       " \"Theresa May faces Prime Minister's Questions - live https://t.co/uQWxeRpYCl\",\n",
       " 'The blue plaque quiz: can you guess who lived in these London houses? https://t.co/DOQoN1PTmu',\n",
       " \"Professor's talk on South Korea from his home office via Skype is a nugget of internet comedy gold, @APklug writes. https://t.co/R74XaUZFrq\",\n",
       " '\"The PM has admitted she IS for turning with her screeching, embarrassing U-turn on NI\" says @AngusRobertson #SNP? https://t.co/8DYqUe934u',\n",
       " \"RT @IndyVoices: Why the BBC's follow-up to the viral video of Professor Kelly, his kids and his Korean wife left me with questions https://?\",\n",
       " '.@theSNP\\'s @AngusRobertson criticises PM\\'s \"screeching, embarrassing u-turn\" on National Insurance? https://t.co/V7zmnp3rpo',\n",
       " '\"That\\'s a two-way street\" - Mike Weir asks where Theresa May\\'s respect is for the Scottish Assembly #PMQs https://t.co/zb8uaha8S9',\n",
       " 'RT @IndyUSA: Millions tuned in to watch a world exclusive on Trump. Rachel Maddow used the chance to talk about his Russian links\\nhttps://t?']"
      ]
     },
     "execution_count": 737,
     "metadata": {},
     "output_type": "execute_result"
    }
   ],
   "source": [
    "df_day[df_day.cluster == 5].sort_values(by=['sil'], ascending=False).head(20).text.tolist()"
   ]
  },
  {
   "cell_type": "code",
   "execution_count": 728,
   "metadata": {
    "collapsed": false
   },
   "outputs": [],
   "source": [
    "sample_silhouette_values = metrics.silhouette_samples(X_g, kmeans.labels_, metric='cosine')\n",
    "# sample_silhouette_values"
   ]
  },
  {
   "cell_type": "code",
   "execution_count": 729,
   "metadata": {
    "collapsed": true
   },
   "outputs": [],
   "source": [
    "sil_clusters = pd.DataFrame({'cluster': df_day.cluster, 'sil': sample_silhouette_values})"
   ]
  },
  {
   "cell_type": "code",
   "execution_count": 730,
   "metadata": {
    "collapsed": false
   },
   "outputs": [
    {
     "data": {
      "text/html": [
       "<div>\n",
       "<table border=\"1\" class=\"dataframe\">\n",
       "  <thead>\n",
       "    <tr style=\"text-align: right;\">\n",
       "      <th></th>\n",
       "      <th>cluster</th>\n",
       "      <th>sil</th>\n",
       "    </tr>\n",
       "  </thead>\n",
       "  <tbody>\n",
       "    <tr>\n",
       "      <th>0</th>\n",
       "      <td>15</td>\n",
       "      <td>0.762362</td>\n",
       "    </tr>\n",
       "    <tr>\n",
       "      <th>1</th>\n",
       "      <td>15</td>\n",
       "      <td>0.756405</td>\n",
       "    </tr>\n",
       "    <tr>\n",
       "      <th>2</th>\n",
       "      <td>15</td>\n",
       "      <td>0.714364</td>\n",
       "    </tr>\n",
       "    <tr>\n",
       "      <th>3</th>\n",
       "      <td>15</td>\n",
       "      <td>0.712346</td>\n",
       "    </tr>\n",
       "    <tr>\n",
       "      <th>4</th>\n",
       "      <td>15</td>\n",
       "      <td>0.682567</td>\n",
       "    </tr>\n",
       "  </tbody>\n",
       "</table>\n",
       "</div>"
      ],
      "text/plain": [
       "   cluster       sil\n",
       "0       15  0.762362\n",
       "1       15  0.756405\n",
       "2       15  0.714364\n",
       "3       15  0.712346\n",
       "4       15  0.682567"
      ]
     },
     "execution_count": 730,
     "metadata": {},
     "output_type": "execute_result"
    }
   ],
   "source": [
    "sil_clusters = sil_clusters.sort_values(by=['sil'], ascending=False, axis=0) \\\n",
    "    .reset_index(drop=True)\n",
    "sil_clusters.head()"
   ]
  },
  {
   "cell_type": "code",
   "execution_count": 731,
   "metadata": {
    "collapsed": false
   },
   "outputs": [
    {
     "name": "stdout",
     "output_type": "stream",
     "text": [
      "[23, 17, 0, 4, 5, 16, 21, 24, 26, 1]\n"
     ]
    }
   ],
   "source": [
    "grouped = sil_clusters.groupby('cluster')\n",
    "col_order_sum = grouped.aggregate({'sil': {sum, 'count'}})['sil'].sort_values(by='sum', ascending=False)\n",
    "col_order_sum = col_order_sum[col_order_sum['count'] > 10]\n",
    "col_order_sum = list(col_order_sum.index)\n",
    "print(col_order_sum)"
   ]
  },
  {
   "cell_type": "code",
   "execution_count": 732,
   "metadata": {
    "collapsed": false
   },
   "outputs": [
    {
     "data": {
      "text/plain": [
       "<seaborn.axisgrid.FacetGrid at 0x1567b8198>"
      ]
     },
     "execution_count": 732,
     "metadata": {},
     "output_type": "execute_result"
    },
    {
     "data": {
      "image/png": "[encoded data removed]",
      "text/plain": [
       "<matplotlib.figure.Figure at 0x155c24320>"
      ]
     },
     "metadata": {},
     "output_type": "display_data"
    }
   ],
   "source": [
    "grid = sns.FacetGrid(sil_clusters, col=\"cluster\", col_wrap=5, col_order=col_order_sum)\n",
    "grid.map(plt.plot, 'sil')"
   ]
  },
  {
   "cell_type": "code",
   "execution_count": 656,
   "metadata": {
    "collapsed": false
   },
   "outputs": [
    {
     "name": "stdout",
     "output_type": "stream",
     "text": [
      "[22, 18, 24, 7, 15, 19, 8, 4, 10, 2, 0, 20, 21, 6, 13, 1, 12, 11, 9, 23, 5, 14, 17, 16, 25, 3]\n"
     ]
    }
   ],
   "source": [
    "grouped = sil_clusters.groupby('cluster')\n",
    "col_order_sum = list(grouped.aggregate({'sil': {'sum': sum}})['sil'].sort_values(by='sum', ascending=False).index)\n",
    "print(list(col_order_sum))"
   ]
  },
  {
   "cell_type": "code",
   "execution_count": 649,
   "metadata": {
    "collapsed": false
   },
   "outputs": [
    {
     "data": {
      "text/plain": [
       "<seaborn.axisgrid.FacetGrid at 0x150ccfac8>"
      ]
     },
     "execution_count": 649,
     "metadata": {},
     "output_type": "execute_result"
    },
    {
     "data": {
      "image/png": "[encoded data removed]",
      "text/plain": [
       "<matplotlib.figure.Figure at 0x150ce1390>"
      ]
     },
     "metadata": {},
     "output_type": "display_data"
    }
   ],
   "source": [
    "grid = sns.FacetGrid(sil_clusters, col=\"cluster\", col_wrap=5, col_order=col_order_sum)\n",
    "grid.map(plt.plot, 'sil')"
   ]
  },
  {
   "cell_type": "code",
   "execution_count": 650,
   "metadata": {
    "collapsed": false
   },
   "outputs": [
    {
     "name": "stdout",
     "output_type": "stream",
     "text": [
      "[24, 15, 22, 4, 9, 20, 7, 19, 21, 2, 18, 8, 0, 10, 11, 6, 3, 17, 16, 1, 12, 13, 23, 25, 5, 14]\n"
     ]
    }
   ],
   "source": [
    "col_order = list(sil_clusters.groupby('cluster')['sil'].max().sort_values(ascending=False).index)\n",
    "print(col_order)"
   ]
  },
  {
   "cell_type": "code",
   "execution_count": 651,
   "metadata": {
    "collapsed": false
   },
   "outputs": [
    {
     "data": {
      "text/plain": [
       "<seaborn.axisgrid.FacetGrid at 0x15227dc50>"
      ]
     },
     "execution_count": 651,
     "metadata": {},
     "output_type": "execute_result"
    },
    {
     "data": {
      "image/png": "[encoded data removed]",
      "text/plain": [
       "<matplotlib.figure.Figure at 0x15227dd68>"
      ]
     },
     "metadata": {},
     "output_type": "display_data"
    }
   ],
   "source": [
    "grid = sns.FacetGrid(sil_clusters, col=\"cluster\", col_wrap=5, col_order=col_order)\n",
    "grid.map(plt.plot, 'sil')"
   ]
  },
  {
   "cell_type": "code",
   "execution_count": 571,
   "metadata": {
    "collapsed": false
   },
   "outputs": [
    {
     "data": {
      "text/plain": [
       "<seaborn.axisgrid.FacetGrid at 0x14bcc9da0>"
      ]
     },
     "execution_count": 571,
     "metadata": {},
     "output_type": "execute_result"
    },
    {
     "data": {
      "image/png": "[encoded data removed]",
      "text/plain": [
       "<matplotlib.figure.Figure at 0x14bce0e80>"
      ]
     },
     "metadata": {},
     "output_type": "display_data"
    }
   ],
   "source": [
    "grid = sns.FacetGrid(sil_clusters, col=\"cluster\", col_wrap=5, col_order=col_order)\n",
    "grid.map(sns.boxplot, 'sil')"
   ]
  },
  {
   "cell_type": "code",
   "execution_count": null,
   "metadata": {
    "collapsed": true
   },
   "outputs": [],
   "source": []
  },
  {
   "cell_type": "code",
   "execution_count": null,
   "metadata": {
    "collapsed": true
   },
   "outputs": [],
   "source": []
  },
  {
   "cell_type": "code",
   "execution_count": null,
   "metadata": {
    "collapsed": true
   },
   "outputs": [],
   "source": []
  },
  {
   "cell_type": "code",
   "execution_count": null,
   "metadata": {
    "collapsed": true
   },
   "outputs": [],
   "source": []
  },
  {
   "cell_type": "code",
   "execution_count": 595,
   "metadata": {
    "collapsed": false
   },
   "outputs": [
    {
     "name": "stdout",
     "output_type": "stream",
     "text": [
      "Number of clusters = 2 .....avg silhouette coeff = 0.035, avg max = 0.142\n",
      "Number of clusters = 5 .....avg silhouette coeff = 0.026, avg max = 0.261\n",
      "Number of clusters = 8 .....avg silhouette coeff = 0.021, avg max = 0.255\n",
      "Number of clusters = 11 .....avg silhouette coeff = 0.019, avg max = 0.336\n",
      "Number of clusters = 14 .....avg silhouette coeff = 0.018, avg max = 0.490\n",
      "Number of clusters = 17 .....avg silhouette coeff = 0.019, avg max = 0.567\n",
      "Number of clusters = 20 .....avg silhouette coeff = 0.018, avg max = 0.468\n",
      "Number of clusters = 23 .....avg silhouette coeff = 0.019, avg max = 0.563\n",
      "Number of clusters = 26 .....avg silhouette coeff = 0.025, avg max = 0.512\n",
      "Number of clusters = 29 .....avg silhouette coeff = 0.018, avg max = 0.464\n",
      "Number of clusters = 32 .....avg silhouette coeff = 0.015, avg max = 0.511\n"
     ]
    }
   ],
   "source": [
    "sil_g = list()\n",
    "sil_max_g = list()\n",
    "for k in ks:\n",
    "    print('Number of clusters = {} '.format(k), end='')\n",
    "    sil_k = list()\n",
    "    sil_max_k = list()\n",
    "    for n in range(1, n_runs + 1):\n",
    "        print('.', end='')\n",
    "        kmeans_g = KMeans(n_clusters=k, init='random').fit(X_g)\n",
    "        sil_k.append(metrics.silhouette_score(X_g, kmeans_g.labels_, metric='euclidean'))\n",
    "        silhouette_samples = metrics.silhouette_samples(X_g, kmeans_g.labels_, metric='euclidean')\n",
    "        sil_max_k.append(max(silhouette_samples))\n",
    "    print('avg silhouette coeff = {:.3f}, avg max = {:.3f}' \\\n",
    "          .format(np.mean(sil_k), np.mean(sil_max_k)))\n",
    "    sil_g.append(sil_k)\n",
    "    sil_max_g.append(sil_max_k)"
   ]
  },
  {
   "cell_type": "code",
   "execution_count": 596,
   "metadata": {
    "collapsed": false
   },
   "outputs": [
    {
     "data": {
      "text/plain": [
       "<matplotlib.text.Text at 0x14ff4eef0>"
      ]
     },
     "execution_count": 596,
     "metadata": {},
     "output_type": "execute_result"
    },
    {
     "data": {
      "image/png": "[encoded data removed]",
      "text/plain": [
       "<matplotlib.figure.Figure at 0x14fe20048>"
      ]
     },
     "metadata": {},
     "output_type": "display_data"
    }
   ],
   "source": [
    "plt.figure(figsize=(15,5))\n",
    "a = plt.boxplot(sil_g, labels = ks)\n",
    "plt.xlabel('Number of the clusters')\n",
    "plt.title('The silhouette coefficient')\n",
    "# plt.savefig('../data/output/img/15-march-2hours-google-maxsil.jpg')"
   ]
  },
  {
   "cell_type": "code",
   "execution_count": 597,
   "metadata": {
    "collapsed": false
   },
   "outputs": [
    {
     "data": {
      "text/plain": [
       "<matplotlib.text.Text at 0x1502415f8>"
      ]
     },
     "execution_count": 597,
     "metadata": {},
     "output_type": "execute_result"
    },
    {
     "data": {
      "image/png": "[encoded data removed]",
      "text/plain": [
       "<matplotlib.figure.Figure at 0x1500f73c8>"
      ]
     },
     "metadata": {},
     "output_type": "display_data"
    }
   ],
   "source": [
    "plt.figure(figsize=(15,5))\n",
    "a = plt.boxplot(sil_max_g, labels = ks)\n",
    "plt.xlabel('Number of the clusters')\n",
    "plt.title('The max silhouette coefficient')"
   ]
  },
  {
   "cell_type": "code",
   "execution_count": null,
   "metadata": {
    "collapsed": true
   },
   "outputs": [],
   "source": []
  }
 ],
 "metadata": {
  "kernelspec": {
   "display_name": "Python [conda root]",
   "language": "python",
   "name": "conda-root-py"
  },
  "language_info": {
   "codemirror_mode": {
    "name": "ipython",
    "version": 3
   },
   "file_extension": ".py",
   "mimetype": "text/x-python",
   "name": "python",
   "nbconvert_exporter": "python",
   "pygments_lexer": "ipython3",
   "version": "3.5.2"
  }
 },
 "nbformat": 4,
 "nbformat_minor": 1
}
